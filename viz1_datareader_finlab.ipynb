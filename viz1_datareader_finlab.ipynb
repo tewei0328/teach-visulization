{
  "nbformat": 4,
  "nbformat_minor": 0,
  "metadata": {
    "colab": {
      "name": "viz1-datareader-finlab.ipynb",
      "provenance": [],
      "authorship_tag": "ABX9TyNsoISTRcxQJeILPNULGBgR",
      "include_colab_link": true
    },
    "kernelspec": {
      "name": "python3",
      "display_name": "Python 3"
    },
    "language_info": {
      "name": "python"
    }
  },
  "cells": [
    {
      "cell_type": "markdown",
      "metadata": {
        "id": "view-in-github",
        "colab_type": "text"
      },
      "source": [
        "<a href=\"https://colab.research.google.com/github/tewei0328/visulization/blob/main/viz1_datareader_finlab.ipynb\" target=\"_parent\"><img src=\"https://colab.research.google.com/assets/colab-badge.svg\" alt=\"Open In Colab\"/></a>"
      ]
    },
    {
      "cell_type": "markdown",
      "source": [
        "#台灣股市最強的 Python Package\n",
        "https://www.finlab.tw/%E5%8F%B0%E7%81%A3%E8%82%A1%E5%B8%82%E6%9C%80%E5%BC%B7%E7%9A%84-python-package/amp/"
      ],
      "metadata": {
        "id": "bQxJFMNfN4ET"
      }
    },
    {
      "cell_type": "code",
      "execution_count": null,
      "metadata": {
        "colab": {
          "base_uri": "https://localhost:8080/"
        },
        "id": "-OO8xyylNp5h",
        "outputId": "d6db863c-3ad8-4f67-db45-6a65f3891d44"
      },
      "outputs": [
        {
          "output_type": "stream",
          "name": "stdout",
          "text": [
            "Requirement already satisfied: finlab in /usr/local/lib/python3.7/dist-packages (0.2.3.dev1)\n",
            "Requirement already satisfied: pyarrow>=2.0.0 in /usr/local/lib/python3.7/dist-packages (from finlab) (6.0.1)\n",
            "Requirement already satisfied: requests in /usr/local/lib/python3.7/dist-packages (from finlab) (2.23.0)\n",
            "Requirement already satisfied: lz4 in /usr/local/lib/python3.7/dist-packages (from finlab) (4.0.0)\n",
            "Requirement already satisfied: Cython in /usr/local/lib/python3.7/dist-packages (from finlab) (0.29.28)\n",
            "Requirement already satisfied: pandas>=1.0.3 in /usr/local/lib/python3.7/dist-packages (from finlab) (1.3.5)\n",
            "Requirement already satisfied: numpy>=1.17.3 in /usr/local/lib/python3.7/dist-packages (from pandas>=1.0.3->finlab) (1.21.5)\n",
            "Requirement already satisfied: pytz>=2017.3 in /usr/local/lib/python3.7/dist-packages (from pandas>=1.0.3->finlab) (2018.9)\n",
            "Requirement already satisfied: python-dateutil>=2.7.3 in /usr/local/lib/python3.7/dist-packages (from pandas>=1.0.3->finlab) (2.8.2)\n",
            "Requirement already satisfied: six>=1.5 in /usr/local/lib/python3.7/dist-packages (from python-dateutil>=2.7.3->pandas>=1.0.3->finlab) (1.15.0)\n",
            "Requirement already satisfied: idna<3,>=2.5 in /usr/local/lib/python3.7/dist-packages (from requests->finlab) (2.10)\n",
            "Requirement already satisfied: urllib3!=1.25.0,!=1.25.1,<1.26,>=1.21.1 in /usr/local/lib/python3.7/dist-packages (from requests->finlab) (1.24.3)\n",
            "Requirement already satisfied: chardet<4,>=3.0.2 in /usr/local/lib/python3.7/dist-packages (from requests->finlab) (3.0.4)\n",
            "Requirement already satisfied: certifi>=2017.4.17 in /usr/local/lib/python3.7/dist-packages (from requests->finlab) (2021.10.8)\n"
          ]
        }
      ],
      "source": [
        "!pip install finlab"
      ]
    },
    {
      "cell_type": "code",
      "source": [
        "from finlab import data"
      ],
      "metadata": {
        "id": "uGpx1IkPOZov"
      },
      "execution_count": null,
      "outputs": []
    },
    {
      "cell_type": "markdown",
      "source": [
        "#以下指令要先登入google帳號, 並點複製, 再貼至token"
      ],
      "metadata": {
        "id": "9K8HXJolOy8A"
      }
    },
    {
      "cell_type": "code",
      "source": [
        "df=data.get('price:收盤價')"
      ],
      "metadata": {
        "id": "3gnd9JKPObZa"
      },
      "execution_count": null,
      "outputs": []
    },
    {
      "cell_type": "code",
      "source": [
        "df.head()"
      ],
      "metadata": {
        "colab": {
          "base_uri": "https://localhost:8080/",
          "height": 267
        },
        "id": "xWtygMN8PFzh",
        "outputId": "d614e21e-d744-4a6d-b980-bb8059b97053"
      },
      "execution_count": null,
      "outputs": [
        {
          "output_type": "execute_result",
          "data": {
            "text/plain": [
              "            0015   0050   0051   0052  0053  0054  0055  0056  0057  0058  \\\n",
              "date                                                                        \n",
              "2007-04-23  9.54  57.85  32.83  38.40   NaN   NaN   NaN   NaN   NaN   NaN   \n",
              "2007-04-24  9.54  58.10  32.99  38.65   NaN   NaN   NaN   NaN   NaN   NaN   \n",
              "2007-04-25  9.52  57.60  32.80  38.59   NaN   NaN   NaN   NaN   NaN   NaN   \n",
              "2007-04-26  9.59  57.70  32.80  38.60   NaN   NaN   NaN   NaN   NaN   NaN   \n",
              "2007-04-27  9.55  57.50  32.72  38.40   NaN   NaN   NaN   NaN   NaN   NaN   \n",
              "\n",
              "            ...  9944   9945   9946  9949   9950  9951  9955  9958  9960  9962  \n",
              "date        ...                                                                 \n",
              "2007-04-23  ...  31.0  30.35   9.78  73.6  13.25  51.3  72.4   NaN  46.0  49.6  \n",
              "2007-04-24  ...  32.0  30.50   9.91  75.0  13.25  50.5  71.6   NaN  45.9  50.4  \n",
              "2007-04-25  ...  32.3  29.50  10.10  74.6  13.30  49.9  71.6   NaN  49.1  49.1  \n",
              "2007-04-26  ...  31.6  29.15  10.80  74.5  13.25  49.5  71.0   NaN  48.9  48.0  \n",
              "2007-04-27  ...  31.4  28.50  11.55  75.7  13.15  48.8  69.5   NaN  48.6  46.5  \n",
              "\n",
              "[5 rows x 2315 columns]"
            ],
            "text/html": [
              "\n",
              "  <div id=\"df-b379f1d4-28d0-4eb1-b8ca-f14cd2266400\">\n",
              "    <div class=\"colab-df-container\">\n",
              "      <div>\n",
              "<style scoped>\n",
              "    .dataframe tbody tr th:only-of-type {\n",
              "        vertical-align: middle;\n",
              "    }\n",
              "\n",
              "    .dataframe tbody tr th {\n",
              "        vertical-align: top;\n",
              "    }\n",
              "\n",
              "    .dataframe thead th {\n",
              "        text-align: right;\n",
              "    }\n",
              "</style>\n",
              "<table border=\"1\" class=\"dataframe\">\n",
              "  <thead>\n",
              "    <tr style=\"text-align: right;\">\n",
              "      <th></th>\n",
              "      <th>0015</th>\n",
              "      <th>0050</th>\n",
              "      <th>0051</th>\n",
              "      <th>0052</th>\n",
              "      <th>0053</th>\n",
              "      <th>0054</th>\n",
              "      <th>0055</th>\n",
              "      <th>0056</th>\n",
              "      <th>0057</th>\n",
              "      <th>0058</th>\n",
              "      <th>...</th>\n",
              "      <th>9944</th>\n",
              "      <th>9945</th>\n",
              "      <th>9946</th>\n",
              "      <th>9949</th>\n",
              "      <th>9950</th>\n",
              "      <th>9951</th>\n",
              "      <th>9955</th>\n",
              "      <th>9958</th>\n",
              "      <th>9960</th>\n",
              "      <th>9962</th>\n",
              "    </tr>\n",
              "    <tr>\n",
              "      <th>date</th>\n",
              "      <th></th>\n",
              "      <th></th>\n",
              "      <th></th>\n",
              "      <th></th>\n",
              "      <th></th>\n",
              "      <th></th>\n",
              "      <th></th>\n",
              "      <th></th>\n",
              "      <th></th>\n",
              "      <th></th>\n",
              "      <th></th>\n",
              "      <th></th>\n",
              "      <th></th>\n",
              "      <th></th>\n",
              "      <th></th>\n",
              "      <th></th>\n",
              "      <th></th>\n",
              "      <th></th>\n",
              "      <th></th>\n",
              "      <th></th>\n",
              "      <th></th>\n",
              "    </tr>\n",
              "  </thead>\n",
              "  <tbody>\n",
              "    <tr>\n",
              "      <th>2007-04-23</th>\n",
              "      <td>9.54</td>\n",
              "      <td>57.85</td>\n",
              "      <td>32.83</td>\n",
              "      <td>38.40</td>\n",
              "      <td>NaN</td>\n",
              "      <td>NaN</td>\n",
              "      <td>NaN</td>\n",
              "      <td>NaN</td>\n",
              "      <td>NaN</td>\n",
              "      <td>NaN</td>\n",
              "      <td>...</td>\n",
              "      <td>31.0</td>\n",
              "      <td>30.35</td>\n",
              "      <td>9.78</td>\n",
              "      <td>73.6</td>\n",
              "      <td>13.25</td>\n",
              "      <td>51.3</td>\n",
              "      <td>72.4</td>\n",
              "      <td>NaN</td>\n",
              "      <td>46.0</td>\n",
              "      <td>49.6</td>\n",
              "    </tr>\n",
              "    <tr>\n",
              "      <th>2007-04-24</th>\n",
              "      <td>9.54</td>\n",
              "      <td>58.10</td>\n",
              "      <td>32.99</td>\n",
              "      <td>38.65</td>\n",
              "      <td>NaN</td>\n",
              "      <td>NaN</td>\n",
              "      <td>NaN</td>\n",
              "      <td>NaN</td>\n",
              "      <td>NaN</td>\n",
              "      <td>NaN</td>\n",
              "      <td>...</td>\n",
              "      <td>32.0</td>\n",
              "      <td>30.50</td>\n",
              "      <td>9.91</td>\n",
              "      <td>75.0</td>\n",
              "      <td>13.25</td>\n",
              "      <td>50.5</td>\n",
              "      <td>71.6</td>\n",
              "      <td>NaN</td>\n",
              "      <td>45.9</td>\n",
              "      <td>50.4</td>\n",
              "    </tr>\n",
              "    <tr>\n",
              "      <th>2007-04-25</th>\n",
              "      <td>9.52</td>\n",
              "      <td>57.60</td>\n",
              "      <td>32.80</td>\n",
              "      <td>38.59</td>\n",
              "      <td>NaN</td>\n",
              "      <td>NaN</td>\n",
              "      <td>NaN</td>\n",
              "      <td>NaN</td>\n",
              "      <td>NaN</td>\n",
              "      <td>NaN</td>\n",
              "      <td>...</td>\n",
              "      <td>32.3</td>\n",
              "      <td>29.50</td>\n",
              "      <td>10.10</td>\n",
              "      <td>74.6</td>\n",
              "      <td>13.30</td>\n",
              "      <td>49.9</td>\n",
              "      <td>71.6</td>\n",
              "      <td>NaN</td>\n",
              "      <td>49.1</td>\n",
              "      <td>49.1</td>\n",
              "    </tr>\n",
              "    <tr>\n",
              "      <th>2007-04-26</th>\n",
              "      <td>9.59</td>\n",
              "      <td>57.70</td>\n",
              "      <td>32.80</td>\n",
              "      <td>38.60</td>\n",
              "      <td>NaN</td>\n",
              "      <td>NaN</td>\n",
              "      <td>NaN</td>\n",
              "      <td>NaN</td>\n",
              "      <td>NaN</td>\n",
              "      <td>NaN</td>\n",
              "      <td>...</td>\n",
              "      <td>31.6</td>\n",
              "      <td>29.15</td>\n",
              "      <td>10.80</td>\n",
              "      <td>74.5</td>\n",
              "      <td>13.25</td>\n",
              "      <td>49.5</td>\n",
              "      <td>71.0</td>\n",
              "      <td>NaN</td>\n",
              "      <td>48.9</td>\n",
              "      <td>48.0</td>\n",
              "    </tr>\n",
              "    <tr>\n",
              "      <th>2007-04-27</th>\n",
              "      <td>9.55</td>\n",
              "      <td>57.50</td>\n",
              "      <td>32.72</td>\n",
              "      <td>38.40</td>\n",
              "      <td>NaN</td>\n",
              "      <td>NaN</td>\n",
              "      <td>NaN</td>\n",
              "      <td>NaN</td>\n",
              "      <td>NaN</td>\n",
              "      <td>NaN</td>\n",
              "      <td>...</td>\n",
              "      <td>31.4</td>\n",
              "      <td>28.50</td>\n",
              "      <td>11.55</td>\n",
              "      <td>75.7</td>\n",
              "      <td>13.15</td>\n",
              "      <td>48.8</td>\n",
              "      <td>69.5</td>\n",
              "      <td>NaN</td>\n",
              "      <td>48.6</td>\n",
              "      <td>46.5</td>\n",
              "    </tr>\n",
              "  </tbody>\n",
              "</table>\n",
              "<p>5 rows × 2315 columns</p>\n",
              "</div>\n",
              "      <button class=\"colab-df-convert\" onclick=\"convertToInteractive('df-b379f1d4-28d0-4eb1-b8ca-f14cd2266400')\"\n",
              "              title=\"Convert this dataframe to an interactive table.\"\n",
              "              style=\"display:none;\">\n",
              "        \n",
              "  <svg xmlns=\"http://www.w3.org/2000/svg\" height=\"24px\"viewBox=\"0 0 24 24\"\n",
              "       width=\"24px\">\n",
              "    <path d=\"M0 0h24v24H0V0z\" fill=\"none\"/>\n",
              "    <path d=\"M18.56 5.44l.94 2.06.94-2.06 2.06-.94-2.06-.94-.94-2.06-.94 2.06-2.06.94zm-11 1L8.5 8.5l.94-2.06 2.06-.94-2.06-.94L8.5 2.5l-.94 2.06-2.06.94zm10 10l.94 2.06.94-2.06 2.06-.94-2.06-.94-.94-2.06-.94 2.06-2.06.94z\"/><path d=\"M17.41 7.96l-1.37-1.37c-.4-.4-.92-.59-1.43-.59-.52 0-1.04.2-1.43.59L10.3 9.45l-7.72 7.72c-.78.78-.78 2.05 0 2.83L4 21.41c.39.39.9.59 1.41.59.51 0 1.02-.2 1.41-.59l7.78-7.78 2.81-2.81c.8-.78.8-2.07 0-2.86zM5.41 20L4 18.59l7.72-7.72 1.47 1.35L5.41 20z\"/>\n",
              "  </svg>\n",
              "      </button>\n",
              "      \n",
              "  <style>\n",
              "    .colab-df-container {\n",
              "      display:flex;\n",
              "      flex-wrap:wrap;\n",
              "      gap: 12px;\n",
              "    }\n",
              "\n",
              "    .colab-df-convert {\n",
              "      background-color: #E8F0FE;\n",
              "      border: none;\n",
              "      border-radius: 50%;\n",
              "      cursor: pointer;\n",
              "      display: none;\n",
              "      fill: #1967D2;\n",
              "      height: 32px;\n",
              "      padding: 0 0 0 0;\n",
              "      width: 32px;\n",
              "    }\n",
              "\n",
              "    .colab-df-convert:hover {\n",
              "      background-color: #E2EBFA;\n",
              "      box-shadow: 0px 1px 2px rgba(60, 64, 67, 0.3), 0px 1px 3px 1px rgba(60, 64, 67, 0.15);\n",
              "      fill: #174EA6;\n",
              "    }\n",
              "\n",
              "    [theme=dark] .colab-df-convert {\n",
              "      background-color: #3B4455;\n",
              "      fill: #D2E3FC;\n",
              "    }\n",
              "\n",
              "    [theme=dark] .colab-df-convert:hover {\n",
              "      background-color: #434B5C;\n",
              "      box-shadow: 0px 1px 3px 1px rgba(0, 0, 0, 0.15);\n",
              "      filter: drop-shadow(0px 1px 2px rgba(0, 0, 0, 0.3));\n",
              "      fill: #FFFFFF;\n",
              "    }\n",
              "  </style>\n",
              "\n",
              "      <script>\n",
              "        const buttonEl =\n",
              "          document.querySelector('#df-b379f1d4-28d0-4eb1-b8ca-f14cd2266400 button.colab-df-convert');\n",
              "        buttonEl.style.display =\n",
              "          google.colab.kernel.accessAllowed ? 'block' : 'none';\n",
              "\n",
              "        async function convertToInteractive(key) {\n",
              "          const element = document.querySelector('#df-b379f1d4-28d0-4eb1-b8ca-f14cd2266400');\n",
              "          const dataTable =\n",
              "            await google.colab.kernel.invokeFunction('convertToInteractive',\n",
              "                                                     [key], {});\n",
              "          if (!dataTable) return;\n",
              "\n",
              "          const docLinkHtml = 'Like what you see? Visit the ' +\n",
              "            '<a target=\"_blank\" href=https://colab.research.google.com/notebooks/data_table.ipynb>data table notebook</a>'\n",
              "            + ' to learn more about interactive tables.';\n",
              "          element.innerHTML = '';\n",
              "          dataTable['output_type'] = 'display_data';\n",
              "          await google.colab.output.renderOutput(dataTable, element);\n",
              "          const docLink = document.createElement('div');\n",
              "          docLink.innerHTML = docLinkHtml;\n",
              "          element.appendChild(docLink);\n",
              "        }\n",
              "      </script>\n",
              "    </div>\n",
              "  </div>\n",
              "  "
            ]
          },
          "metadata": {},
          "execution_count": 6
        }
      ]
    },
    {
      "cell_type": "code",
      "source": [
        "df.to_csv('twii-all.csv')"
      ],
      "metadata": {
        "id": "oq95tT6APLx-"
      },
      "execution_count": null,
      "outputs": []
    },
    {
      "cell_type": "code",
      "source": [
        "df[['0050','0056','2303','2330','2317']].plot()"
      ],
      "metadata": {
        "colab": {
          "base_uri": "https://localhost:8080/",
          "height": 287
        },
        "id": "4lqjmBkIQTnU",
        "outputId": "39a39dc5-d24d-4d22-bb68-aaab47f2ef6d"
      },
      "execution_count": 12,
      "outputs": [
        {
          "output_type": "execute_result",
          "data": {
            "text/plain": [
              "<matplotlib.axes._subplots.AxesSubplot at 0x7f27f27e2590>"
            ]
          },
          "metadata": {},
          "execution_count": 12
        },
        {
          "output_type": "display_data",
          "data": {
            "text/plain": [
              "<Figure size 432x288 with 1 Axes>"
            ],
            "image/png": "[encoded data removed]"
          },
          "metadata": {
            "needs_background": "light"
          }
        }
      ]
    },
    {
      "cell_type": "code",
      "source": [
        ""
      ],
      "metadata": {
        "id": "0QHHKFr3QXvo"
      },
      "execution_count": null,
      "outputs": []
    }
  ]
}