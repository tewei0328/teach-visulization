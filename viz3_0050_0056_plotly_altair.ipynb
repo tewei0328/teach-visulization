{
  "nbformat": 4,
  "nbformat_minor": 0,
  "metadata": {
    "colab": {
      "name": "viz3-0050-0056-plotly-altair.ipynb",
      "provenance": [],
      "authorship_tag": "ABX9TyO/f6lY3K9O3XOUGUoWXxvO",
      "include_colab_link": true
    },
    "kernelspec": {
      "name": "python3",
      "display_name": "Python 3"
    },
    "language_info": {
      "name": "python"
    }
  },
  "cells": [
    {
      "cell_type": "markdown",
      "metadata": {
        "id": "view-in-github",
        "colab_type": "text"
      },
      "source": [
        "<a href=\"https://colab.research.google.com/github/tewei0328/visulization/blob/main/viz3_0050_0056_plotly_altair.ipynb\" target=\"_parent\"><img src=\"https://colab.research.google.com/assets/colab-badge.svg\" alt=\"Open In Colab\"/></a>"
      ]
    },
    {
      "cell_type": "code",
      "execution_count": 1,
      "metadata": {
        "colab": {
          "base_uri": "https://localhost:8080/"
        },
        "id": "oxMvZlBBy-km",
        "outputId": "c246c62a-f78d-43a7-8f1d-77d4554418f7"
      },
      "outputs": [
        {
          "output_type": "stream",
          "name": "stdout",
          "text": [
            "Collecting yfinance\n",
            "  Downloading yfinance-0.1.70-py2.py3-none-any.whl (26 kB)\n",
            "Collecting lxml>=4.5.1\n",
            "  Downloading lxml-4.8.0-cp37-cp37m-manylinux_2_17_x86_64.manylinux2014_x86_64.manylinux_2_24_x86_64.whl (6.4 MB)\n",
            "\u001b[K     |████████████████████████████████| 6.4 MB 4.7 MB/s \n",
            "\u001b[?25hRequirement already satisfied: pandas>=0.24.0 in /usr/local/lib/python3.7/dist-packages (from yfinance) (1.3.5)\n",
            "Requirement already satisfied: numpy>=1.15 in /usr/local/lib/python3.7/dist-packages (from yfinance) (1.21.5)\n",
            "Requirement already satisfied: multitasking>=0.0.7 in /usr/local/lib/python3.7/dist-packages (from yfinance) (0.0.10)\n",
            "Collecting requests>=2.26\n",
            "  Downloading requests-2.27.1-py2.py3-none-any.whl (63 kB)\n",
            "\u001b[K     |████████████████████████████████| 63 kB 1.7 MB/s \n",
            "\u001b[?25hRequirement already satisfied: python-dateutil>=2.7.3 in /usr/local/lib/python3.7/dist-packages (from pandas>=0.24.0->yfinance) (2.8.2)\n",
            "Requirement already satisfied: pytz>=2017.3 in /usr/local/lib/python3.7/dist-packages (from pandas>=0.24.0->yfinance) (2018.9)\n",
            "Requirement already satisfied: six>=1.5 in /usr/local/lib/python3.7/dist-packages (from python-dateutil>=2.7.3->pandas>=0.24.0->yfinance) (1.15.0)\n",
            "Requirement already satisfied: urllib3<1.27,>=1.21.1 in /usr/local/lib/python3.7/dist-packages (from requests>=2.26->yfinance) (1.24.3)\n",
            "Requirement already satisfied: idna<4,>=2.5 in /usr/local/lib/python3.7/dist-packages (from requests>=2.26->yfinance) (2.10)\n",
            "Requirement already satisfied: charset-normalizer~=2.0.0 in /usr/local/lib/python3.7/dist-packages (from requests>=2.26->yfinance) (2.0.12)\n",
            "Requirement already satisfied: certifi>=2017.4.17 in /usr/local/lib/python3.7/dist-packages (from requests>=2.26->yfinance) (2021.10.8)\n",
            "Installing collected packages: requests, lxml, yfinance\n",
            "  Attempting uninstall: requests\n",
            "    Found existing installation: requests 2.23.0\n",
            "    Uninstalling requests-2.23.0:\n",
            "      Successfully uninstalled requests-2.23.0\n",
            "  Attempting uninstall: lxml\n",
            "    Found existing installation: lxml 4.2.6\n",
            "    Uninstalling lxml-4.2.6:\n",
            "      Successfully uninstalled lxml-4.2.6\n",
            "\u001b[31mERROR: pip's dependency resolver does not currently take into account all the packages that are installed. This behaviour is the source of the following dependency conflicts.\n",
            "google-colab 1.0.0 requires requests~=2.23.0, but you have requests 2.27.1 which is incompatible.\n",
            "datascience 0.10.6 requires folium==0.2.1, but you have folium 0.8.3 which is incompatible.\u001b[0m\n",
            "Successfully installed lxml-4.8.0 requests-2.27.1 yfinance-0.1.70\n"
          ]
        }
      ],
      "source": [
        "!pip install yfinance"
      ]
    },
    {
      "cell_type": "markdown",
      "source": [
        "#Yahoo Finance\n",
        "https://finance.yahoo.com/world-indices"
      ],
      "metadata": {
        "id": "p8Dycjsr-7Ec"
      }
    },
    {
      "cell_type": "code",
      "source": [
        "import yfinance\n",
        "stock1=yfinance.Ticker('0050.TW')\n",
        "df1=stock1.history(period='1y')\n",
        "df1.head()"
      ],
      "metadata": {
        "colab": {
          "base_uri": "https://localhost:8080/",
          "height": 238
        },
        "id": "rJIVTutt2VYN",
        "outputId": "cded3e36-18fa-49f3-cb5d-a242bdd83f6e"
      },
      "execution_count": 2,
      "outputs": [
        {
          "output_type": "execute_result",
          "data": {
            "text/plain": [
              "                  Open        High         Low       Close    Volume  \\\n",
              "Date                                                                   \n",
              "2021-03-18  135.100006  136.050003  134.800003  134.899994   6904704   \n",
              "2021-03-19  133.449997  133.500000  132.300003  132.800003   9925322   \n",
              "2021-03-22  132.399994  133.600006  131.600006  133.399994   5306034   \n",
              "2021-03-23  133.899994  134.699997  133.600006  133.600006   6866901   \n",
              "2021-03-24  131.800003  132.449997  131.300003  131.500000  10243129   \n",
              "\n",
              "            Dividends  Stock Splits  \n",
              "Date                                 \n",
              "2021-03-18          0             0  \n",
              "2021-03-19          0             0  \n",
              "2021-03-22          0             0  \n",
              "2021-03-23          0             0  \n",
              "2021-03-24          0             0  "
            ],
            "text/html": [
              "\n",
              "  <div id=\"df-089be74a-8aa4-4123-b609-1c5c2f396735\">\n",
              "    <div class=\"colab-df-container\">\n",
              "      <div>\n",
              "<style scoped>\n",
              "    .dataframe tbody tr th:only-of-type {\n",
              "        vertical-align: middle;\n",
              "    }\n",
              "\n",
              "    .dataframe tbody tr th {\n",
              "        vertical-align: top;\n",
              "    }\n",
              "\n",
              "    .dataframe thead th {\n",
              "        text-align: right;\n",
              "    }\n",
              "</style>\n",
              "<table border=\"1\" class=\"dataframe\">\n",
              "  <thead>\n",
              "    <tr style=\"text-align: right;\">\n",
              "      <th></th>\n",
              "      <th>Open</th>\n",
              "      <th>High</th>\n",
              "      <th>Low</th>\n",
              "      <th>Close</th>\n",
              "      <th>Volume</th>\n",
              "      <th>Dividends</th>\n",
              "      <th>Stock Splits</th>\n",
              "    </tr>\n",
              "    <tr>\n",
              "      <th>Date</th>\n",
              "      <th></th>\n",
              "      <th></th>\n",
              "      <th></th>\n",
              "      <th></th>\n",
              "      <th></th>\n",
              "      <th></th>\n",
              "      <th></th>\n",
              "    </tr>\n",
              "  </thead>\n",
              "  <tbody>\n",
              "    <tr>\n",
              "      <th>2021-03-18</th>\n",
              "      <td>135.100006</td>\n",
              "      <td>136.050003</td>\n",
              "      <td>134.800003</td>\n",
              "      <td>134.899994</td>\n",
              "      <td>6904704</td>\n",
              "      <td>0</td>\n",
              "      <td>0</td>\n",
              "    </tr>\n",
              "    <tr>\n",
              "      <th>2021-03-19</th>\n",
              "      <td>133.449997</td>\n",
              "      <td>133.500000</td>\n",
              "      <td>132.300003</td>\n",
              "      <td>132.800003</td>\n",
              "      <td>9925322</td>\n",
              "      <td>0</td>\n",
              "      <td>0</td>\n",
              "    </tr>\n",
              "    <tr>\n",
              "      <th>2021-03-22</th>\n",
              "      <td>132.399994</td>\n",
              "      <td>133.600006</td>\n",
              "      <td>131.600006</td>\n",
              "      <td>133.399994</td>\n",
              "      <td>5306034</td>\n",
              "      <td>0</td>\n",
              "      <td>0</td>\n",
              "    </tr>\n",
              "    <tr>\n",
              "      <th>2021-03-23</th>\n",
              "      <td>133.899994</td>\n",
              "      <td>134.699997</td>\n",
              "      <td>133.600006</td>\n",
              "      <td>133.600006</td>\n",
              "      <td>6866901</td>\n",
              "      <td>0</td>\n",
              "      <td>0</td>\n",
              "    </tr>\n",
              "    <tr>\n",
              "      <th>2021-03-24</th>\n",
              "      <td>131.800003</td>\n",
              "      <td>132.449997</td>\n",
              "      <td>131.300003</td>\n",
              "      <td>131.500000</td>\n",
              "      <td>10243129</td>\n",
              "      <td>0</td>\n",
              "      <td>0</td>\n",
              "    </tr>\n",
              "  </tbody>\n",
              "</table>\n",
              "</div>\n",
              "      <button class=\"colab-df-convert\" onclick=\"convertToInteractive('df-089be74a-8aa4-4123-b609-1c5c2f396735')\"\n",
              "              title=\"Convert this dataframe to an interactive table.\"\n",
              "              style=\"display:none;\">\n",
              "        \n",
              "  <svg xmlns=\"http://www.w3.org/2000/svg\" height=\"24px\"viewBox=\"0 0 24 24\"\n",
              "       width=\"24px\">\n",
              "    <path d=\"M0 0h24v24H0V0z\" fill=\"none\"/>\n",
              "    <path d=\"M18.56 5.44l.94 2.06.94-2.06 2.06-.94-2.06-.94-.94-2.06-.94 2.06-2.06.94zm-11 1L8.5 8.5l.94-2.06 2.06-.94-2.06-.94L8.5 2.5l-.94 2.06-2.06.94zm10 10l.94 2.06.94-2.06 2.06-.94-2.06-.94-.94-2.06-.94 2.06-2.06.94z\"/><path d=\"M17.41 7.96l-1.37-1.37c-.4-.4-.92-.59-1.43-.59-.52 0-1.04.2-1.43.59L10.3 9.45l-7.72 7.72c-.78.78-.78 2.05 0 2.83L4 21.41c.39.39.9.59 1.41.59.51 0 1.02-.2 1.41-.59l7.78-7.78 2.81-2.81c.8-.78.8-2.07 0-2.86zM5.41 20L4 18.59l7.72-7.72 1.47 1.35L5.41 20z\"/>\n",
              "  </svg>\n",
              "      </button>\n",
              "      \n",
              "  <style>\n",
              "    .colab-df-container {\n",
              "      display:flex;\n",
              "      flex-wrap:wrap;\n",
              "      gap: 12px;\n",
              "    }\n",
              "\n",
              "    .colab-df-convert {\n",
              "      background-color: #E8F0FE;\n",
              "      border: none;\n",
              "      border-radius: 50%;\n",
              "      cursor: pointer;\n",
              "      display: none;\n",
              "      fill: #1967D2;\n",
              "      height: 32px;\n",
              "      padding: 0 0 0 0;\n",
              "      width: 32px;\n",
              "    }\n",
              "\n",
              "    .colab-df-convert:hover {\n",
              "      background-color: #E2EBFA;\n",
              "      box-shadow: 0px 1px 2px rgba(60, 64, 67, 0.3), 0px 1px 3px 1px rgba(60, 64, 67, 0.15);\n",
              "      fill: #174EA6;\n",
              "    }\n",
              "\n",
              "    [theme=dark] .colab-df-convert {\n",
              "      background-color: #3B4455;\n",
              "      fill: #D2E3FC;\n",
              "    }\n",
              "\n",
              "    [theme=dark] .colab-df-convert:hover {\n",
              "      background-color: #434B5C;\n",
              "      box-shadow: 0px 1px 3px 1px rgba(0, 0, 0, 0.15);\n",
              "      filter: drop-shadow(0px 1px 2px rgba(0, 0, 0, 0.3));\n",
              "      fill: #FFFFFF;\n",
              "    }\n",
              "  </style>\n",
              "\n",
              "      <script>\n",
              "        const buttonEl =\n",
              "          document.querySelector('#df-089be74a-8aa4-4123-b609-1c5c2f396735 button.colab-df-convert');\n",
              "        buttonEl.style.display =\n",
              "          google.colab.kernel.accessAllowed ? 'block' : 'none';\n",
              "\n",
              "        async function convertToInteractive(key) {\n",
              "          const element = document.querySelector('#df-089be74a-8aa4-4123-b609-1c5c2f396735');\n",
              "          const dataTable =\n",
              "            await google.colab.kernel.invokeFunction('convertToInteractive',\n",
              "                                                     [key], {});\n",
              "          if (!dataTable) return;\n",
              "\n",
              "          const docLinkHtml = 'Like what you see? Visit the ' +\n",
              "            '<a target=\"_blank\" href=https://colab.research.google.com/notebooks/data_table.ipynb>data table notebook</a>'\n",
              "            + ' to learn more about interactive tables.';\n",
              "          element.innerHTML = '';\n",
              "          dataTable['output_type'] = 'display_data';\n",
              "          await google.colab.output.renderOutput(dataTable, element);\n",
              "          const docLink = document.createElement('div');\n",
              "          docLink.innerHTML = docLinkHtml;\n",
              "          element.appendChild(docLink);\n",
              "        }\n",
              "      </script>\n",
              "    </div>\n",
              "  </div>\n",
              "  "
            ]
          },
          "metadata": {},
          "execution_count": 2
        }
      ]
    },
    {
      "cell_type": "code",
      "source": [
        "df1.Close.plot()"
      ],
      "metadata": {
        "colab": {
          "base_uri": "https://localhost:8080/",
          "height": 294
        },
        "id": "02F9Z-ed2VlM",
        "outputId": "dd69dfb1-2426-4327-b5ef-18acbf37ecf4"
      },
      "execution_count": 3,
      "outputs": [
        {
          "output_type": "execute_result",
          "data": {
            "text/plain": [
              "<matplotlib.axes._subplots.AxesSubplot at 0x7efd149f3ad0>"
            ]
          },
          "metadata": {},
          "execution_count": 3
        },
        {
          "output_type": "display_data",
          "data": {
            "text/plain": [
              "<Figure size 432x288 with 1 Axes>"
            ],
            "image/png": "[encoded data removed]"
          },
          "metadata": {
            "needs_background": "light"
          }
        }
      ]
    },
    {
      "cell_type": "code",
      "source": [
        "stock2=yfinance.Ticker('0056.TW')\n",
        "df2=stock2.history(period='1y')\n",
        "df2.head()\n",
        "df2.Close.plot()"
      ],
      "metadata": {
        "colab": {
          "base_uri": "https://localhost:8080/",
          "height": 294
        },
        "id": "xi0d9s9U2Vnk",
        "outputId": "74f33bd0-dd84-4aaa-a32d-389b72d615ff"
      },
      "execution_count": 4,
      "outputs": [
        {
          "output_type": "execute_result",
          "data": {
            "text/plain": [
              "<matplotlib.axes._subplots.AxesSubplot at 0x7efd148f1b90>"
            ]
          },
          "metadata": {},
          "execution_count": 4
        },
        {
          "output_type": "display_data",
          "data": {
            "text/plain": [
              "<Figure size 432x288 with 1 Axes>"
            ],
            "image/png": "[encoded data removed]"
          },
          "metadata": {
            "needs_background": "light"
          }
        }
      ]
    },
    {
      "cell_type": "code",
      "source": [
        "import pandas as pd\n",
        "df_many = pd.concat([df1.Close, df2.Close], axis=1)\n",
        "df_many.columns=['0050','0056']"
      ],
      "metadata": {
        "id": "Ujdc7vvT2VsM"
      },
      "execution_count": 5,
      "outputs": []
    },
    {
      "cell_type": "code",
      "source": [
        "df_many.head()"
      ],
      "metadata": {
        "colab": {
          "base_uri": "https://localhost:8080/",
          "height": 238
        },
        "id": "wbcz3zkl2Vu8",
        "outputId": "3ef4dea2-7897-4471-f7b5-8379f049ba57"
      },
      "execution_count": 6,
      "outputs": [
        {
          "output_type": "execute_result",
          "data": {
            "text/plain": [
              "                  0050       0056\n",
              "Date                             \n",
              "2021-03-18  134.899994  33.529999\n",
              "2021-03-19  132.800003  33.599998\n",
              "2021-03-22  133.399994  33.599998\n",
              "2021-03-23  133.600006  33.660000\n",
              "2021-03-24  131.500000  33.650002"
            ],
            "text/html": [
              "\n",
              "  <div id=\"df-f5d7ec1d-8bf3-4e92-9e32-7c3520340772\">\n",
              "    <div class=\"colab-df-container\">\n",
              "      <div>\n",
              "<style scoped>\n",
              "    .dataframe tbody tr th:only-of-type {\n",
              "        vertical-align: middle;\n",
              "    }\n",
              "\n",
              "    .dataframe tbody tr th {\n",
              "        vertical-align: top;\n",
              "    }\n",
              "\n",
              "    .dataframe thead th {\n",
              "        text-align: right;\n",
              "    }\n",
              "</style>\n",
              "<table border=\"1\" class=\"dataframe\">\n",
              "  <thead>\n",
              "    <tr style=\"text-align: right;\">\n",
              "      <th></th>\n",
              "      <th>0050</th>\n",
              "      <th>0056</th>\n",
              "    </tr>\n",
              "    <tr>\n",
              "      <th>Date</th>\n",
              "      <th></th>\n",
              "      <th></th>\n",
              "    </tr>\n",
              "  </thead>\n",
              "  <tbody>\n",
              "    <tr>\n",
              "      <th>2021-03-18</th>\n",
              "      <td>134.899994</td>\n",
              "      <td>33.529999</td>\n",
              "    </tr>\n",
              "    <tr>\n",
              "      <th>2021-03-19</th>\n",
              "      <td>132.800003</td>\n",
              "      <td>33.599998</td>\n",
              "    </tr>\n",
              "    <tr>\n",
              "      <th>2021-03-22</th>\n",
              "      <td>133.399994</td>\n",
              "      <td>33.599998</td>\n",
              "    </tr>\n",
              "    <tr>\n",
              "      <th>2021-03-23</th>\n",
              "      <td>133.600006</td>\n",
              "      <td>33.660000</td>\n",
              "    </tr>\n",
              "    <tr>\n",
              "      <th>2021-03-24</th>\n",
              "      <td>131.500000</td>\n",
              "      <td>33.650002</td>\n",
              "    </tr>\n",
              "  </tbody>\n",
              "</table>\n",
              "</div>\n",
              "      <button class=\"colab-df-convert\" onclick=\"convertToInteractive('df-f5d7ec1d-8bf3-4e92-9e32-7c3520340772')\"\n",
              "              title=\"Convert this dataframe to an interactive table.\"\n",
              "              style=\"display:none;\">\n",
              "        \n",
              "  <svg xmlns=\"http://www.w3.org/2000/svg\" height=\"24px\"viewBox=\"0 0 24 24\"\n",
              "       width=\"24px\">\n",
              "    <path d=\"M0 0h24v24H0V0z\" fill=\"none\"/>\n",
              "    <path d=\"M18.56 5.44l.94 2.06.94-2.06 2.06-.94-2.06-.94-.94-2.06-.94 2.06-2.06.94zm-11 1L8.5 8.5l.94-2.06 2.06-.94-2.06-.94L8.5 2.5l-.94 2.06-2.06.94zm10 10l.94 2.06.94-2.06 2.06-.94-2.06-.94-.94-2.06-.94 2.06-2.06.94z\"/><path d=\"M17.41 7.96l-1.37-1.37c-.4-.4-.92-.59-1.43-.59-.52 0-1.04.2-1.43.59L10.3 9.45l-7.72 7.72c-.78.78-.78 2.05 0 2.83L4 21.41c.39.39.9.59 1.41.59.51 0 1.02-.2 1.41-.59l7.78-7.78 2.81-2.81c.8-.78.8-2.07 0-2.86zM5.41 20L4 18.59l7.72-7.72 1.47 1.35L5.41 20z\"/>\n",
              "  </svg>\n",
              "      </button>\n",
              "      \n",
              "  <style>\n",
              "    .colab-df-container {\n",
              "      display:flex;\n",
              "      flex-wrap:wrap;\n",
              "      gap: 12px;\n",
              "    }\n",
              "\n",
              "    .colab-df-convert {\n",
              "      background-color: #E8F0FE;\n",
              "      border: none;\n",
              "      border-radius: 50%;\n",
              "      cursor: pointer;\n",
              "      display: none;\n",
              "      fill: #1967D2;\n",
              "      height: 32px;\n",
              "      padding: 0 0 0 0;\n",
              "      width: 32px;\n",
              "    }\n",
              "\n",
              "    .colab-df-convert:hover {\n",
              "      background-color: #E2EBFA;\n",
              "      box-shadow: 0px 1px 2px rgba(60, 64, 67, 0.3), 0px 1px 3px 1px rgba(60, 64, 67, 0.15);\n",
              "      fill: #174EA6;\n",
              "    }\n",
              "\n",
              "    [theme=dark] .colab-df-convert {\n",
              "      background-color: #3B4455;\n",
              "      fill: #D2E3FC;\n",
              "    }\n",
              "\n",
              "    [theme=dark] .colab-df-convert:hover {\n",
              "      background-color: #434B5C;\n",
              "      box-shadow: 0px 1px 3px 1px rgba(0, 0, 0, 0.15);\n",
              "      filter: drop-shadow(0px 1px 2px rgba(0, 0, 0, 0.3));\n",
              "      fill: #FFFFFF;\n",
              "    }\n",
              "  </style>\n",
              "\n",
              "      <script>\n",
              "        const buttonEl =\n",
              "          document.querySelector('#df-f5d7ec1d-8bf3-4e92-9e32-7c3520340772 button.colab-df-convert');\n",
              "        buttonEl.style.display =\n",
              "          google.colab.kernel.accessAllowed ? 'block' : 'none';\n",
              "\n",
              "        async function convertToInteractive(key) {\n",
              "          const element = document.querySelector('#df-f5d7ec1d-8bf3-4e92-9e32-7c3520340772');\n",
              "          const dataTable =\n",
              "            await google.colab.kernel.invokeFunction('convertToInteractive',\n",
              "                                                     [key], {});\n",
              "          if (!dataTable) return;\n",
              "\n",
              "          const docLinkHtml = 'Like what you see? Visit the ' +\n",
              "            '<a target=\"_blank\" href=https://colab.research.google.com/notebooks/data_table.ipynb>data table notebook</a>'\n",
              "            + ' to learn more about interactive tables.';\n",
              "          element.innerHTML = '';\n",
              "          dataTable['output_type'] = 'display_data';\n",
              "          await google.colab.output.renderOutput(dataTable, element);\n",
              "          const docLink = document.createElement('div');\n",
              "          docLink.innerHTML = docLinkHtml;\n",
              "          element.appendChild(docLink);\n",
              "        }\n",
              "      </script>\n",
              "    </div>\n",
              "  </div>\n",
              "  "
            ]
          },
          "metadata": {},
          "execution_count": 6
        }
      ]
    },
    {
      "cell_type": "code",
      "source": [
        "df_many.plot()"
      ],
      "metadata": {
        "colab": {
          "base_uri": "https://localhost:8080/",
          "height": 294
        },
        "id": "0JWzyJVK93AK",
        "outputId": "0d0d879b-976f-4cb6-ca77-e94083d211ce"
      },
      "execution_count": 7,
      "outputs": [
        {
          "output_type": "execute_result",
          "data": {
            "text/plain": [
              "<matplotlib.axes._subplots.AxesSubplot at 0x7efd143b5790>"
            ]
          },
          "metadata": {},
          "execution_count": 7
        },
        {
          "output_type": "display_data",
          "data": {
            "text/plain": [
              "<Figure size 432x288 with 1 Axes>"
            ],
            "image/png": "[encoded data removed]"
          },
          "metadata": {
            "needs_background": "light"
          }
        }
      ]
    },
    {
      "cell_type": "code",
      "source": [
        "df_many['0050']=df_many['0050']/df_many.iloc[0][0]\n",
        "df_many['0056']=df_many['0056']/df_many.iloc[0][1]"
      ],
      "metadata": {
        "id": "z2EjMH_Q-Y8e"
      },
      "execution_count": 8,
      "outputs": []
    },
    {
      "cell_type": "code",
      "source": [
        "df_many.head()"
      ],
      "metadata": {
        "colab": {
          "base_uri": "https://localhost:8080/",
          "height": 238
        },
        "id": "zmyjfMDfAC0o",
        "outputId": "1c4cbe0b-8ae5-4927-c409-c2e5b1ec5fee"
      },
      "execution_count": 9,
      "outputs": [
        {
          "output_type": "execute_result",
          "data": {
            "text/plain": [
              "                0050      0056\n",
              "Date                          \n",
              "2021-03-18  1.000000  1.000000\n",
              "2021-03-19  0.984433  1.002088\n",
              "2021-03-22  0.988881  1.002088\n",
              "2021-03-23  0.990363  1.003877\n",
              "2021-03-24  0.974796  1.003579"
            ],
            "text/html": [
              "\n",
              "  <div id=\"df-e9f08de5-40bc-44d3-ba11-5cdce2a587fc\">\n",
              "    <div class=\"colab-df-container\">\n",
              "      <div>\n",
              "<style scoped>\n",
              "    .dataframe tbody tr th:only-of-type {\n",
              "        vertical-align: middle;\n",
              "    }\n",
              "\n",
              "    .dataframe tbody tr th {\n",
              "        vertical-align: top;\n",
              "    }\n",
              "\n",
              "    .dataframe thead th {\n",
              "        text-align: right;\n",
              "    }\n",
              "</style>\n",
              "<table border=\"1\" class=\"dataframe\">\n",
              "  <thead>\n",
              "    <tr style=\"text-align: right;\">\n",
              "      <th></th>\n",
              "      <th>0050</th>\n",
              "      <th>0056</th>\n",
              "    </tr>\n",
              "    <tr>\n",
              "      <th>Date</th>\n",
              "      <th></th>\n",
              "      <th></th>\n",
              "    </tr>\n",
              "  </thead>\n",
              "  <tbody>\n",
              "    <tr>\n",
              "      <th>2021-03-18</th>\n",
              "      <td>1.000000</td>\n",
              "      <td>1.000000</td>\n",
              "    </tr>\n",
              "    <tr>\n",
              "      <th>2021-03-19</th>\n",
              "      <td>0.984433</td>\n",
              "      <td>1.002088</td>\n",
              "    </tr>\n",
              "    <tr>\n",
              "      <th>2021-03-22</th>\n",
              "      <td>0.988881</td>\n",
              "      <td>1.002088</td>\n",
              "    </tr>\n",
              "    <tr>\n",
              "      <th>2021-03-23</th>\n",
              "      <td>0.990363</td>\n",
              "      <td>1.003877</td>\n",
              "    </tr>\n",
              "    <tr>\n",
              "      <th>2021-03-24</th>\n",
              "      <td>0.974796</td>\n",
              "      <td>1.003579</td>\n",
              "    </tr>\n",
              "  </tbody>\n",
              "</table>\n",
              "</div>\n",
              "      <button class=\"colab-df-convert\" onclick=\"convertToInteractive('df-e9f08de5-40bc-44d3-ba11-5cdce2a587fc')\"\n",
              "              title=\"Convert this dataframe to an interactive table.\"\n",
              "              style=\"display:none;\">\n",
              "        \n",
              "  <svg xmlns=\"http://www.w3.org/2000/svg\" height=\"24px\"viewBox=\"0 0 24 24\"\n",
              "       width=\"24px\">\n",
              "    <path d=\"M0 0h24v24H0V0z\" fill=\"none\"/>\n",
              "    <path d=\"M18.56 5.44l.94 2.06.94-2.06 2.06-.94-2.06-.94-.94-2.06-.94 2.06-2.06.94zm-11 1L8.5 8.5l.94-2.06 2.06-.94-2.06-.94L8.5 2.5l-.94 2.06-2.06.94zm10 10l.94 2.06.94-2.06 2.06-.94-2.06-.94-.94-2.06-.94 2.06-2.06.94z\"/><path d=\"M17.41 7.96l-1.37-1.37c-.4-.4-.92-.59-1.43-.59-.52 0-1.04.2-1.43.59L10.3 9.45l-7.72 7.72c-.78.78-.78 2.05 0 2.83L4 21.41c.39.39.9.59 1.41.59.51 0 1.02-.2 1.41-.59l7.78-7.78 2.81-2.81c.8-.78.8-2.07 0-2.86zM5.41 20L4 18.59l7.72-7.72 1.47 1.35L5.41 20z\"/>\n",
              "  </svg>\n",
              "      </button>\n",
              "      \n",
              "  <style>\n",
              "    .colab-df-container {\n",
              "      display:flex;\n",
              "      flex-wrap:wrap;\n",
              "      gap: 12px;\n",
              "    }\n",
              "\n",
              "    .colab-df-convert {\n",
              "      background-color: #E8F0FE;\n",
              "      border: none;\n",
              "      border-radius: 50%;\n",
              "      cursor: pointer;\n",
              "      display: none;\n",
              "      fill: #1967D2;\n",
              "      height: 32px;\n",
              "      padding: 0 0 0 0;\n",
              "      width: 32px;\n",
              "    }\n",
              "\n",
              "    .colab-df-convert:hover {\n",
              "      background-color: #E2EBFA;\n",
              "      box-shadow: 0px 1px 2px rgba(60, 64, 67, 0.3), 0px 1px 3px 1px rgba(60, 64, 67, 0.15);\n",
              "      fill: #174EA6;\n",
              "    }\n",
              "\n",
              "    [theme=dark] .colab-df-convert {\n",
              "      background-color: #3B4455;\n",
              "      fill: #D2E3FC;\n",
              "    }\n",
              "\n",
              "    [theme=dark] .colab-df-convert:hover {\n",
              "      background-color: #434B5C;\n",
              "      box-shadow: 0px 1px 3px 1px rgba(0, 0, 0, 0.15);\n",
              "      filter: drop-shadow(0px 1px 2px rgba(0, 0, 0, 0.3));\n",
              "      fill: #FFFFFF;\n",
              "    }\n",
              "  </style>\n",
              "\n",
              "      <script>\n",
              "        const buttonEl =\n",
              "          document.querySelector('#df-e9f08de5-40bc-44d3-ba11-5cdce2a587fc button.colab-df-convert');\n",
              "        buttonEl.style.display =\n",
              "          google.colab.kernel.accessAllowed ? 'block' : 'none';\n",
              "\n",
              "        async function convertToInteractive(key) {\n",
              "          const element = document.querySelector('#df-e9f08de5-40bc-44d3-ba11-5cdce2a587fc');\n",
              "          const dataTable =\n",
              "            await google.colab.kernel.invokeFunction('convertToInteractive',\n",
              "                                                     [key], {});\n",
              "          if (!dataTable) return;\n",
              "\n",
              "          const docLinkHtml = 'Like what you see? Visit the ' +\n",
              "            '<a target=\"_blank\" href=https://colab.research.google.com/notebooks/data_table.ipynb>data table notebook</a>'\n",
              "            + ' to learn more about interactive tables.';\n",
              "          element.innerHTML = '';\n",
              "          dataTable['output_type'] = 'display_data';\n",
              "          await google.colab.output.renderOutput(dataTable, element);\n",
              "          const docLink = document.createElement('div');\n",
              "          docLink.innerHTML = docLinkHtml;\n",
              "          element.appendChild(docLink);\n",
              "        }\n",
              "      </script>\n",
              "    </div>\n",
              "  </div>\n",
              "  "
            ]
          },
          "metadata": {},
          "execution_count": 9
        }
      ]
    },
    {
      "cell_type": "code",
      "source": [
        "df_many.plot()"
      ],
      "metadata": {
        "colab": {
          "base_uri": "https://localhost:8080/",
          "height": 294
        },
        "id": "9TF4mioI_zGX",
        "outputId": "73a1bd3e-6f02-4945-b510-435f1b601d3e"
      },
      "execution_count": 10,
      "outputs": [
        {
          "output_type": "execute_result",
          "data": {
            "text/plain": [
              "<matplotlib.axes._subplots.AxesSubplot at 0x7efd14341910>"
            ]
          },
          "metadata": {},
          "execution_count": 10
        },
        {
          "output_type": "display_data",
          "data": {
            "text/plain": [
              "<Figure size 432x288 with 1 Axes>"
            ],
            "image/png": "[encoded data removed]"
          },
          "metadata": {
            "needs_background": "light"
          }
        }
      ]
    },
    {
      "cell_type": "markdown",
      "source": [
        "#畫Plotly版互動圖\n",
        "##要有Date欄位才可"
      ],
      "metadata": {
        "id": "y4E2hphckpub"
      }
    },
    {
      "cell_type": "code",
      "source": [
        "df=df_many"
      ],
      "metadata": {
        "id": "JuNeGm3HkFIC"
      },
      "execution_count": 11,
      "outputs": []
    },
    {
      "cell_type": "code",
      "source": [
        "df.head()"
      ],
      "metadata": {
        "colab": {
          "base_uri": "https://localhost:8080/",
          "height": 238
        },
        "id": "G1l2cautkMQV",
        "outputId": "90ecd04c-2bc4-44a6-dbf2-415c5bf00fca"
      },
      "execution_count": 12,
      "outputs": [
        {
          "output_type": "execute_result",
          "data": {
            "text/plain": [
              "                0050      0056\n",
              "Date                          \n",
              "2021-03-18  1.000000  1.000000\n",
              "2021-03-19  0.984433  1.002088\n",
              "2021-03-22  0.988881  1.002088\n",
              "2021-03-23  0.990363  1.003877\n",
              "2021-03-24  0.974796  1.003579"
            ],
            "text/html": [
              "\n",
              "  <div id=\"df-27cb9df0-85ea-49dd-9838-9f21fc341088\">\n",
              "    <div class=\"colab-df-container\">\n",
              "      <div>\n",
              "<style scoped>\n",
              "    .dataframe tbody tr th:only-of-type {\n",
              "        vertical-align: middle;\n",
              "    }\n",
              "\n",
              "    .dataframe tbody tr th {\n",
              "        vertical-align: top;\n",
              "    }\n",
              "\n",
              "    .dataframe thead th {\n",
              "        text-align: right;\n",
              "    }\n",
              "</style>\n",
              "<table border=\"1\" class=\"dataframe\">\n",
              "  <thead>\n",
              "    <tr style=\"text-align: right;\">\n",
              "      <th></th>\n",
              "      <th>0050</th>\n",
              "      <th>0056</th>\n",
              "    </tr>\n",
              "    <tr>\n",
              "      <th>Date</th>\n",
              "      <th></th>\n",
              "      <th></th>\n",
              "    </tr>\n",
              "  </thead>\n",
              "  <tbody>\n",
              "    <tr>\n",
              "      <th>2021-03-18</th>\n",
              "      <td>1.000000</td>\n",
              "      <td>1.000000</td>\n",
              "    </tr>\n",
              "    <tr>\n",
              "      <th>2021-03-19</th>\n",
              "      <td>0.984433</td>\n",
              "      <td>1.002088</td>\n",
              "    </tr>\n",
              "    <tr>\n",
              "      <th>2021-03-22</th>\n",
              "      <td>0.988881</td>\n",
              "      <td>1.002088</td>\n",
              "    </tr>\n",
              "    <tr>\n",
              "      <th>2021-03-23</th>\n",
              "      <td>0.990363</td>\n",
              "      <td>1.003877</td>\n",
              "    </tr>\n",
              "    <tr>\n",
              "      <th>2021-03-24</th>\n",
              "      <td>0.974796</td>\n",
              "      <td>1.003579</td>\n",
              "    </tr>\n",
              "  </tbody>\n",
              "</table>\n",
              "</div>\n",
              "      <button class=\"colab-df-convert\" onclick=\"convertToInteractive('df-27cb9df0-85ea-49dd-9838-9f21fc341088')\"\n",
              "              title=\"Convert this dataframe to an interactive table.\"\n",
              "              style=\"display:none;\">\n",
              "        \n",
              "  <svg xmlns=\"http://www.w3.org/2000/svg\" height=\"24px\"viewBox=\"0 0 24 24\"\n",
              "       width=\"24px\">\n",
              "    <path d=\"M0 0h24v24H0V0z\" fill=\"none\"/>\n",
              "    <path d=\"M18.56 5.44l.94 2.06.94-2.06 2.06-.94-2.06-.94-.94-2.06-.94 2.06-2.06.94zm-11 1L8.5 8.5l.94-2.06 2.06-.94-2.06-.94L8.5 2.5l-.94 2.06-2.06.94zm10 10l.94 2.06.94-2.06 2.06-.94-2.06-.94-.94-2.06-.94 2.06-2.06.94z\"/><path d=\"M17.41 7.96l-1.37-1.37c-.4-.4-.92-.59-1.43-.59-.52 0-1.04.2-1.43.59L10.3 9.45l-7.72 7.72c-.78.78-.78 2.05 0 2.83L4 21.41c.39.39.9.59 1.41.59.51 0 1.02-.2 1.41-.59l7.78-7.78 2.81-2.81c.8-.78.8-2.07 0-2.86zM5.41 20L4 18.59l7.72-7.72 1.47 1.35L5.41 20z\"/>\n",
              "  </svg>\n",
              "      </button>\n",
              "      \n",
              "  <style>\n",
              "    .colab-df-container {\n",
              "      display:flex;\n",
              "      flex-wrap:wrap;\n",
              "      gap: 12px;\n",
              "    }\n",
              "\n",
              "    .colab-df-convert {\n",
              "      background-color: #E8F0FE;\n",
              "      border: none;\n",
              "      border-radius: 50%;\n",
              "      cursor: pointer;\n",
              "      display: none;\n",
              "      fill: #1967D2;\n",
              "      height: 32px;\n",
              "      padding: 0 0 0 0;\n",
              "      width: 32px;\n",
              "    }\n",
              "\n",
              "    .colab-df-convert:hover {\n",
              "      background-color: #E2EBFA;\n",
              "      box-shadow: 0px 1px 2px rgba(60, 64, 67, 0.3), 0px 1px 3px 1px rgba(60, 64, 67, 0.15);\n",
              "      fill: #174EA6;\n",
              "    }\n",
              "\n",
              "    [theme=dark] .colab-df-convert {\n",
              "      background-color: #3B4455;\n",
              "      fill: #D2E3FC;\n",
              "    }\n",
              "\n",
              "    [theme=dark] .colab-df-convert:hover {\n",
              "      background-color: #434B5C;\n",
              "      box-shadow: 0px 1px 3px 1px rgba(0, 0, 0, 0.15);\n",
              "      filter: drop-shadow(0px 1px 2px rgba(0, 0, 0, 0.3));\n",
              "      fill: #FFFFFF;\n",
              "    }\n",
              "  </style>\n",
              "\n",
              "      <script>\n",
              "        const buttonEl =\n",
              "          document.querySelector('#df-27cb9df0-85ea-49dd-9838-9f21fc341088 button.colab-df-convert');\n",
              "        buttonEl.style.display =\n",
              "          google.colab.kernel.accessAllowed ? 'block' : 'none';\n",
              "\n",
              "        async function convertToInteractive(key) {\n",
              "          const element = document.querySelector('#df-27cb9df0-85ea-49dd-9838-9f21fc341088');\n",
              "          const dataTable =\n",
              "            await google.colab.kernel.invokeFunction('convertToInteractive',\n",
              "                                                     [key], {});\n",
              "          if (!dataTable) return;\n",
              "\n",
              "          const docLinkHtml = 'Like what you see? Visit the ' +\n",
              "            '<a target=\"_blank\" href=https://colab.research.google.com/notebooks/data_table.ipynb>data table notebook</a>'\n",
              "            + ' to learn more about interactive tables.';\n",
              "          element.innerHTML = '';\n",
              "          dataTable['output_type'] = 'display_data';\n",
              "          await google.colab.output.renderOutput(dataTable, element);\n",
              "          const docLink = document.createElement('div');\n",
              "          docLink.innerHTML = docLinkHtml;\n",
              "          element.appendChild(docLink);\n",
              "        }\n",
              "      </script>\n",
              "    </div>\n",
              "  </div>\n",
              "  "
            ]
          },
          "metadata": {},
          "execution_count": 12
        }
      ]
    },
    {
      "cell_type": "code",
      "source": [
        "df['Date']=df.index"
      ],
      "metadata": {
        "id": "OFzl4cFfkOm3"
      },
      "execution_count": 13,
      "outputs": []
    },
    {
      "cell_type": "code",
      "source": [
        "df.head()"
      ],
      "metadata": {
        "colab": {
          "base_uri": "https://localhost:8080/",
          "height": 238
        },
        "id": "iplSf8NzkTIm",
        "outputId": "0ea5771b-967f-4a40-a103-5ef2b14f90c0"
      },
      "execution_count": 14,
      "outputs": [
        {
          "output_type": "execute_result",
          "data": {
            "text/plain": [
              "                0050      0056       Date\n",
              "Date                                     \n",
              "2021-03-18  1.000000  1.000000 2021-03-18\n",
              "2021-03-19  0.984433  1.002088 2021-03-19\n",
              "2021-03-22  0.988881  1.002088 2021-03-22\n",
              "2021-03-23  0.990363  1.003877 2021-03-23\n",
              "2021-03-24  0.974796  1.003579 2021-03-24"
            ],
            "text/html": [
              "\n",
              "  <div id=\"df-624ecadd-b271-476a-961f-8ec8ba6e15d0\">\n",
              "    <div class=\"colab-df-container\">\n",
              "      <div>\n",
              "<style scoped>\n",
              "    .dataframe tbody tr th:only-of-type {\n",
              "        vertical-align: middle;\n",
              "    }\n",
              "\n",
              "    .dataframe tbody tr th {\n",
              "        vertical-align: top;\n",
              "    }\n",
              "\n",
              "    .dataframe thead th {\n",
              "        text-align: right;\n",
              "    }\n",
              "</style>\n",
              "<table border=\"1\" class=\"dataframe\">\n",
              "  <thead>\n",
              "    <tr style=\"text-align: right;\">\n",
              "      <th></th>\n",
              "      <th>0050</th>\n",
              "      <th>0056</th>\n",
              "      <th>Date</th>\n",
              "    </tr>\n",
              "    <tr>\n",
              "      <th>Date</th>\n",
              "      <th></th>\n",
              "      <th></th>\n",
              "      <th></th>\n",
              "    </tr>\n",
              "  </thead>\n",
              "  <tbody>\n",
              "    <tr>\n",
              "      <th>2021-03-18</th>\n",
              "      <td>1.000000</td>\n",
              "      <td>1.000000</td>\n",
              "      <td>2021-03-18</td>\n",
              "    </tr>\n",
              "    <tr>\n",
              "      <th>2021-03-19</th>\n",
              "      <td>0.984433</td>\n",
              "      <td>1.002088</td>\n",
              "      <td>2021-03-19</td>\n",
              "    </tr>\n",
              "    <tr>\n",
              "      <th>2021-03-22</th>\n",
              "      <td>0.988881</td>\n",
              "      <td>1.002088</td>\n",
              "      <td>2021-03-22</td>\n",
              "    </tr>\n",
              "    <tr>\n",
              "      <th>2021-03-23</th>\n",
              "      <td>0.990363</td>\n",
              "      <td>1.003877</td>\n",
              "      <td>2021-03-23</td>\n",
              "    </tr>\n",
              "    <tr>\n",
              "      <th>2021-03-24</th>\n",
              "      <td>0.974796</td>\n",
              "      <td>1.003579</td>\n",
              "      <td>2021-03-24</td>\n",
              "    </tr>\n",
              "  </tbody>\n",
              "</table>\n",
              "</div>\n",
              "      <button class=\"colab-df-convert\" onclick=\"convertToInteractive('df-624ecadd-b271-476a-961f-8ec8ba6e15d0')\"\n",
              "              title=\"Convert this dataframe to an interactive table.\"\n",
              "              style=\"display:none;\">\n",
              "        \n",
              "  <svg xmlns=\"http://www.w3.org/2000/svg\" height=\"24px\"viewBox=\"0 0 24 24\"\n",
              "       width=\"24px\">\n",
              "    <path d=\"M0 0h24v24H0V0z\" fill=\"none\"/>\n",
              "    <path d=\"M18.56 5.44l.94 2.06.94-2.06 2.06-.94-2.06-.94-.94-2.06-.94 2.06-2.06.94zm-11 1L8.5 8.5l.94-2.06 2.06-.94-2.06-.94L8.5 2.5l-.94 2.06-2.06.94zm10 10l.94 2.06.94-2.06 2.06-.94-2.06-.94-.94-2.06-.94 2.06-2.06.94z\"/><path d=\"M17.41 7.96l-1.37-1.37c-.4-.4-.92-.59-1.43-.59-.52 0-1.04.2-1.43.59L10.3 9.45l-7.72 7.72c-.78.78-.78 2.05 0 2.83L4 21.41c.39.39.9.59 1.41.59.51 0 1.02-.2 1.41-.59l7.78-7.78 2.81-2.81c.8-.78.8-2.07 0-2.86zM5.41 20L4 18.59l7.72-7.72 1.47 1.35L5.41 20z\"/>\n",
              "  </svg>\n",
              "      </button>\n",
              "      \n",
              "  <style>\n",
              "    .colab-df-container {\n",
              "      display:flex;\n",
              "      flex-wrap:wrap;\n",
              "      gap: 12px;\n",
              "    }\n",
              "\n",
              "    .colab-df-convert {\n",
              "      background-color: #E8F0FE;\n",
              "      border: none;\n",
              "      border-radius: 50%;\n",
              "      cursor: pointer;\n",
              "      display: none;\n",
              "      fill: #1967D2;\n",
              "      height: 32px;\n",
              "      padding: 0 0 0 0;\n",
              "      width: 32px;\n",
              "    }\n",
              "\n",
              "    .colab-df-convert:hover {\n",
              "      background-color: #E2EBFA;\n",
              "      box-shadow: 0px 1px 2px rgba(60, 64, 67, 0.3), 0px 1px 3px 1px rgba(60, 64, 67, 0.15);\n",
              "      fill: #174EA6;\n",
              "    }\n",
              "\n",
              "    [theme=dark] .colab-df-convert {\n",
              "      background-color: #3B4455;\n",
              "      fill: #D2E3FC;\n",
              "    }\n",
              "\n",
              "    [theme=dark] .colab-df-convert:hover {\n",
              "      background-color: #434B5C;\n",
              "      box-shadow: 0px 1px 3px 1px rgba(0, 0, 0, 0.15);\n",
              "      filter: drop-shadow(0px 1px 2px rgba(0, 0, 0, 0.3));\n",
              "      fill: #FFFFFF;\n",
              "    }\n",
              "  </style>\n",
              "\n",
              "      <script>\n",
              "        const buttonEl =\n",
              "          document.querySelector('#df-624ecadd-b271-476a-961f-8ec8ba6e15d0 button.colab-df-convert');\n",
              "        buttonEl.style.display =\n",
              "          google.colab.kernel.accessAllowed ? 'block' : 'none';\n",
              "\n",
              "        async function convertToInteractive(key) {\n",
              "          const element = document.querySelector('#df-624ecadd-b271-476a-961f-8ec8ba6e15d0');\n",
              "          const dataTable =\n",
              "            await google.colab.kernel.invokeFunction('convertToInteractive',\n",
              "                                                     [key], {});\n",
              "          if (!dataTable) return;\n",
              "\n",
              "          const docLinkHtml = 'Like what you see? Visit the ' +\n",
              "            '<a target=\"_blank\" href=https://colab.research.google.com/notebooks/data_table.ipynb>data table notebook</a>'\n",
              "            + ' to learn more about interactive tables.';\n",
              "          element.innerHTML = '';\n",
              "          dataTable['output_type'] = 'display_data';\n",
              "          await google.colab.output.renderOutput(dataTable, element);\n",
              "          const docLink = document.createElement('div');\n",
              "          docLink.innerHTML = docLinkHtml;\n",
              "          element.appendChild(docLink);\n",
              "        }\n",
              "      </script>\n",
              "    </div>\n",
              "  </div>\n",
              "  "
            ]
          },
          "metadata": {},
          "execution_count": 14
        }
      ]
    },
    {
      "cell_type": "code",
      "source": [
        "import plotly.graph_objects as go\n",
        "line1 = go.Scatter(x=df['Date'], y=df['0050'], name='0050')\n",
        "fig  = go.Figure(line1)\n",
        "fig.show()"
      ],
      "metadata": {
        "id": "mGBQGXHF_1xu",
        "colab": {
          "base_uri": "https://localhost:8080/",
          "height": 542
        },
        "outputId": "1d8a9fff-8897-4b4e-f2b9-6d99b6a985f3"
      },
      "execution_count": 15,
      "outputs": [
        {
          "output_type": "display_data",
          "data": {
            "text/html": [
              "<html>\n",
              "<head><meta charset=\"utf-8\" /></head>\n",
              "<body>\n",
              "    <div>            <script src=\"https://cdnjs.cloudflare.com/ajax/libs/mathjax/2.7.5/MathJax.js?config=TeX-AMS-MML_SVG\"></script><script type=\"text/javascript\">if (window.MathJax) {MathJax.Hub.Config({SVG: {font: \"STIX-Web\"}});}</script>                <script type=\"text/javascript\">window.PlotlyConfig = {MathJaxConfig: 'local'};</script>\n",
              "        <script src=\"https://cdn.plot.ly/plotly-2.8.3.min.js\"></script>                <div id=\"c2a71648-4ddd-4cbe-b757-5876864bbd86\" class=\"plotly-graph-div\" style=\"height:525px; width:100%;\"></div>            <script type=\"text/javascript\">                                    window.PLOTLYENV=window.PLOTLYENV || {};                                    if (document.getElementById(\"c2a71648-4ddd-4cbe-b757-5876864bbd86\")) {                    Plotly.newPlot(                        \"c2a71648-4ddd-4cbe-b757-5876864bbd86\",                        [{\"name\":\"0050\",\"x\":[\"2021-03-18T00:00:00\",\"2021-03-19T00:00:00\",\"2021-03-22T00:00:00\",\"2021-03-23T00:00:00\",\"2021-03-24T00:00:00\",\"2021-03-25T00:00:00\",\"2021-03-26T00:00:00\",\"2021-03-29T00:00:00\",\"2021-03-30T00:00:00\",\"2021-03-31T00:00:00\",\"2021-04-01T00:00:00\",\"2021-04-07T00:00:00\",\"2021-04-08T00:00:00\",\"2021-04-09T00:00:00\",\"2021-04-12T00:00:00\",\"2021-04-13T00:00:00\",\"2021-04-14T00:00:00\",\"2021-04-15T00:00:00\",\"2021-04-16T00:00:00\",\"2021-04-19T00:00:00\",\"2021-04-20T00:00:00\",\"2021-04-21T00:00:00\",\"2021-04-22T00:00:00\",\"2021-04-23T00:00:00\",\"2021-04-26T00:00:00\",\"2021-04-27T00:00:00\",\"2021-04-28T00:00:00\",\"2021-04-29T00:00:00\",\"2021-05-03T00:00:00\",\"2021-05-04T00:00:00\",\"2021-05-05T00:00:00\",\"2021-05-06T00:00:00\",\"2021-05-07T00:00:00\",\"2021-05-10T00:00:00\",\"2021-05-11T00:00:00\",\"2021-05-12T00:00:00\",\"2021-05-13T00:00:00\",\"2021-05-14T00:00:00\",\"2021-05-17T00:00:00\",\"2021-05-18T00:00:00\",\"2021-05-19T00:00:00\",\"2021-05-20T00:00:00\",\"2021-05-21T00:00:00\",\"2021-05-24T00:00:00\",\"2021-05-25T00:00:00\",\"2021-05-26T00:00:00\",\"2021-05-27T00:00:00\",\"2021-05-28T00:00:00\",\"2021-05-31T00:00:00\",\"2021-06-01T00:00:00\",\"2021-06-02T00:00:00\",\"2021-06-03T00:00:00\",\"2021-06-04T00:00:00\",\"2021-06-07T00:00:00\",\"2021-06-08T00:00:00\",\"2021-06-09T00:00:00\",\"2021-06-10T00:00:00\",\"2021-06-11T00:00:00\",\"2021-06-15T00:00:00\",\"2021-06-16T00:00:00\",\"2021-06-17T00:00:00\",\"2021-06-18T00:00:00\",\"2021-06-21T00:00:00\",\"2021-06-22T00:00:00\",\"2021-06-23T00:00:00\",\"2021-06-24T00:00:00\",\"2021-06-25T00:00:00\",\"2021-06-28T00:00:00\",\"2021-06-29T00:00:00\",\"2021-06-30T00:00:00\",\"2021-07-01T00:00:00\",\"2021-07-02T00:00:00\",\"2021-07-05T00:00:00\",\"2021-07-06T00:00:00\",\"2021-07-07T00:00:00\",\"2021-07-08T00:00:00\",\"2021-07-09T00:00:00\",\"2021-07-12T00:00:00\",\"2021-07-13T00:00:00\",\"2021-07-14T00:00:00\",\"2021-07-15T00:00:00\",\"2021-07-16T00:00:00\",\"2021-07-19T00:00:00\",\"2021-07-20T00:00:00\",\"2021-07-21T00:00:00\",\"2021-07-22T00:00:00\",\"2021-07-23T00:00:00\",\"2021-07-26T00:00:00\",\"2021-07-27T00:00:00\",\"2021-07-28T00:00:00\",\"2021-07-29T00:00:00\",\"2021-07-30T00:00:00\",\"2021-08-02T00:00:00\",\"2021-08-03T00:00:00\",\"2021-08-04T00:00:00\",\"2021-08-05T00:00:00\",\"2021-08-06T00:00:00\",\"2021-08-09T00:00:00\",\"2021-08-10T00:00:00\",\"2021-08-11T00:00:00\",\"2021-08-12T00:00:00\",\"2021-08-13T00:00:00\",\"2021-08-16T00:00:00\",\"2021-08-17T00:00:00\",\"2021-08-18T00:00:00\",\"2021-08-19T00:00:00\",\"2021-08-20T00:00:00\",\"2021-08-23T00:00:00\",\"2021-08-24T00:00:00\",\"2021-08-25T00:00:00\",\"2021-08-26T00:00:00\",\"2021-08-27T00:00:00\",\"2021-08-30T00:00:00\",\"2021-08-31T00:00:00\",\"2021-09-01T00:00:00\",\"2021-09-02T00:00:00\",\"2021-09-03T00:00:00\",\"2021-09-06T00:00:00\",\"2021-09-07T00:00:00\",\"2021-09-08T00:00:00\",\"2021-09-09T00:00:00\",\"2021-09-10T00:00:00\",\"2021-09-13T00:00:00\",\"2021-09-14T00:00:00\",\"2021-09-15T00:00:00\",\"2021-09-16T00:00:00\",\"2021-09-17T00:00:00\",\"2021-09-22T00:00:00\",\"2021-09-23T00:00:00\",\"2021-09-24T00:00:00\",\"2021-09-27T00:00:00\",\"2021-09-28T00:00:00\",\"2021-09-29T00:00:00\",\"2021-09-30T00:00:00\",\"2021-10-01T00:00:00\",\"2021-10-04T00:00:00\",\"2021-10-05T00:00:00\",\"2021-10-06T00:00:00\",\"2021-10-07T00:00:00\",\"2021-10-08T00:00:00\",\"2021-10-12T00:00:00\",\"2021-10-13T00:00:00\",\"2021-10-14T00:00:00\",\"2021-10-15T00:00:00\",\"2021-10-18T00:00:00\",\"2021-10-19T00:00:00\",\"2021-10-20T00:00:00\",\"2021-10-21T00:00:00\",\"2021-10-22T00:00:00\",\"2021-10-25T00:00:00\",\"2021-10-26T00:00:00\",\"2021-10-27T00:00:00\",\"2021-10-28T00:00:00\",\"2021-10-29T00:00:00\",\"2021-11-01T00:00:00\",\"2021-11-02T00:00:00\",\"2021-11-03T00:00:00\",\"2021-11-04T00:00:00\",\"2021-11-05T00:00:00\",\"2021-11-08T00:00:00\",\"2021-11-09T00:00:00\",\"2021-11-10T00:00:00\",\"2021-11-11T00:00:00\",\"2021-11-12T00:00:00\",\"2021-11-15T00:00:00\",\"2021-11-16T00:00:00\",\"2021-11-17T00:00:00\",\"2021-11-18T00:00:00\",\"2021-11-19T00:00:00\",\"2021-11-22T00:00:00\",\"2021-11-23T00:00:00\",\"2021-11-24T00:00:00\",\"2021-11-25T00:00:00\",\"2021-11-26T00:00:00\",\"2021-11-29T00:00:00\",\"2021-11-30T00:00:00\",\"2021-12-01T00:00:00\",\"2021-12-02T00:00:00\",\"2021-12-03T00:00:00\",\"2021-12-06T00:00:00\",\"2021-12-07T00:00:00\",\"2021-12-08T00:00:00\",\"2021-12-09T00:00:00\",\"2021-12-10T00:00:00\",\"2021-12-13T00:00:00\",\"2021-12-14T00:00:00\",\"2021-12-15T00:00:00\",\"2021-12-16T00:00:00\",\"2021-12-17T00:00:00\",\"2021-12-20T00:00:00\",\"2021-12-21T00:00:00\",\"2021-12-22T00:00:00\",\"2021-12-23T00:00:00\",\"2021-12-24T00:00:00\",\"2021-12-27T00:00:00\",\"2021-12-28T00:00:00\",\"2021-12-29T00:00:00\",\"2021-12-30T00:00:00\",\"2022-01-03T00:00:00\",\"2022-01-04T00:00:00\",\"2022-01-05T00:00:00\",\"2022-01-06T00:00:00\",\"2022-01-07T00:00:00\",\"2022-01-10T00:00:00\",\"2022-01-11T00:00:00\",\"2022-01-12T00:00:00\",\"2022-01-13T00:00:00\",\"2022-01-14T00:00:00\",\"2022-01-17T00:00:00\",\"2022-01-18T00:00:00\",\"2022-01-19T00:00:00\",\"2022-01-20T00:00:00\",\"2022-01-21T00:00:00\",\"2022-01-24T00:00:00\",\"2022-01-25T00:00:00\",\"2022-01-26T00:00:00\",\"2022-02-07T00:00:00\",\"2022-02-08T00:00:00\",\"2022-02-09T00:00:00\",\"2022-02-10T00:00:00\",\"2022-02-11T00:00:00\",\"2022-02-14T00:00:00\",\"2022-02-15T00:00:00\",\"2022-02-16T00:00:00\",\"2022-02-17T00:00:00\",\"2022-02-18T00:00:00\",\"2022-02-21T00:00:00\",\"2022-02-22T00:00:00\",\"2022-02-23T00:00:00\",\"2022-02-24T00:00:00\",\"2022-02-25T00:00:00\",\"2022-03-01T00:00:00\",\"2022-03-02T00:00:00\",\"2022-03-03T00:00:00\",\"2022-03-04T00:00:00\",\"2022-03-07T00:00:00\",\"2022-03-08T00:00:00\",\"2022-03-09T00:00:00\",\"2022-03-10T00:00:00\",\"2022-03-11T00:00:00\",\"2022-03-14T00:00:00\",\"2022-03-15T00:00:00\",\"2022-03-16T00:00:00\",\"2022-03-18T00:00:00\"],\"y\":[1.0,0.9844329804318747,0.9888806518319709,0.9903633220771952,0.974796189397211,0.978131971225248,0.9959229961612097,1.004077116950649,1.0074128987786861,0.9988881104279406,1.0063010092066267,1.0214974743253047,1.0248332561533418,1.0226093638973641,1.0166790222520434,1.0166790222520434,1.0222386963360581,1.0307635977986622,1.0322461549320276,1.0340993796266993,1.0322461549320276,1.0229800314586701,1.0222386963360581,1.0315048198094157,1.0467012849280937,1.0470719524893997,1.040770943282773,1.0422536135279974,1.0248332561533418,1.0159378002412902,1.0063010092066267,1.015196465118678,1.033358044504087,1.0263158132867072,0.9877687622599116,0.9592290567172269,0.945144594282467,0.95589327488919,0.937731695503781,0.9807265310425316,0.9740548542745989,0.967383290618525,0.9810971986038377,0.9796145283586135,0.9962935506106569,0.9970348857332691,0.9899926545158891,1.0066716767679327,1.0163084678025962,1.0207561392026927,1.0207561392026927,1.0200149171919393,1.015196465118678,1.0177910249359616,1.0118606832906412,1.004447784511955,1.0200149171919393,1.0237213665812823,1.0292810406652968,1.0281690379813786,1.0252039237146477,1.0229800314586701,0.9985174428666346,0.9996294455505528,1.0159378002412902,1.0133432404240066,1.015196465118678,1.0170496898133496,1.0200149171919393,1.03002226267605,1.0252039237146477,1.0252039237146477,1.0348407147493113,1.0359526043213707,1.0303929302373562,1.0292810406652968,1.0211268067639987,1.0303929302373562,1.0389177185881016,1.0415122784053852,1.0511490694400487,1.0370644938934301,1.0252039237146477,1.0170496898133496,1.0133432404240066,1.0203854716413865,1.0203854716413865,1.0114900157293352,1.011119348168029,0.9951816610385976,1.0118606832906412,1.008524901462604,1.0222386963360581,1.0263158132867072,1.0322461549320276,1.0303929302373562,1.0289103731039908,1.025945145725401,1.0203854716413865,1.0170496898133496,1.015196465118678,1.0055596740840145,1.0033358949398958,0.9959229961612097,1.0,0.9770200816531887,0.9692365153131965,0.9959229961612097,0.9988881104279406,1.008524901462604,1.0155671326799842,1.0240919210307295,1.0340993796266993,1.0404003888333258,1.0452187277947282,1.0370644938934301,1.0518902914508022,1.0567087435240634,1.0518902914508022,1.0426241679774446,1.0400297212720198,1.0522609590121081,1.048554509622765,1.0496665123066833,1.0433655031000568,1.0385471641386543,1.0415122784053852,1.0170496898133496,1.0229800314586701,1.0352112691987585,1.0378058290160421,1.0303929302373562,1.008154233901298,1.0159378002412902,0.9929577687826201,0.9870274271372995,0.985544870003934,0.9859155375652401,1.0033358949398958,0.9948109934772915,0.9848036479931808,0.9814677530532849,0.9840623128705686,1.0100074585959697,1.0070423443292387,1.015196465118678,1.0126020184132534,1.0088955690239103,1.0118606832906412,1.011119348168029,1.0196442496306333,1.0196442496306333,1.0166790222520434,1.0066716767679327,1.0118606832906412,1.0100074585959697,1.0126020184132534,1.0092661234733575,1.0237213665812823,1.0318754873707217,1.0429948355387506,1.0415122784053852,1.0322461549320276,1.0355819367600647,1.0448480602334222,1.0467012849280937,1.0500370667561305,1.0559674084014512,1.0585619682187348,1.0559674084014512,1.0459600629173404,1.0415122784053852,1.0411416108440792,1.0240919210307295,1.0240919210307295,1.0229800314586701,1.0400297212720198,1.0511490694400487,1.0507784018787427,1.0478132876120119,1.0511490694400487,1.0552261863906978,1.0526316265734141,1.0522609590121081,1.0489251771840713,1.0385471641386543,1.0400297212720198,1.0530022941347204,1.0518902914508022,1.0426241679774446,1.051519737001355,1.051519737001355,1.0574499655348166,1.0604151929134062,1.0685693137028456,1.07709421516545,1.0819125541268522,1.0785767722988153,1.0852483359548892,1.1089697025361716,1.106745810280194,1.0963676841229182,1.0867310062001134,1.0937732374174933,1.0993329115015078,1.1085990349748653,1.1141587090588798,1.1141587090588798,1.1267606143602744,1.1141587090588798,1.1008154686348732,1.1052632531468285,1.0574499655348166,1.0674574241307864,1.0500370667561305,1.0492958447453773,1.0548555188293918,1.059303190229488,1.063009639618831,1.0752409904707783,1.0744996553481663,1.0578206330961226,1.0530022941347204,1.0704225383975172,1.0711638735201292,1.0681987592533984,1.0659748669974207,1.051519737001355,1.0544848512680858,1.0289103731039908,1.0266864808480132,1.0411416108440792,1.0352112691987585,1.0374351614547361,1.0263158132867072,0.9933284363439261,0.9722016295799274,0.9822090881758971,1.0107487937185817,0.9962935506106569,0.9962935506106569,0.9759080789692705,0.9799851959199195,1.0100074585959697],\"type\":\"scatter\"}],                        {\"template\":{\"data\":{\"bar\":[{\"error_x\":{\"color\":\"#2a3f5f\"},\"error_y\":{\"color\":\"#2a3f5f\"},\"marker\":{\"line\":{\"color\":\"#E5ECF6\",\"width\":0.5},\"pattern\":{\"fillmode\":\"overlay\",\"size\":10,\"solidity\":0.2}},\"type\":\"bar\"}],\"barpolar\":[{\"marker\":{\"line\":{\"color\":\"#E5ECF6\",\"width\":0.5},\"pattern\":{\"fillmode\":\"overlay\",\"size\":10,\"solidity\":0.2}},\"type\":\"barpolar\"}],\"carpet\":[{\"aaxis\":{\"endlinecolor\":\"#2a3f5f\",\"gridcolor\":\"white\",\"linecolor\":\"white\",\"minorgridcolor\":\"white\",\"startlinecolor\":\"#2a3f5f\"},\"baxis\":{\"endlinecolor\":\"#2a3f5f\",\"gridcolor\":\"white\",\"linecolor\":\"white\",\"minorgridcolor\":\"white\",\"startlinecolor\":\"#2a3f5f\"},\"type\":\"carpet\"}],\"choropleth\":[{\"colorbar\":{\"outlinewidth\":0,\"ticks\":\"\"},\"type\":\"choropleth\"}],\"contour\":[{\"colorbar\":{\"outlinewidth\":0,\"ticks\":\"\"},\"colorscale\":[[0.0,\"#0d0887\"],[0.1111111111111111,\"#46039f\"],[0.2222222222222222,\"#7201a8\"],[0.3333333333333333,\"#9c179e\"],[0.4444444444444444,\"#bd3786\"],[0.5555555555555556,\"#d8576b\"],[0.6666666666666666,\"#ed7953\"],[0.7777777777777778,\"#fb9f3a\"],[0.8888888888888888,\"#fdca26\"],[1.0,\"#f0f921\"]],\"type\":\"contour\"}],\"contourcarpet\":[{\"colorbar\":{\"outlinewidth\":0,\"ticks\":\"\"},\"type\":\"contourcarpet\"}],\"heatmap\":[{\"colorbar\":{\"outlinewidth\":0,\"ticks\":\"\"},\"colorscale\":[[0.0,\"#0d0887\"],[0.1111111111111111,\"#46039f\"],[0.2222222222222222,\"#7201a8\"],[0.3333333333333333,\"#9c179e\"],[0.4444444444444444,\"#bd3786\"],[0.5555555555555556,\"#d8576b\"],[0.6666666666666666,\"#ed7953\"],[0.7777777777777778,\"#fb9f3a\"],[0.8888888888888888,\"#fdca26\"],[1.0,\"#f0f921\"]],\"type\":\"heatmap\"}],\"heatmapgl\":[{\"colorbar\":{\"outlinewidth\":0,\"ticks\":\"\"},\"colorscale\":[[0.0,\"#0d0887\"],[0.1111111111111111,\"#46039f\"],[0.2222222222222222,\"#7201a8\"],[0.3333333333333333,\"#9c179e\"],[0.4444444444444444,\"#bd3786\"],[0.5555555555555556,\"#d8576b\"],[0.6666666666666666,\"#ed7953\"],[0.7777777777777778,\"#fb9f3a\"],[0.8888888888888888,\"#fdca26\"],[1.0,\"#f0f921\"]],\"type\":\"heatmapgl\"}],\"histogram\":[{\"marker\":{\"pattern\":{\"fillmode\":\"overlay\",\"size\":10,\"solidity\":0.2}},\"type\":\"histogram\"}],\"histogram2d\":[{\"colorbar\":{\"outlinewidth\":0,\"ticks\":\"\"},\"colorscale\":[[0.0,\"#0d0887\"],[0.1111111111111111,\"#46039f\"],[0.2222222222222222,\"#7201a8\"],[0.3333333333333333,\"#9c179e\"],[0.4444444444444444,\"#bd3786\"],[0.5555555555555556,\"#d8576b\"],[0.6666666666666666,\"#ed7953\"],[0.7777777777777778,\"#fb9f3a\"],[0.8888888888888888,\"#fdca26\"],[1.0,\"#f0f921\"]],\"type\":\"histogram2d\"}],\"histogram2dcontour\":[{\"colorbar\":{\"outlinewidth\":0,\"ticks\":\"\"},\"colorscale\":[[0.0,\"#0d0887\"],[0.1111111111111111,\"#46039f\"],[0.2222222222222222,\"#7201a8\"],[0.3333333333333333,\"#9c179e\"],[0.4444444444444444,\"#bd3786\"],[0.5555555555555556,\"#d8576b\"],[0.6666666666666666,\"#ed7953\"],[0.7777777777777778,\"#fb9f3a\"],[0.8888888888888888,\"#fdca26\"],[1.0,\"#f0f921\"]],\"type\":\"histogram2dcontour\"}],\"mesh3d\":[{\"colorbar\":{\"outlinewidth\":0,\"ticks\":\"\"},\"type\":\"mesh3d\"}],\"parcoords\":[{\"line\":{\"colorbar\":{\"outlinewidth\":0,\"ticks\":\"\"}},\"type\":\"parcoords\"}],\"pie\":[{\"automargin\":true,\"type\":\"pie\"}],\"scatter\":[{\"marker\":{\"colorbar\":{\"outlinewidth\":0,\"ticks\":\"\"}},\"type\":\"scatter\"}],\"scatter3d\":[{\"line\":{\"colorbar\":{\"outlinewidth\":0,\"ticks\":\"\"}},\"marker\":{\"colorbar\":{\"outlinewidth\":0,\"ticks\":\"\"}},\"type\":\"scatter3d\"}],\"scattercarpet\":[{\"marker\":{\"colorbar\":{\"outlinewidth\":0,\"ticks\":\"\"}},\"type\":\"scattercarpet\"}],\"scattergeo\":[{\"marker\":{\"colorbar\":{\"outlinewidth\":0,\"ticks\":\"\"}},\"type\":\"scattergeo\"}],\"scattergl\":[{\"marker\":{\"colorbar\":{\"outlinewidth\":0,\"ticks\":\"\"}},\"type\":\"scattergl\"}],\"scattermapbox\":[{\"marker\":{\"colorbar\":{\"outlinewidth\":0,\"ticks\":\"\"}},\"type\":\"scattermapbox\"}],\"scatterpolar\":[{\"marker\":{\"colorbar\":{\"outlinewidth\":0,\"ticks\":\"\"}},\"type\":\"scatterpolar\"}],\"scatterpolargl\":[{\"marker\":{\"colorbar\":{\"outlinewidth\":0,\"ticks\":\"\"}},\"type\":\"scatterpolargl\"}],\"scatterternary\":[{\"marker\":{\"colorbar\":{\"outlinewidth\":0,\"ticks\":\"\"}},\"type\":\"scatterternary\"}],\"surface\":[{\"colorbar\":{\"outlinewidth\":0,\"ticks\":\"\"},\"colorscale\":[[0.0,\"#0d0887\"],[0.1111111111111111,\"#46039f\"],[0.2222222222222222,\"#7201a8\"],[0.3333333333333333,\"#9c179e\"],[0.4444444444444444,\"#bd3786\"],[0.5555555555555556,\"#d8576b\"],[0.6666666666666666,\"#ed7953\"],[0.7777777777777778,\"#fb9f3a\"],[0.8888888888888888,\"#fdca26\"],[1.0,\"#f0f921\"]],\"type\":\"surface\"}],\"table\":[{\"cells\":{\"fill\":{\"color\":\"#EBF0F8\"},\"line\":{\"color\":\"white\"}},\"header\":{\"fill\":{\"color\":\"#C8D4E3\"},\"line\":{\"color\":\"white\"}},\"type\":\"table\"}]},\"layout\":{\"annotationdefaults\":{\"arrowcolor\":\"#2a3f5f\",\"arrowhead\":0,\"arrowwidth\":1},\"autotypenumbers\":\"strict\",\"coloraxis\":{\"colorbar\":{\"outlinewidth\":0,\"ticks\":\"\"}},\"colorscale\":{\"diverging\":[[0,\"#8e0152\"],[0.1,\"#c51b7d\"],[0.2,\"#de77ae\"],[0.3,\"#f1b6da\"],[0.4,\"#fde0ef\"],[0.5,\"#f7f7f7\"],[0.6,\"#e6f5d0\"],[0.7,\"#b8e186\"],[0.8,\"#7fbc41\"],[0.9,\"#4d9221\"],[1,\"#276419\"]],\"sequential\":[[0.0,\"#0d0887\"],[0.1111111111111111,\"#46039f\"],[0.2222222222222222,\"#7201a8\"],[0.3333333333333333,\"#9c179e\"],[0.4444444444444444,\"#bd3786\"],[0.5555555555555556,\"#d8576b\"],[0.6666666666666666,\"#ed7953\"],[0.7777777777777778,\"#fb9f3a\"],[0.8888888888888888,\"#fdca26\"],[1.0,\"#f0f921\"]],\"sequentialminus\":[[0.0,\"#0d0887\"],[0.1111111111111111,\"#46039f\"],[0.2222222222222222,\"#7201a8\"],[0.3333333333333333,\"#9c179e\"],[0.4444444444444444,\"#bd3786\"],[0.5555555555555556,\"#d8576b\"],[0.6666666666666666,\"#ed7953\"],[0.7777777777777778,\"#fb9f3a\"],[0.8888888888888888,\"#fdca26\"],[1.0,\"#f0f921\"]]},\"colorway\":[\"#636efa\",\"#EF553B\",\"#00cc96\",\"#ab63fa\",\"#FFA15A\",\"#19d3f3\",\"#FF6692\",\"#B6E880\",\"#FF97FF\",\"#FECB52\"],\"font\":{\"color\":\"#2a3f5f\"},\"geo\":{\"bgcolor\":\"white\",\"lakecolor\":\"white\",\"landcolor\":\"#E5ECF6\",\"showlakes\":true,\"showland\":true,\"subunitcolor\":\"white\"},\"hoverlabel\":{\"align\":\"left\"},\"hovermode\":\"closest\",\"mapbox\":{\"style\":\"light\"},\"paper_bgcolor\":\"white\",\"plot_bgcolor\":\"#E5ECF6\",\"polar\":{\"angularaxis\":{\"gridcolor\":\"white\",\"linecolor\":\"white\",\"ticks\":\"\"},\"bgcolor\":\"#E5ECF6\",\"radialaxis\":{\"gridcolor\":\"white\",\"linecolor\":\"white\",\"ticks\":\"\"}},\"scene\":{\"xaxis\":{\"backgroundcolor\":\"#E5ECF6\",\"gridcolor\":\"white\",\"gridwidth\":2,\"linecolor\":\"white\",\"showbackground\":true,\"ticks\":\"\",\"zerolinecolor\":\"white\"},\"yaxis\":{\"backgroundcolor\":\"#E5ECF6\",\"gridcolor\":\"white\",\"gridwidth\":2,\"linecolor\":\"white\",\"showbackground\":true,\"ticks\":\"\",\"zerolinecolor\":\"white\"},\"zaxis\":{\"backgroundcolor\":\"#E5ECF6\",\"gridcolor\":\"white\",\"gridwidth\":2,\"linecolor\":\"white\",\"showbackground\":true,\"ticks\":\"\",\"zerolinecolor\":\"white\"}},\"shapedefaults\":{\"line\":{\"color\":\"#2a3f5f\"}},\"ternary\":{\"aaxis\":{\"gridcolor\":\"white\",\"linecolor\":\"white\",\"ticks\":\"\"},\"baxis\":{\"gridcolor\":\"white\",\"linecolor\":\"white\",\"ticks\":\"\"},\"bgcolor\":\"#E5ECF6\",\"caxis\":{\"gridcolor\":\"white\",\"linecolor\":\"white\",\"ticks\":\"\"}},\"title\":{\"x\":0.05},\"xaxis\":{\"automargin\":true,\"gridcolor\":\"white\",\"linecolor\":\"white\",\"ticks\":\"\",\"title\":{\"standoff\":15},\"zerolinecolor\":\"white\",\"zerolinewidth\":2},\"yaxis\":{\"automargin\":true,\"gridcolor\":\"white\",\"linecolor\":\"white\",\"ticks\":\"\",\"title\":{\"standoff\":15},\"zerolinecolor\":\"white\",\"zerolinewidth\":2}}}},                        {\"responsive\": true}                    ).then(function(){\n",
              "                            \n",
              "var gd = document.getElementById('c2a71648-4ddd-4cbe-b757-5876864bbd86');\n",
              "var x = new MutationObserver(function (mutations, observer) {{\n",
              "        var display = window.getComputedStyle(gd).display;\n",
              "        if (!display || display === 'none') {{\n",
              "            console.log([gd, 'removed!']);\n",
              "            Plotly.purge(gd);\n",
              "            observer.disconnect();\n",
              "        }}\n",
              "}});\n",
              "\n",
              "// Listen for the removal of the full notebook cells\n",
              "var notebookContainer = gd.closest('#notebook-container');\n",
              "if (notebookContainer) {{\n",
              "    x.observe(notebookContainer, {childList: true});\n",
              "}}\n",
              "\n",
              "// Listen for the clearing of the current output cell\n",
              "var outputEl = gd.closest('.output');\n",
              "if (outputEl) {{\n",
              "    x.observe(outputEl, {childList: true});\n",
              "}}\n",
              "\n",
              "                        })                };                            </script>        </div>\n",
              "</body>\n",
              "</html>"
            ]
          },
          "metadata": {}
        }
      ]
    },
    {
      "cell_type": "markdown",
      "source": [
        "#畫Altair版圖\n",
        "https://youtu.be/IG8GoW5YqNo"
      ],
      "metadata": {
        "id": "4yl3WQfvxt8l"
      }
    },
    {
      "cell_type": "code",
      "source": [
        "df.head()"
      ],
      "metadata": {
        "colab": {
          "base_uri": "https://localhost:8080/",
          "height": 238
        },
        "id": "EDFhXzKVocGS",
        "outputId": "c930d847-e105-4aef-b4db-1feb81f6d020"
      },
      "execution_count": 16,
      "outputs": [
        {
          "output_type": "execute_result",
          "data": {
            "text/plain": [
              "                0050      0056       Date\n",
              "Date                                     \n",
              "2021-03-18  1.000000  1.000000 2021-03-18\n",
              "2021-03-19  0.984433  1.002088 2021-03-19\n",
              "2021-03-22  0.988881  1.002088 2021-03-22\n",
              "2021-03-23  0.990363  1.003877 2021-03-23\n",
              "2021-03-24  0.974796  1.003579 2021-03-24"
            ],
            "text/html": [
              "\n",
              "  <div id=\"df-09bb3adf-8841-4e5c-8c6d-c623ad7468d8\">\n",
              "    <div class=\"colab-df-container\">\n",
              "      <div>\n",
              "<style scoped>\n",
              "    .dataframe tbody tr th:only-of-type {\n",
              "        vertical-align: middle;\n",
              "    }\n",
              "\n",
              "    .dataframe tbody tr th {\n",
              "        vertical-align: top;\n",
              "    }\n",
              "\n",
              "    .dataframe thead th {\n",
              "        text-align: right;\n",
              "    }\n",
              "</style>\n",
              "<table border=\"1\" class=\"dataframe\">\n",
              "  <thead>\n",
              "    <tr style=\"text-align: right;\">\n",
              "      <th></th>\n",
              "      <th>0050</th>\n",
              "      <th>0056</th>\n",
              "      <th>Date</th>\n",
              "    </tr>\n",
              "    <tr>\n",
              "      <th>Date</th>\n",
              "      <th></th>\n",
              "      <th></th>\n",
              "      <th></th>\n",
              "    </tr>\n",
              "  </thead>\n",
              "  <tbody>\n",
              "    <tr>\n",
              "      <th>2021-03-18</th>\n",
              "      <td>1.000000</td>\n",
              "      <td>1.000000</td>\n",
              "      <td>2021-03-18</td>\n",
              "    </tr>\n",
              "    <tr>\n",
              "      <th>2021-03-19</th>\n",
              "      <td>0.984433</td>\n",
              "      <td>1.002088</td>\n",
              "      <td>2021-03-19</td>\n",
              "    </tr>\n",
              "    <tr>\n",
              "      <th>2021-03-22</th>\n",
              "      <td>0.988881</td>\n",
              "      <td>1.002088</td>\n",
              "      <td>2021-03-22</td>\n",
              "    </tr>\n",
              "    <tr>\n",
              "      <th>2021-03-23</th>\n",
              "      <td>0.990363</td>\n",
              "      <td>1.003877</td>\n",
              "      <td>2021-03-23</td>\n",
              "    </tr>\n",
              "    <tr>\n",
              "      <th>2021-03-24</th>\n",
              "      <td>0.974796</td>\n",
              "      <td>1.003579</td>\n",
              "      <td>2021-03-24</td>\n",
              "    </tr>\n",
              "  </tbody>\n",
              "</table>\n",
              "</div>\n",
              "      <button class=\"colab-df-convert\" onclick=\"convertToInteractive('df-09bb3adf-8841-4e5c-8c6d-c623ad7468d8')\"\n",
              "              title=\"Convert this dataframe to an interactive table.\"\n",
              "              style=\"display:none;\">\n",
              "        \n",
              "  <svg xmlns=\"http://www.w3.org/2000/svg\" height=\"24px\"viewBox=\"0 0 24 24\"\n",
              "       width=\"24px\">\n",
              "    <path d=\"M0 0h24v24H0V0z\" fill=\"none\"/>\n",
              "    <path d=\"M18.56 5.44l.94 2.06.94-2.06 2.06-.94-2.06-.94-.94-2.06-.94 2.06-2.06.94zm-11 1L8.5 8.5l.94-2.06 2.06-.94-2.06-.94L8.5 2.5l-.94 2.06-2.06.94zm10 10l.94 2.06.94-2.06 2.06-.94-2.06-.94-.94-2.06-.94 2.06-2.06.94z\"/><path d=\"M17.41 7.96l-1.37-1.37c-.4-.4-.92-.59-1.43-.59-.52 0-1.04.2-1.43.59L10.3 9.45l-7.72 7.72c-.78.78-.78 2.05 0 2.83L4 21.41c.39.39.9.59 1.41.59.51 0 1.02-.2 1.41-.59l7.78-7.78 2.81-2.81c.8-.78.8-2.07 0-2.86zM5.41 20L4 18.59l7.72-7.72 1.47 1.35L5.41 20z\"/>\n",
              "  </svg>\n",
              "      </button>\n",
              "      \n",
              "  <style>\n",
              "    .colab-df-container {\n",
              "      display:flex;\n",
              "      flex-wrap:wrap;\n",
              "      gap: 12px;\n",
              "    }\n",
              "\n",
              "    .colab-df-convert {\n",
              "      background-color: #E8F0FE;\n",
              "      border: none;\n",
              "      border-radius: 50%;\n",
              "      cursor: pointer;\n",
              "      display: none;\n",
              "      fill: #1967D2;\n",
              "      height: 32px;\n",
              "      padding: 0 0 0 0;\n",
              "      width: 32px;\n",
              "    }\n",
              "\n",
              "    .colab-df-convert:hover {\n",
              "      background-color: #E2EBFA;\n",
              "      box-shadow: 0px 1px 2px rgba(60, 64, 67, 0.3), 0px 1px 3px 1px rgba(60, 64, 67, 0.15);\n",
              "      fill: #174EA6;\n",
              "    }\n",
              "\n",
              "    [theme=dark] .colab-df-convert {\n",
              "      background-color: #3B4455;\n",
              "      fill: #D2E3FC;\n",
              "    }\n",
              "\n",
              "    [theme=dark] .colab-df-convert:hover {\n",
              "      background-color: #434B5C;\n",
              "      box-shadow: 0px 1px 3px 1px rgba(0, 0, 0, 0.15);\n",
              "      filter: drop-shadow(0px 1px 2px rgba(0, 0, 0, 0.3));\n",
              "      fill: #FFFFFF;\n",
              "    }\n",
              "  </style>\n",
              "\n",
              "      <script>\n",
              "        const buttonEl =\n",
              "          document.querySelector('#df-09bb3adf-8841-4e5c-8c6d-c623ad7468d8 button.colab-df-convert');\n",
              "        buttonEl.style.display =\n",
              "          google.colab.kernel.accessAllowed ? 'block' : 'none';\n",
              "\n",
              "        async function convertToInteractive(key) {\n",
              "          const element = document.querySelector('#df-09bb3adf-8841-4e5c-8c6d-c623ad7468d8');\n",
              "          const dataTable =\n",
              "            await google.colab.kernel.invokeFunction('convertToInteractive',\n",
              "                                                     [key], {});\n",
              "          if (!dataTable) return;\n",
              "\n",
              "          const docLinkHtml = 'Like what you see? Visit the ' +\n",
              "            '<a target=\"_blank\" href=https://colab.research.google.com/notebooks/data_table.ipynb>data table notebook</a>'\n",
              "            + ' to learn more about interactive tables.';\n",
              "          element.innerHTML = '';\n",
              "          dataTable['output_type'] = 'display_data';\n",
              "          await google.colab.output.renderOutput(dataTable, element);\n",
              "          const docLink = document.createElement('div');\n",
              "          docLink.innerHTML = docLinkHtml;\n",
              "          element.appendChild(docLink);\n",
              "        }\n",
              "      </script>\n",
              "    </div>\n",
              "  </div>\n",
              "  "
            ]
          },
          "metadata": {},
          "execution_count": 16
        }
      ]
    },
    {
      "cell_type": "code",
      "source": [
        "import altair as alt"
      ],
      "metadata": {
        "id": "F7Svlv3coIu_"
      },
      "execution_count": 17,
      "outputs": []
    },
    {
      "cell_type": "code",
      "source": [
        "price1 = alt.Chart(df).mark_line().encode(\n",
        "    x='Date:T',\n",
        "    y='0050:Q',\n",
        ").properties(width=1000, height=400)"
      ],
      "metadata": {
        "id": "Vil_mHaUoN4Z"
      },
      "execution_count": 20,
      "outputs": []
    },
    {
      "cell_type": "code",
      "source": [
        "price2 = alt.Chart(df).mark_line().encode(\n",
        "    x='Date:T',\n",
        "    y='0056:Q',\n",
        ").properties(width=1000, height=400)"
      ],
      "metadata": {
        "id": "CauR8rUPyPbZ"
      },
      "execution_count": 21,
      "outputs": []
    },
    {
      "cell_type": "code",
      "source": [
        "price1 "
      ],
      "metadata": {
        "colab": {
          "base_uri": "https://localhost:8080/",
          "height": 468
        },
        "id": "fdZBI8YyoPaq",
        "outputId": "7795f368-a465-490e-b6de-fc161ff8891c"
      },
      "execution_count": 22,
      "outputs": [
        {
          "output_type": "execute_result",
          "data": {
            "text/html": [
              "\n",
              "<div id=\"altair-viz-96053bef5eb442c1be68b83e1330bee2\"></div>\n",
              "<script type=\"text/javascript\">\n",
              "  var VEGA_DEBUG = (typeof VEGA_DEBUG == \"undefined\") ? {} : VEGA_DEBUG;\n",
              "  (function(spec, embedOpt){\n",
              "    let outputDiv = document.currentScript.previousElementSibling;\n",
              "    if (outputDiv.id !== \"altair-viz-96053bef5eb442c1be68b83e1330bee2\") {\n",
              "      outputDiv = document.getElementById(\"altair-viz-96053bef5eb442c1be68b83e1330bee2\");\n",
              "    }\n",
              "    const paths = {\n",
              "      \"vega\": \"https://cdn.jsdelivr.net/npm//vega@5?noext\",\n",
              "      \"vega-lib\": \"https://cdn.jsdelivr.net/npm//vega-lib?noext\",\n",
              "      \"vega-lite\": \"https://cdn.jsdelivr.net/npm//vega-lite@4.17.0?noext\",\n",
              "      \"vega-embed\": \"https://cdn.jsdelivr.net/npm//vega-embed@6?noext\",\n",
              "    };\n",
              "\n",
              "    function maybeLoadScript(lib, version) {\n",
              "      var key = `${lib.replace(\"-\", \"\")}_version`;\n",
              "      return (VEGA_DEBUG[key] == version) ?\n",
              "        Promise.resolve(paths[lib]) :\n",
              "        new Promise(function(resolve, reject) {\n",
              "          var s = document.createElement('script');\n",
              "          document.getElementsByTagName(\"head\")[0].appendChild(s);\n",
              "          s.async = true;\n",
              "          s.onload = () => {\n",
              "            VEGA_DEBUG[key] = version;\n",
              "            return resolve(paths[lib]);\n",
              "          };\n",
              "          s.onerror = () => reject(`Error loading script: ${paths[lib]}`);\n",
              "          s.src = paths[lib];\n",
              "        });\n",
              "    }\n",
              "\n",
              "    function showError(err) {\n",
              "      outputDiv.innerHTML = `<div class=\"error\" style=\"color:red;\">${err}</div>`;\n",
              "      throw err;\n",
              "    }\n",
              "\n",
              "    function displayChart(vegaEmbed) {\n",
              "      vegaEmbed(outputDiv, spec, embedOpt)\n",
              "        .catch(err => showError(`Javascript Error: ${err.message}<br>This usually means there's a typo in your chart specification. See the javascript console for the full traceback.`));\n",
              "    }\n",
              "\n",
              "    if(typeof define === \"function\" && define.amd) {\n",
              "      requirejs.config({paths});\n",
              "      require([\"vega-embed\"], displayChart, err => showError(`Error loading script: ${err.message}`));\n",
              "    } else {\n",
              "      maybeLoadScript(\"vega\", \"5\")\n",
              "        .then(() => maybeLoadScript(\"vega-lite\", \"4.17.0\"))\n",
              "        .then(() => maybeLoadScript(\"vega-embed\", \"6\"))\n",
              "        .catch(showError)\n",
              "        .then(() => displayChart(vegaEmbed));\n",
              "    }\n",
              "  })({\"config\": {\"view\": {\"continuousWidth\": 400, \"continuousHeight\": 300}}, \"data\": {\"name\": \"data-de07eefee8710c9d6c290089af8ffa85\"}, \"mark\": \"line\", \"encoding\": {\"x\": {\"field\": \"Date\", \"type\": \"temporal\"}, \"y\": {\"field\": \"0050\", \"type\": \"quantitative\"}}, \"height\": 400, \"width\": 1000, \"$schema\": \"https://vega.github.io/schema/vega-lite/v4.17.0.json\", \"datasets\": {\"data-de07eefee8710c9d6c290089af8ffa85\": [{\"0050\": 1.0, \"0056\": 1.0, \"Date\": \"2021-03-18T00:00:00\"}, {\"0050\": 0.9844329804318747, \"0056\": 1.0020876736466642, \"Date\": \"2021-03-19T00:00:00\"}, {\"0050\": 0.9888806518319709, \"0056\": 1.0020876736466642, \"Date\": \"2021-03-22T00:00:00\"}, {\"0050\": 0.9903633220771952, \"0056\": 1.0038771569593825, \"Date\": \"2021-03-23T00:00:00\"}, {\"0050\": 0.974796189397211, \"0056\": 1.0035789666254364, \"Date\": \"2021-03-24T00:00:00\"}, {\"0050\": 0.978131971225248, \"0056\": 1.0038771569593825, \"Date\": \"2021-03-25T00:00:00\"}, {\"0050\": 0.9959229961612097, \"0056\": 1.0080525042527106, \"Date\": \"2021-03-26T00:00:00\"}, {\"0050\": 1.004077116950649, \"0056\": 1.024157512758132, \"Date\": \"2021-03-29T00:00:00\"}, {\"0050\": 1.0074128987786861, \"0056\": 1.0319117129072157, \"Date\": \"2021-03-30T00:00:00\"}, {\"0050\": 0.9988881104279406, \"0056\": 1.0328065114484155, \"Date\": \"2021-03-31T00:00:00\"}, {\"0050\": 1.0063010092066267, \"0056\": 1.0322100170108428, \"Date\": \"2021-04-01T00:00:00\"}, {\"0050\": 1.0214974743253047, \"0056\": 1.0351923754290255, \"Date\": \"2021-04-07T00:00:00\"}, {\"0050\": 1.0248332561533418, \"0056\": 1.036385364304171, \"Date\": \"2021-04-08T00:00:00\"}, {\"0050\": 1.0226093638973641, \"0056\": 1.0348941850950797, \"Date\": \"2021-04-09T00:00:00\"}, {\"0050\": 1.0166790222520434, \"0056\": 1.0345958809914526, \"Date\": \"2021-04-12T00:00:00\"}, {\"0050\": 1.0166790222520434, \"0056\": 1.0280346697175144, \"Date\": \"2021-04-13T00:00:00\"}, {\"0050\": 1.0222386963360581, \"0056\": 1.024455703092078, \"Date\": \"2021-04-14T00:00:00\"}, {\"0050\": 1.0307635977986622, \"0056\": 1.028929354489033, \"Date\": \"2021-04-15T00:00:00\"}, {\"0050\": 1.0322461549320276, \"0056\": 1.0420518908065906, \"Date\": \"2021-04-16T00:00:00\"}, {\"0050\": 1.0340993796266993, \"0056\": 1.0498062047253554, \"Date\": \"2021-04-19T00:00:00\"}, {\"0050\": 1.0322461549320276, \"0056\": 1.0536833616847379, \"Date\": \"2021-04-20T00:00:00\"}, {\"0050\": 1.0229800314586701, \"0056\": 1.0596480785211033, \"Date\": \"2021-04-21T00:00:00\"}, {\"0050\": 1.0222386963360581, \"0056\": 1.055771035331402, \"Date\": \"2021-04-22T00:00:00\"}, {\"0050\": 1.0315048198094157, \"0056\": 1.0527885631435383, \"Date\": \"2021-04-23T00:00:00\"}, {\"0050\": 1.0467012849280937, \"0056\": 1.0733672230459148, \"Date\": \"2021-04-26T00:00:00\"}, {\"0050\": 1.0470719524893997, \"0056\": 1.0730689189422877, \"Date\": \"2021-04-27T00:00:00\"}, {\"0050\": 1.040770943282773, \"0056\": 1.0730689189422877, \"Date\": \"2021-04-28T00:00:00\"}, {\"0050\": 1.0422536135279974, \"0056\": 1.077244266235616, \"Date\": \"2021-04-29T00:00:00\"}, {\"0050\": 1.0248332561533418, \"0056\": 1.0709812452956238, \"Date\": \"2021-05-03T00:00:00\"}, {\"0050\": 1.0159378002412902, \"0056\": 1.0527885631435383, \"Date\": \"2021-05-04T00:00:00\"}, {\"0050\": 1.0063010092066267, \"0056\": 1.0542797423526296, \"Date\": \"2021-05-05T00:00:00\"}, {\"0050\": 1.015196465118678, \"0056\": 1.0527885631435383, \"Date\": \"2021-05-06T00:00:00\"}, {\"0050\": 1.033358044504087, \"0056\": 1.065314718793204, \"Date\": \"2021-05-07T00:00:00\"}, {\"0050\": 1.0263158132867072, \"0056\": 1.070086560524105, \"Date\": \"2021-05-10T00:00:00\"}, {\"0050\": 0.9877687622599116, \"0056\": 1.0348941850950797, \"Date\": \"2021-05-11T00:00:00\"}, {\"0050\": 0.9592290567172269, \"0056\": 0.9991053152284813, \"Date\": \"2021-05-12T00:00:00\"}, {\"0050\": 0.945144594282467, \"0056\": 0.9961229568102986, \"Date\": \"2021-05-13T00:00:00\"}, {\"0050\": 0.95589327488919, \"0056\": 1.0035789666254364, \"Date\": \"2021-05-14T00:00:00\"}, {\"0050\": 0.937731695503781, \"0056\": 0.9767372857830676, \"Date\": \"2021-05-17T00:00:00\"}, {\"0050\": 0.9807265310425316, \"0056\": 1.0143155251927032, \"Date\": \"2021-05-18T00:00:00\"}, {\"0050\": 0.9740548542745989, \"0056\": 1.01699969327694, \"Date\": \"2021-05-19T00:00:00\"}, {\"0050\": 0.967383290618525, \"0056\": 1.009841987565429, \"Date\": \"2021-05-20T00:00:00\"}, {\"0050\": 0.9810971986038377, \"0056\": 1.0140173348587571, \"Date\": \"2021-05-21T00:00:00\"}, {\"0050\": 0.9796145283586135, \"0056\": 1.0155085140678486, \"Date\": \"2021-05-24T00:00:00\"}, {\"0050\": 0.9962935506106569, \"0056\": 1.024157512758132, \"Date\": \"2021-05-25T00:00:00\"}, {\"0050\": 0.9970348857332691, \"0056\": 1.0235610183205592, \"Date\": \"2021-05-26T00:00:00\"}, {\"0050\": 0.9899926545158891, \"0056\": 1.0223680294454138, \"Date\": \"2021-05-27T00:00:00\"}, {\"0050\": 1.0066716767679327, \"0056\": 1.0304205336981245, \"Date\": \"2021-05-28T00:00:00\"}, {\"0050\": 1.0163084678025962, \"0056\": 1.036385364304171, \"Date\": \"2021-05-31T00:00:00\"}, {\"0050\": 1.0207561392026927, \"0056\": 1.0456308574320272, \"Date\": \"2021-06-01T00:00:00\"}, {\"0050\": 1.0207561392026927, \"0056\": 1.0426483852441635, \"Date\": \"2021-06-02T00:00:00\"}, {\"0050\": 1.0200149171919393, \"0056\": 1.0423501949102174, \"Date\": \"2021-06-03T00:00:00\"}, {\"0050\": 1.015196465118678, \"0056\": 1.0369818587417436, \"Date\": \"2021-06-04T00:00:00\"}, {\"0050\": 1.0177910249359616, \"0056\": 1.0354906795326524, \"Date\": \"2021-06-07T00:00:00\"}, {\"0050\": 1.0118606832906412, \"0056\": 1.0334030058859882, \"Date\": \"2021-06-08T00:00:00\"}, {\"0050\": 1.004447784511955, \"0056\": 1.0274381752799417, \"Date\": \"2021-06-09T00:00:00\"}, {\"0050\": 1.0200149171919393, \"0056\": 1.0319117129072157, \"Date\": \"2021-06-10T00:00:00\"}, {\"0050\": 1.0237213665812823, \"0056\": 1.0304205336981245, \"Date\": \"2021-06-11T00:00:00\"}, {\"0050\": 1.0292810406652968, \"0056\": 1.0334030058859882, \"Date\": \"2021-06-15T00:00:00\"}, {\"0050\": 1.0281690379813786, \"0056\": 1.0372800490756897, \"Date\": \"2021-06-16T00:00:00\"}, {\"0050\": 1.0252039237146477, \"0056\": 1.0408590157011262, \"Date\": \"2021-06-17T00:00:00\"}, {\"0050\": 1.0229800314586701, \"0056\": 1.041157206035072, \"Date\": \"2021-06-18T00:00:00\"}, {\"0050\": 0.9985174428666346, \"0056\": 1.0304205336981245, \"Date\": \"2021-06-21T00:00:00\"}, {\"0050\": 0.9996294455505528, \"0056\": 1.0268416808423688, \"Date\": \"2021-06-22T00:00:00\"}, {\"0050\": 1.0159378002412902, \"0056\": 1.0274381752799417, \"Date\": \"2021-06-23T00:00:00\"}, {\"0050\": 1.0133432404240066, \"0056\": 1.033701196219934, \"Date\": \"2021-06-24T00:00:00\"}, {\"0050\": 1.015196465118678, \"0056\": 1.036087173970225, \"Date\": \"2021-06-25T00:00:00\"}, {\"0050\": 1.0170496898133496, \"0056\": 1.0468237325374916, \"Date\": \"2021-06-28T00:00:00\"}, {\"0050\": 1.0200149171919393, \"0056\": 1.0378765435132624, \"Date\": \"2021-06-29T00:00:00\"}, {\"0050\": 1.03002226267605, \"0056\": 1.0438413741193089, \"Date\": \"2021-06-30T00:00:00\"}, {\"0050\": 1.0252039237146477, \"0056\": 1.0438413741193089, \"Date\": \"2021-07-01T00:00:00\"}, {\"0050\": 1.0252039237146477, \"0056\": 1.0498062047253554, \"Date\": \"2021-07-02T00:00:00\"}, {\"0050\": 1.0348407147493113, \"0056\": 1.0644199202520044, \"Date\": \"2021-07-05T00:00:00\"}, {\"0050\": 1.0359526043213707, \"0056\": 1.0709812452956238, \"Date\": \"2021-07-06T00:00:00\"}, {\"0050\": 1.0303929302373562, \"0056\": 1.0620340562713944, \"Date\": \"2021-07-07T00:00:00\"}, {\"0050\": 1.0292810406652968, \"0056\": 1.067700582773814, \"Date\": \"2021-07-08T00:00:00\"}, {\"0050\": 1.0211268067639987, \"0056\": 1.0569639104368664, \"Date\": \"2021-07-09T00:00:00\"}, {\"0050\": 1.0303929302373562, \"0056\": 1.0518938783720195, \"Date\": \"2021-07-12T00:00:00\"}, {\"0050\": 1.0389177185881016, \"0056\": 1.0393677227223537, \"Date\": \"2021-07-13T00:00:00\"}, {\"0050\": 1.0415122784053852, \"0056\": 1.0283328600514603, \"Date\": \"2021-07-14T00:00:00\"}, {\"0050\": 1.0511490694400487, \"0056\": 1.0432448796817362, \"Date\": \"2021-07-15T00:00:00\"}, {\"0050\": 1.0370644938934301, \"0056\": 1.0474202269750643, \"Date\": \"2021-07-16T00:00:00\"}, {\"0050\": 1.0252039237146477, \"0056\": 1.0480167214126372, \"Date\": \"2021-07-19T00:00:00\"}, {\"0050\": 1.0170496898133496, \"0056\": 1.0307188378017513, \"Date\": \"2021-07-20T00:00:00\"}, {\"0050\": 1.0133432404240066, \"0056\": 1.0178944918181396, \"Date\": \"2021-07-21T00:00:00\"}, {\"0050\": 1.0203854716413865, \"0056\": 1.0202803557987496, \"Date\": \"2021-07-22T00:00:00\"}, {\"0050\": 1.0203854716413865, \"0056\": 1.0280346697175144, \"Date\": \"2021-07-23T00:00:00\"}, {\"0050\": 1.0114900157293352, \"0056\": 1.028929354489033, \"Date\": \"2021-07-26T00:00:00\"}, {\"0050\": 1.011119348168029, \"0056\": 1.0161050085054213, \"Date\": \"2021-07-27T00:00:00\"}, {\"0050\": 0.9951816610385976, \"0056\": 1.0107366723369475, \"Date\": \"2021-07-28T00:00:00\"}, {\"0050\": 1.0118606832906412, \"0056\": 1.01699969327694, \"Date\": \"2021-07-29T00:00:00\"}, {\"0050\": 1.008524901462604, \"0056\": 1.0110349764405744, \"Date\": \"2021-07-30T00:00:00\"}, {\"0050\": 1.0222386963360581, \"0056\": 1.0140173348587571, \"Date\": \"2021-08-02T00:00:00\"}, {\"0050\": 1.0263158132867072, \"0056\": 1.0184909862557123, \"Date\": \"2021-08-03T00:00:00\"}, {\"0050\": 1.0322461549320276, \"0056\": 1.024455703092078, \"Date\": \"2021-08-04T00:00:00\"}, {\"0050\": 1.0303929302373562, \"0056\": 1.0199821654648038, \"Date\": \"2021-08-05T00:00:00\"}, {\"0050\": 1.0289103731039908, \"0056\": 1.021473344673895, \"Date\": \"2021-08-06T00:00:00\"}, {\"0050\": 1.025945145725401, \"0056\": 1.01699969327694, \"Date\": \"2021-08-09T00:00:00\"}, {\"0050\": 1.0203854716413865, \"0056\": 1.0077543139187648, \"Date\": \"2021-08-10T00:00:00\"}, {\"0050\": 1.0170496898133496, \"0056\": 0.9988071248945355, \"Date\": \"2021-08-11T00:00:00\"}, {\"0050\": 1.015196465118678, \"0056\": 0.9994035055624273, \"Date\": \"2021-08-12T00:00:00\"}, {\"0050\": 1.0055596740840145, \"0056\": 0.9922457998509162, \"Date\": \"2021-08-13T00:00:00\"}, {\"0050\": 1.0033358949398958, \"0056\": 0.9800179483048772, \"Date\": \"2021-08-16T00:00:00\"}, {\"0050\": 0.9959229961612097, \"0056\": 0.9701759607394483, \"Date\": \"2021-08-17T00:00:00\"}, {\"0050\": 1.0, \"0056\": 0.9862809692448696, \"Date\": \"2021-08-18T00:00:00\"}, {\"0050\": 0.9770200816531887, \"0056\": 0.9639129397994559, \"Date\": \"2021-08-19T00:00:00\"}, {\"0050\": 0.9692365153131965, \"0056\": 0.9621234564867377, \"Date\": \"2021-08-20T00:00:00\"}, {\"0050\": 0.9959229961612097, \"0056\": 0.98061444274245, \"Date\": \"2021-08-23T00:00:00\"}, {\"0050\": 0.9988881104279406, \"0056\": 0.978228464992159, \"Date\": \"2021-08-24T00:00:00\"}, {\"0050\": 1.008524901462604, \"0056\": 0.9841932955982056, \"Date\": \"2021-08-25T00:00:00\"}, {\"0050\": 1.0155671326799842, \"0056\": 0.9838951052642597, \"Date\": \"2021-08-26T00:00:00\"}, {\"0050\": 1.0240919210307295, \"0056\": 0.9874739581200151, \"Date\": \"2021-08-27T00:00:00\"}, {\"0050\": 1.0340993796266993, \"0056\": 0.9928422942884889, \"Date\": \"2021-08-30T00:00:00\"}, {\"0050\": 1.0404003888333258, \"0056\": 0.9955264623727259, \"Date\": \"2021-08-31T00:00:00\"}, {\"0050\": 1.0452187277947282, \"0056\": 0.9958246527066718, \"Date\": \"2021-09-01T00:00:00\"}, {\"0050\": 1.0370644938934301, \"0056\": 0.9889651373291065, \"Date\": \"2021-09-02T00:00:00\"}, {\"0050\": 1.0518902914508022, \"0056\": 0.9913511150793975, \"Date\": \"2021-09-03T00:00:00\"}, {\"0050\": 1.0567087435240634, \"0056\": 0.9862809692448696, \"Date\": \"2021-09-06T00:00:00\"}, {\"0050\": 1.0518902914508022, \"0056\": 0.9889651373291065, \"Date\": \"2021-09-07T00:00:00\"}, {\"0050\": 1.0426241679774446, \"0056\": 0.978228464992159, \"Date\": \"2021-09-08T00:00:00\"}, {\"0050\": 1.0400297212720198, \"0056\": 0.9824038122854872, \"Date\": \"2021-09-09T00:00:00\"}, {\"0050\": 1.0522609590121081, \"0056\": 0.9907546206418248, \"Date\": \"2021-09-10T00:00:00\"}, {\"0050\": 1.048554509622765, \"0056\": 0.9964211471442445, \"Date\": \"2021-09-13T00:00:00\"}, {\"0050\": 1.0496665123066833, \"0056\": 0.9949299679351531, \"Date\": \"2021-09-14T00:00:00\"}, {\"0050\": 1.0433655031000568, \"0056\": 0.9940352831636344, \"Date\": \"2021-09-15T00:00:00\"}, {\"0050\": 1.0385471641386543, \"0056\": 0.9925439901848621, \"Date\": \"2021-09-16T00:00:00\"}, {\"0050\": 1.0415122784053852, \"0056\": 0.9967193374781903, \"Date\": \"2021-09-17T00:00:00\"}, {\"0050\": 1.0170496898133496, \"0056\": 0.9812109371800227, \"Date\": \"2021-09-22T00:00:00\"}, {\"0050\": 1.0229800314586701, \"0056\": 0.9865792733484966, \"Date\": \"2021-09-23T00:00:00\"}, {\"0050\": 1.0352112691987585, \"0056\": 0.9931404846224349, \"Date\": \"2021-09-24T00:00:00\"}, {\"0050\": 1.0378058290160421, \"0056\": 0.9931404846224349, \"Date\": \"2021-09-27T00:00:00\"}, {\"0050\": 1.0303929302373562, \"0056\": 0.9865792733484966, \"Date\": \"2021-09-28T00:00:00\"}, {\"0050\": 1.008154233901298, \"0056\": 0.9752461065739763, \"Date\": \"2021-09-29T00:00:00\"}, {\"0050\": 1.0159378002412902, \"0056\": 0.9773337802206403, \"Date\": \"2021-09-30T00:00:00\"}, {\"0050\": 0.9929577687826201, \"0056\": 0.9621234564867377, \"Date\": \"2021-10-01T00:00:00\"}, {\"0050\": 0.9870274271372995, \"0056\": 0.9495974146067528, \"Date\": \"2021-10-04T00:00:00\"}, {\"0050\": 0.985544870003934, \"0056\": 0.9531762674625084, \"Date\": \"2021-10-05T00:00:00\"}, {\"0050\": 0.9859155375652401, \"0056\": 0.9507903465970579, \"Date\": \"2021-10-06T00:00:00\"}, {\"0050\": 1.0033358949398958, \"0056\": 0.9713689496145939, \"Date\": \"2021-10-07T00:00:00\"}, {\"0050\": 0.9948109934772915, \"0056\": 0.9719654440521666, \"Date\": \"2021-10-08T00:00:00\"}, {\"0050\": 0.9848036479931808, \"0056\": 0.9615270758188459, \"Date\": \"2021-10-12T00:00:00\"}, {\"0050\": 0.9814677530532849, \"0056\": 0.9594392884025007, \"Date\": \"2021-10-13T00:00:00\"}, {\"0050\": 0.9840623128705686, \"0056\": 0.9597375925061277, \"Date\": \"2021-10-14T00:00:00\"}, {\"0050\": 1.0100074585959697, \"0056\": 0.9636147494655101, \"Date\": \"2021-10-15T00:00:00\"}, {\"0050\": 1.0070423443292387, \"0056\": 0.9651059286746014, \"Date\": \"2021-10-18T00:00:00\"}, {\"0050\": 1.015196465118678, \"0056\": 0.966298917549747, \"Date\": \"2021-10-19T00:00:00\"}, {\"0050\": 1.0126020184132534, \"0056\": 0.9654041190085473, \"Date\": \"2021-10-20T00:00:00\"}, {\"0050\": 1.0088955690239103, \"0056\": 0.966298917549747, \"Date\": \"2021-10-21T00:00:00\"}, {\"0050\": 1.0118606832906412, \"0056\": 0.9197733753462012, \"Date\": \"2021-10-22T00:00:00\"}, {\"0050\": 1.011119348168029, \"0056\": 0.9203698697837739, \"Date\": \"2021-10-25T00:00:00\"}, {\"0050\": 1.0196442496306333, \"0056\": 0.9260363962861935, \"Date\": \"2021-10-26T00:00:00\"}, {\"0050\": 1.0196442496306333, \"0056\": 0.9290188115892168, \"Date\": \"2021-10-27T00:00:00\"}, {\"0050\": 1.0166790222520434, \"0056\": 0.9361765741855683, \"Date\": \"2021-10-28T00:00:00\"}, {\"0050\": 1.0066716767679327, \"0056\": 0.9379660574982867, \"Date\": \"2021-10-29T00:00:00\"}, {\"0050\": 1.0118606832906412, \"0056\": 0.9412466631352557, \"Date\": \"2021-11-01T00:00:00\"}, {\"0050\": 1.0100074585959697, \"0056\": 0.9403519783637372, \"Date\": \"2021-11-02T00:00:00\"}, {\"0050\": 1.0126020184132534, \"0056\": 0.9475097409600887, \"Date\": \"2021-11-03T00:00:00\"}, {\"0050\": 1.0092661234733575, \"0056\": 0.9501939090443255, \"Date\": \"2021-11-04T00:00:00\"}, {\"0050\": 1.0237213665812823, \"0056\": 0.9528780771285624, \"Date\": \"2021-11-05T00:00:00\"}, {\"0050\": 1.0318754873707217, \"0056\": 0.9660006134461201, \"Date\": \"2021-11-08T00:00:00\"}, {\"0050\": 1.0429948355387506, \"0056\": 0.9648076245709746, \"Date\": \"2021-11-09T00:00:00\"}, {\"0050\": 1.0415122784053852, \"0056\": 0.9645094342370286, \"Date\": \"2021-11-10T00:00:00\"}, {\"0050\": 1.0322461549320276, \"0056\": 0.958842907734609, \"Date\": \"2021-11-11T00:00:00\"}, {\"0050\": 1.0355819367600647, \"0056\": 0.9603340869437004, \"Date\": \"2021-11-12T00:00:00\"}, {\"0050\": 1.0448480602334222, \"0056\": 0.9671936023212656, \"Date\": \"2021-11-15T00:00:00\"}, {\"0050\": 1.0467012849280937, \"0056\": 0.9719654440521666, \"Date\": \"2021-11-16T00:00:00\"}, {\"0050\": 1.0500370667561305, \"0056\": 0.9755442969079221, \"Date\": \"2021-11-17T00:00:00\"}, {\"0050\": 1.0559674084014512, \"0056\": 0.9835968011606327, \"Date\": \"2021-11-18T00:00:00\"}, {\"0050\": 1.0585619682187348, \"0056\": 0.9821056219515414, \"Date\": \"2021-11-19T00:00:00\"}, {\"0050\": 1.0559674084014512, \"0056\": 0.9821056219515414, \"Date\": \"2021-11-22T00:00:00\"}, {\"0050\": 1.0459600629173404, \"0056\": 0.9731584329273121, \"Date\": \"2021-11-23T00:00:00\"}, {\"0050\": 1.0415122784053852, \"0056\": 0.9725619384897394, \"Date\": \"2021-11-24T00:00:00\"}, {\"0050\": 1.0411416108440792, \"0056\": 0.9737549273648849, \"Date\": \"2021-11-25T00:00:00\"}, {\"0050\": 1.0240919210307295, \"0056\": 0.9648076245709746, \"Date\": \"2021-11-26T00:00:00\"}, {\"0050\": 1.0240919210307295, \"0056\": 0.9609305813812732, \"Date\": \"2021-11-29T00:00:00\"}, {\"0050\": 1.0229800314586701, \"0056\": 0.9633164453618831, \"Date\": \"2021-11-30T00:00:00\"}, {\"0050\": 1.0400297212720198, \"0056\": 0.9692812759679297, \"Date\": \"2021-12-01T00:00:00\"}, {\"0050\": 1.0511490694400487, \"0056\": 0.968386591196411, \"Date\": \"2021-12-02T00:00:00\"}, {\"0050\": 1.0507784018787427, \"0056\": 0.9737549273648849, \"Date\": \"2021-12-03T00:00:00\"}, {\"0050\": 1.0478132876120119, \"0056\": 0.9800179483048772, \"Date\": \"2021-12-06T00:00:00\"}, {\"0050\": 1.0511490694400487, \"0056\": 0.9850879803697241, \"Date\": \"2021-12-07T00:00:00\"}, {\"0050\": 1.0552261863906978, \"0056\": 0.9895616317666793, \"Date\": \"2021-12-08T00:00:00\"}, {\"0050\": 1.0526316265734141, \"0056\": 0.9937369790600076, \"Date\": \"2021-12-09T00:00:00\"}, {\"0050\": 1.0522609590121081, \"0056\": 0.9931404846224349, \"Date\": \"2021-12-10T00:00:00\"}, {\"0050\": 1.0489251771840713, \"0056\": 0.9940352831636344, \"Date\": \"2021-12-13T00:00:00\"}, {\"0050\": 1.0385471641386543, \"0056\": 0.9827021163891142, \"Date\": \"2021-12-14T00:00:00\"}, {\"0050\": 1.0400297212720198, \"0056\": 0.9853862844733511, \"Date\": \"2021-12-15T00:00:00\"}, {\"0050\": 1.0530022941347204, \"0056\": 0.99761413601939, \"Date\": \"2021-12-16T00:00:00\"}, {\"0050\": 1.0518902914508022, \"0056\": 0.9970176415818173, \"Date\": \"2021-12-17T00:00:00\"}, {\"0050\": 1.0426241679774446, \"0056\": 0.9964211471442445, \"Date\": \"2021-12-20T00:00:00\"}, {\"0050\": 1.051519737001355, \"0056\": 0.9949299679351531, \"Date\": \"2021-12-21T00:00:00\"}, {\"0050\": 1.051519737001355, \"0056\": 0.9931404846224349, \"Date\": \"2021-12-22T00:00:00\"}, {\"0050\": 1.0574499655348166, \"0056\": 0.9943334734975804, \"Date\": \"2021-12-23T00:00:00\"}, {\"0050\": 1.0604151929134062, \"0056\": 0.9928422942884889, \"Date\": \"2021-12-24T00:00:00\"}, {\"0050\": 1.0685693137028456, \"0056\": 0.9955264623727259, \"Date\": \"2021-12-27T00:00:00\"}, {\"0050\": 1.07709421516545, \"0056\": 1.0008947985411996, \"Date\": \"2021-12-28T00:00:00\"}, {\"0050\": 1.0819125541268522, \"0056\": 1.002385977750291, \"Date\": \"2021-12-29T00:00:00\"}, {\"0050\": 1.0785767722988153, \"0056\": 1.0014912929787725, \"Date\": \"2021-12-30T00:00:00\"}, {\"0050\": 1.0852483359548892, \"0056\": 0.9967193374781903, \"Date\": \"2022-01-03T00:00:00\"}, {\"0050\": 1.1089697025361716, \"0056\": 0.9964211471442445, \"Date\": \"2022-01-04T00:00:00\"}, {\"0050\": 1.106745810280194, \"0056\": 0.99761413601939, \"Date\": \"2022-01-05T00:00:00\"}, {\"0050\": 1.0963676841229182, \"0056\": 0.9964211471442445, \"Date\": \"2022-01-06T00:00:00\"}, {\"0050\": 1.0867310062001134, \"0056\": 0.9892633276630525, \"Date\": \"2022-01-07T00:00:00\"}, {\"0050\": 1.0937732374174933, \"0056\": 0.9922457998509162, \"Date\": \"2022-01-10T00:00:00\"}, {\"0050\": 1.0993329115015078, \"0056\": 0.990158126204252, \"Date\": \"2022-01-11T00:00:00\"}, {\"0050\": 1.1085990349748653, \"0056\": 0.9871756540163883, \"Date\": \"2022-01-12T00:00:00\"}, {\"0050\": 1.1141587090588798, \"0056\": 0.990158126204252, \"Date\": \"2022-01-13T00:00:00\"}, {\"0050\": 1.1141587090588798, \"0056\": 0.9886669469951607, \"Date\": \"2022-01-14T00:00:00\"}, {\"0050\": 1.1267606143602744, \"0056\": 0.9907546206418248, \"Date\": \"2022-01-17T00:00:00\"}, {\"0050\": 1.1141587090588798, \"0056\": 0.99761413601939, \"Date\": \"2022-01-18T00:00:00\"}, {\"0050\": 1.1008154686348732, \"0056\": 0.990456316538198, \"Date\": \"2022-01-19T00:00:00\"}, {\"0050\": 1.1052632531468285, \"0056\": 0.9949299679351531, \"Date\": \"2022-01-20T00:00:00\"}, {\"0050\": 1.0574499655348166, \"0056\": 0.9794214538673045, \"Date\": \"2022-01-21T00:00:00\"}, {\"0050\": 1.0674574241307864, \"0056\": 0.975842601011549, \"Date\": \"2022-01-24T00:00:00\"}, {\"0050\": 1.0500370667561305, \"0056\": 0.9645094342370286, \"Date\": \"2022-01-25T00:00:00\"}, {\"0050\": 1.0492958447453773, \"0056\": 0.966298917549747, \"Date\": \"2022-01-26T00:00:00\"}, {\"0050\": 1.0548555188293918, \"0056\": 0.9841932955982056, \"Date\": \"2022-02-07T00:00:00\"}, {\"0050\": 1.059303190229488, \"0056\": 0.9931404846224349, \"Date\": \"2022-02-08T00:00:00\"}, {\"0050\": 1.063009639618831, \"0056\": 0.9991053152284813, \"Date\": \"2022-02-09T00:00:00\"}, {\"0050\": 1.0752409904707783, \"0056\": 0.9988071248945355, \"Date\": \"2022-02-10T00:00:00\"}, {\"0050\": 1.0744996553481663, \"0056\": 0.9970176415818173, \"Date\": \"2022-02-11T00:00:00\"}, {\"0050\": 1.0578206330961226, \"0056\": 0.988070452557588, \"Date\": \"2022-02-14T00:00:00\"}, {\"0050\": 1.0530022941347204, \"0056\": 0.9871756540163883, \"Date\": \"2022-02-15T00:00:00\"}, {\"0050\": 1.0704225383975172, \"0056\": 0.9922457998509162, \"Date\": \"2022-02-16T00:00:00\"}, {\"0050\": 1.0711638735201292, \"0056\": 0.9943334734975804, \"Date\": \"2022-02-17T00:00:00\"}, {\"0050\": 1.0681987592533984, \"0056\": 0.9991053152284813, \"Date\": \"2022-02-18T00:00:00\"}, {\"0050\": 1.0659748669974207, \"0056\": 1.0080525042527106, \"Date\": \"2022-02-21T00:00:00\"}, {\"0050\": 1.051519737001355, \"0056\": 0.9988071248945355, \"Date\": \"2022-02-22T00:00:00\"}, {\"0050\": 1.0544848512680858, \"0056\": 1.0065613250436194, \"Date\": \"2022-02-23T00:00:00\"}, {\"0050\": 1.0289103731039908, \"0056\": 0.9898598221006252, \"Date\": \"2022-02-24T00:00:00\"}, {\"0050\": 1.0266864808480132, \"0056\": 0.9940352831636344, \"Date\": \"2022-02-25T00:00:00\"}, {\"0050\": 1.0411416108440792, \"0056\": 1.0104384820030017, \"Date\": \"2022-03-01T00:00:00\"}, {\"0050\": 1.0352112691987585, \"0056\": 1.0131226500872386, \"Date\": \"2022-03-02T00:00:00\"}, {\"0050\": 1.0374351614547361, \"0056\": 1.0205786599023765, \"Date\": \"2022-03-03T00:00:00\"}, {\"0050\": 1.0263158132867072, \"0056\": 1.0152103237339027, \"Date\": \"2022-03-04T00:00:00\"}, {\"0050\": 0.9933284363439261, \"0056\": 0.99761413601939, \"Date\": \"2022-03-07T00:00:00\"}, {\"0050\": 0.9722016295799274, \"0056\": 0.9841932955982056, \"Date\": \"2022-03-08T00:00:00\"}, {\"0050\": 0.9822090881758971, \"0056\": 0.9949299679351531, \"Date\": \"2022-03-09T00:00:00\"}, {\"0050\": 1.0107487937185817, \"0056\": 1.0107366723369475, \"Date\": \"2022-03-10T00:00:00\"}, {\"0050\": 0.9962935506106569, \"0056\": 1.0110349764405744, \"Date\": \"2022-03-11T00:00:00\"}, {\"0050\": 0.9962935506106569, \"0056\": 1.0178944918181396, \"Date\": \"2022-03-14T00:00:00\"}, {\"0050\": 0.9759080789692705, \"0056\": 1.007456009815138, \"Date\": \"2022-03-15T00:00:00\"}, {\"0050\": 0.9799851959199195, \"0056\": 1.0053683361684738, \"Date\": \"2022-03-16T00:00:00\"}, {\"0050\": 1.0100074585959697, \"0056\": 1.0086489986902833, \"Date\": \"2022-03-18T00:00:00\"}]}}, {\"mode\": \"vega-lite\"});\n",
              "</script>"
            ],
            "text/plain": [
              "alt.Chart(...)"
            ]
          },
          "metadata": {},
          "execution_count": 22
        }
      ]
    },
    {
      "cell_type": "code",
      "source": [
        "price2"
      ],
      "metadata": {
        "id": "hteR4PeIoQz1",
        "outputId": "b36a4fe6-7217-4bef-c410-892f28e60e15",
        "colab": {
          "base_uri": "https://localhost:8080/",
          "height": 468
        }
      },
      "execution_count": 24,
      "outputs": [
        {
          "output_type": "execute_result",
          "data": {
            "text/html": [
              "\n",
              "<div id=\"altair-viz-a57da1ad66924161922a929495bad488\"></div>\n",
              "<script type=\"text/javascript\">\n",
              "  var VEGA_DEBUG = (typeof VEGA_DEBUG == \"undefined\") ? {} : VEGA_DEBUG;\n",
              "  (function(spec, embedOpt){\n",
              "    let outputDiv = document.currentScript.previousElementSibling;\n",
              "    if (outputDiv.id !== \"altair-viz-a57da1ad66924161922a929495bad488\") {\n",
              "      outputDiv = document.getElementById(\"altair-viz-a57da1ad66924161922a929495bad488\");\n",
              "    }\n",
              "    const paths = {\n",
              "      \"vega\": \"https://cdn.jsdelivr.net/npm//vega@5?noext\",\n",
              "      \"vega-lib\": \"https://cdn.jsdelivr.net/npm//vega-lib?noext\",\n",
              "      \"vega-lite\": \"https://cdn.jsdelivr.net/npm//vega-lite@4.17.0?noext\",\n",
              "      \"vega-embed\": \"https://cdn.jsdelivr.net/npm//vega-embed@6?noext\",\n",
              "    };\n",
              "\n",
              "    function maybeLoadScript(lib, version) {\n",
              "      var key = `${lib.replace(\"-\", \"\")}_version`;\n",
              "      return (VEGA_DEBUG[key] == version) ?\n",
              "        Promise.resolve(paths[lib]) :\n",
              "        new Promise(function(resolve, reject) {\n",
              "          var s = document.createElement('script');\n",
              "          document.getElementsByTagName(\"head\")[0].appendChild(s);\n",
              "          s.async = true;\n",
              "          s.onload = () => {\n",
              "            VEGA_DEBUG[key] = version;\n",
              "            return resolve(paths[lib]);\n",
              "          };\n",
              "          s.onerror = () => reject(`Error loading script: ${paths[lib]}`);\n",
              "          s.src = paths[lib];\n",
              "        });\n",
              "    }\n",
              "\n",
              "    function showError(err) {\n",
              "      outputDiv.innerHTML = `<div class=\"error\" style=\"color:red;\">${err}</div>`;\n",
              "      throw err;\n",
              "    }\n",
              "\n",
              "    function displayChart(vegaEmbed) {\n",
              "      vegaEmbed(outputDiv, spec, embedOpt)\n",
              "        .catch(err => showError(`Javascript Error: ${err.message}<br>This usually means there's a typo in your chart specification. See the javascript console for the full traceback.`));\n",
              "    }\n",
              "\n",
              "    if(typeof define === \"function\" && define.amd) {\n",
              "      requirejs.config({paths});\n",
              "      require([\"vega-embed\"], displayChart, err => showError(`Error loading script: ${err.message}`));\n",
              "    } else {\n",
              "      maybeLoadScript(\"vega\", \"5\")\n",
              "        .then(() => maybeLoadScript(\"vega-lite\", \"4.17.0\"))\n",
              "        .then(() => maybeLoadScript(\"vega-embed\", \"6\"))\n",
              "        .catch(showError)\n",
              "        .then(() => displayChart(vegaEmbed));\n",
              "    }\n",
              "  })({\"config\": {\"view\": {\"continuousWidth\": 400, \"continuousHeight\": 300}}, \"data\": {\"name\": \"data-de07eefee8710c9d6c290089af8ffa85\"}, \"mark\": \"line\", \"encoding\": {\"x\": {\"field\": \"Date\", \"type\": \"temporal\"}, \"y\": {\"field\": \"0056\", \"type\": \"quantitative\"}}, \"height\": 400, \"width\": 1000, \"$schema\": \"https://vega.github.io/schema/vega-lite/v4.17.0.json\", \"datasets\": {\"data-de07eefee8710c9d6c290089af8ffa85\": [{\"0050\": 1.0, \"0056\": 1.0, \"Date\": \"2021-03-18T00:00:00\"}, {\"0050\": 0.9844329804318747, \"0056\": 1.0020876736466642, \"Date\": \"2021-03-19T00:00:00\"}, {\"0050\": 0.9888806518319709, \"0056\": 1.0020876736466642, \"Date\": \"2021-03-22T00:00:00\"}, {\"0050\": 0.9903633220771952, \"0056\": 1.0038771569593825, \"Date\": \"2021-03-23T00:00:00\"}, {\"0050\": 0.974796189397211, \"0056\": 1.0035789666254364, \"Date\": \"2021-03-24T00:00:00\"}, {\"0050\": 0.978131971225248, \"0056\": 1.0038771569593825, \"Date\": \"2021-03-25T00:00:00\"}, {\"0050\": 0.9959229961612097, \"0056\": 1.0080525042527106, \"Date\": \"2021-03-26T00:00:00\"}, {\"0050\": 1.004077116950649, \"0056\": 1.024157512758132, \"Date\": \"2021-03-29T00:00:00\"}, {\"0050\": 1.0074128987786861, \"0056\": 1.0319117129072157, \"Date\": \"2021-03-30T00:00:00\"}, {\"0050\": 0.9988881104279406, \"0056\": 1.0328065114484155, \"Date\": \"2021-03-31T00:00:00\"}, {\"0050\": 1.0063010092066267, \"0056\": 1.0322100170108428, \"Date\": \"2021-04-01T00:00:00\"}, {\"0050\": 1.0214974743253047, \"0056\": 1.0351923754290255, \"Date\": \"2021-04-07T00:00:00\"}, {\"0050\": 1.0248332561533418, \"0056\": 1.036385364304171, \"Date\": \"2021-04-08T00:00:00\"}, {\"0050\": 1.0226093638973641, \"0056\": 1.0348941850950797, \"Date\": \"2021-04-09T00:00:00\"}, {\"0050\": 1.0166790222520434, \"0056\": 1.0345958809914526, \"Date\": \"2021-04-12T00:00:00\"}, {\"0050\": 1.0166790222520434, \"0056\": 1.0280346697175144, \"Date\": \"2021-04-13T00:00:00\"}, {\"0050\": 1.0222386963360581, \"0056\": 1.024455703092078, \"Date\": \"2021-04-14T00:00:00\"}, {\"0050\": 1.0307635977986622, \"0056\": 1.028929354489033, \"Date\": \"2021-04-15T00:00:00\"}, {\"0050\": 1.0322461549320276, \"0056\": 1.0420518908065906, \"Date\": \"2021-04-16T00:00:00\"}, {\"0050\": 1.0340993796266993, \"0056\": 1.0498062047253554, \"Date\": \"2021-04-19T00:00:00\"}, {\"0050\": 1.0322461549320276, \"0056\": 1.0536833616847379, \"Date\": \"2021-04-20T00:00:00\"}, {\"0050\": 1.0229800314586701, \"0056\": 1.0596480785211033, \"Date\": \"2021-04-21T00:00:00\"}, {\"0050\": 1.0222386963360581, \"0056\": 1.055771035331402, \"Date\": \"2021-04-22T00:00:00\"}, {\"0050\": 1.0315048198094157, \"0056\": 1.0527885631435383, \"Date\": \"2021-04-23T00:00:00\"}, {\"0050\": 1.0467012849280937, \"0056\": 1.0733672230459148, \"Date\": \"2021-04-26T00:00:00\"}, {\"0050\": 1.0470719524893997, \"0056\": 1.0730689189422877, \"Date\": \"2021-04-27T00:00:00\"}, {\"0050\": 1.040770943282773, \"0056\": 1.0730689189422877, \"Date\": \"2021-04-28T00:00:00\"}, {\"0050\": 1.0422536135279974, \"0056\": 1.077244266235616, \"Date\": \"2021-04-29T00:00:00\"}, {\"0050\": 1.0248332561533418, \"0056\": 1.0709812452956238, \"Date\": \"2021-05-03T00:00:00\"}, {\"0050\": 1.0159378002412902, \"0056\": 1.0527885631435383, \"Date\": \"2021-05-04T00:00:00\"}, {\"0050\": 1.0063010092066267, \"0056\": 1.0542797423526296, \"Date\": \"2021-05-05T00:00:00\"}, {\"0050\": 1.015196465118678, \"0056\": 1.0527885631435383, \"Date\": \"2021-05-06T00:00:00\"}, {\"0050\": 1.033358044504087, \"0056\": 1.065314718793204, \"Date\": \"2021-05-07T00:00:00\"}, {\"0050\": 1.0263158132867072, \"0056\": 1.070086560524105, \"Date\": \"2021-05-10T00:00:00\"}, {\"0050\": 0.9877687622599116, \"0056\": 1.0348941850950797, \"Date\": \"2021-05-11T00:00:00\"}, {\"0050\": 0.9592290567172269, \"0056\": 0.9991053152284813, \"Date\": \"2021-05-12T00:00:00\"}, {\"0050\": 0.945144594282467, \"0056\": 0.9961229568102986, \"Date\": \"2021-05-13T00:00:00\"}, {\"0050\": 0.95589327488919, \"0056\": 1.0035789666254364, \"Date\": \"2021-05-14T00:00:00\"}, {\"0050\": 0.937731695503781, \"0056\": 0.9767372857830676, \"Date\": \"2021-05-17T00:00:00\"}, {\"0050\": 0.9807265310425316, \"0056\": 1.0143155251927032, \"Date\": \"2021-05-18T00:00:00\"}, {\"0050\": 0.9740548542745989, \"0056\": 1.01699969327694, \"Date\": \"2021-05-19T00:00:00\"}, {\"0050\": 0.967383290618525, \"0056\": 1.009841987565429, \"Date\": \"2021-05-20T00:00:00\"}, {\"0050\": 0.9810971986038377, \"0056\": 1.0140173348587571, \"Date\": \"2021-05-21T00:00:00\"}, {\"0050\": 0.9796145283586135, \"0056\": 1.0155085140678486, \"Date\": \"2021-05-24T00:00:00\"}, {\"0050\": 0.9962935506106569, \"0056\": 1.024157512758132, \"Date\": \"2021-05-25T00:00:00\"}, {\"0050\": 0.9970348857332691, \"0056\": 1.0235610183205592, \"Date\": \"2021-05-26T00:00:00\"}, {\"0050\": 0.9899926545158891, \"0056\": 1.0223680294454138, \"Date\": \"2021-05-27T00:00:00\"}, {\"0050\": 1.0066716767679327, \"0056\": 1.0304205336981245, \"Date\": \"2021-05-28T00:00:00\"}, {\"0050\": 1.0163084678025962, \"0056\": 1.036385364304171, \"Date\": \"2021-05-31T00:00:00\"}, {\"0050\": 1.0207561392026927, \"0056\": 1.0456308574320272, \"Date\": \"2021-06-01T00:00:00\"}, {\"0050\": 1.0207561392026927, \"0056\": 1.0426483852441635, \"Date\": \"2021-06-02T00:00:00\"}, {\"0050\": 1.0200149171919393, \"0056\": 1.0423501949102174, \"Date\": \"2021-06-03T00:00:00\"}, {\"0050\": 1.015196465118678, \"0056\": 1.0369818587417436, \"Date\": \"2021-06-04T00:00:00\"}, {\"0050\": 1.0177910249359616, \"0056\": 1.0354906795326524, \"Date\": \"2021-06-07T00:00:00\"}, {\"0050\": 1.0118606832906412, \"0056\": 1.0334030058859882, \"Date\": \"2021-06-08T00:00:00\"}, {\"0050\": 1.004447784511955, \"0056\": 1.0274381752799417, \"Date\": \"2021-06-09T00:00:00\"}, {\"0050\": 1.0200149171919393, \"0056\": 1.0319117129072157, \"Date\": \"2021-06-10T00:00:00\"}, {\"0050\": 1.0237213665812823, \"0056\": 1.0304205336981245, \"Date\": \"2021-06-11T00:00:00\"}, {\"0050\": 1.0292810406652968, \"0056\": 1.0334030058859882, \"Date\": \"2021-06-15T00:00:00\"}, {\"0050\": 1.0281690379813786, \"0056\": 1.0372800490756897, \"Date\": \"2021-06-16T00:00:00\"}, {\"0050\": 1.0252039237146477, \"0056\": 1.0408590157011262, \"Date\": \"2021-06-17T00:00:00\"}, {\"0050\": 1.0229800314586701, \"0056\": 1.041157206035072, \"Date\": \"2021-06-18T00:00:00\"}, {\"0050\": 0.9985174428666346, \"0056\": 1.0304205336981245, \"Date\": \"2021-06-21T00:00:00\"}, {\"0050\": 0.9996294455505528, \"0056\": 1.0268416808423688, \"Date\": \"2021-06-22T00:00:00\"}, {\"0050\": 1.0159378002412902, \"0056\": 1.0274381752799417, \"Date\": \"2021-06-23T00:00:00\"}, {\"0050\": 1.0133432404240066, \"0056\": 1.033701196219934, \"Date\": \"2021-06-24T00:00:00\"}, {\"0050\": 1.015196465118678, \"0056\": 1.036087173970225, \"Date\": \"2021-06-25T00:00:00\"}, {\"0050\": 1.0170496898133496, \"0056\": 1.0468237325374916, \"Date\": \"2021-06-28T00:00:00\"}, {\"0050\": 1.0200149171919393, \"0056\": 1.0378765435132624, \"Date\": \"2021-06-29T00:00:00\"}, {\"0050\": 1.03002226267605, \"0056\": 1.0438413741193089, \"Date\": \"2021-06-30T00:00:00\"}, {\"0050\": 1.0252039237146477, \"0056\": 1.0438413741193089, \"Date\": \"2021-07-01T00:00:00\"}, {\"0050\": 1.0252039237146477, \"0056\": 1.0498062047253554, \"Date\": \"2021-07-02T00:00:00\"}, {\"0050\": 1.0348407147493113, \"0056\": 1.0644199202520044, \"Date\": \"2021-07-05T00:00:00\"}, {\"0050\": 1.0359526043213707, \"0056\": 1.0709812452956238, \"Date\": \"2021-07-06T00:00:00\"}, {\"0050\": 1.0303929302373562, \"0056\": 1.0620340562713944, \"Date\": \"2021-07-07T00:00:00\"}, {\"0050\": 1.0292810406652968, \"0056\": 1.067700582773814, \"Date\": \"2021-07-08T00:00:00\"}, {\"0050\": 1.0211268067639987, \"0056\": 1.0569639104368664, \"Date\": \"2021-07-09T00:00:00\"}, {\"0050\": 1.0303929302373562, \"0056\": 1.0518938783720195, \"Date\": \"2021-07-12T00:00:00\"}, {\"0050\": 1.0389177185881016, \"0056\": 1.0393677227223537, \"Date\": \"2021-07-13T00:00:00\"}, {\"0050\": 1.0415122784053852, \"0056\": 1.0283328600514603, \"Date\": \"2021-07-14T00:00:00\"}, {\"0050\": 1.0511490694400487, \"0056\": 1.0432448796817362, \"Date\": \"2021-07-15T00:00:00\"}, {\"0050\": 1.0370644938934301, \"0056\": 1.0474202269750643, \"Date\": \"2021-07-16T00:00:00\"}, {\"0050\": 1.0252039237146477, \"0056\": 1.0480167214126372, \"Date\": \"2021-07-19T00:00:00\"}, {\"0050\": 1.0170496898133496, \"0056\": 1.0307188378017513, \"Date\": \"2021-07-20T00:00:00\"}, {\"0050\": 1.0133432404240066, \"0056\": 1.0178944918181396, \"Date\": \"2021-07-21T00:00:00\"}, {\"0050\": 1.0203854716413865, \"0056\": 1.0202803557987496, \"Date\": \"2021-07-22T00:00:00\"}, {\"0050\": 1.0203854716413865, \"0056\": 1.0280346697175144, \"Date\": \"2021-07-23T00:00:00\"}, {\"0050\": 1.0114900157293352, \"0056\": 1.028929354489033, \"Date\": \"2021-07-26T00:00:00\"}, {\"0050\": 1.011119348168029, \"0056\": 1.0161050085054213, \"Date\": \"2021-07-27T00:00:00\"}, {\"0050\": 0.9951816610385976, \"0056\": 1.0107366723369475, \"Date\": \"2021-07-28T00:00:00\"}, {\"0050\": 1.0118606832906412, \"0056\": 1.01699969327694, \"Date\": \"2021-07-29T00:00:00\"}, {\"0050\": 1.008524901462604, \"0056\": 1.0110349764405744, \"Date\": \"2021-07-30T00:00:00\"}, {\"0050\": 1.0222386963360581, \"0056\": 1.0140173348587571, \"Date\": \"2021-08-02T00:00:00\"}, {\"0050\": 1.0263158132867072, \"0056\": 1.0184909862557123, \"Date\": \"2021-08-03T00:00:00\"}, {\"0050\": 1.0322461549320276, \"0056\": 1.024455703092078, \"Date\": \"2021-08-04T00:00:00\"}, {\"0050\": 1.0303929302373562, \"0056\": 1.0199821654648038, \"Date\": \"2021-08-05T00:00:00\"}, {\"0050\": 1.0289103731039908, \"0056\": 1.021473344673895, \"Date\": \"2021-08-06T00:00:00\"}, {\"0050\": 1.025945145725401, \"0056\": 1.01699969327694, \"Date\": \"2021-08-09T00:00:00\"}, {\"0050\": 1.0203854716413865, \"0056\": 1.0077543139187648, \"Date\": \"2021-08-10T00:00:00\"}, {\"0050\": 1.0170496898133496, \"0056\": 0.9988071248945355, \"Date\": \"2021-08-11T00:00:00\"}, {\"0050\": 1.015196465118678, \"0056\": 0.9994035055624273, \"Date\": \"2021-08-12T00:00:00\"}, {\"0050\": 1.0055596740840145, \"0056\": 0.9922457998509162, \"Date\": \"2021-08-13T00:00:00\"}, {\"0050\": 1.0033358949398958, \"0056\": 0.9800179483048772, \"Date\": \"2021-08-16T00:00:00\"}, {\"0050\": 0.9959229961612097, \"0056\": 0.9701759607394483, \"Date\": \"2021-08-17T00:00:00\"}, {\"0050\": 1.0, \"0056\": 0.9862809692448696, \"Date\": \"2021-08-18T00:00:00\"}, {\"0050\": 0.9770200816531887, \"0056\": 0.9639129397994559, \"Date\": \"2021-08-19T00:00:00\"}, {\"0050\": 0.9692365153131965, \"0056\": 0.9621234564867377, \"Date\": \"2021-08-20T00:00:00\"}, {\"0050\": 0.9959229961612097, \"0056\": 0.98061444274245, \"Date\": \"2021-08-23T00:00:00\"}, {\"0050\": 0.9988881104279406, \"0056\": 0.978228464992159, \"Date\": \"2021-08-24T00:00:00\"}, {\"0050\": 1.008524901462604, \"0056\": 0.9841932955982056, \"Date\": \"2021-08-25T00:00:00\"}, {\"0050\": 1.0155671326799842, \"0056\": 0.9838951052642597, \"Date\": \"2021-08-26T00:00:00\"}, {\"0050\": 1.0240919210307295, \"0056\": 0.9874739581200151, \"Date\": \"2021-08-27T00:00:00\"}, {\"0050\": 1.0340993796266993, \"0056\": 0.9928422942884889, \"Date\": \"2021-08-30T00:00:00\"}, {\"0050\": 1.0404003888333258, \"0056\": 0.9955264623727259, \"Date\": \"2021-08-31T00:00:00\"}, {\"0050\": 1.0452187277947282, \"0056\": 0.9958246527066718, \"Date\": \"2021-09-01T00:00:00\"}, {\"0050\": 1.0370644938934301, \"0056\": 0.9889651373291065, \"Date\": \"2021-09-02T00:00:00\"}, {\"0050\": 1.0518902914508022, \"0056\": 0.9913511150793975, \"Date\": \"2021-09-03T00:00:00\"}, {\"0050\": 1.0567087435240634, \"0056\": 0.9862809692448696, \"Date\": \"2021-09-06T00:00:00\"}, {\"0050\": 1.0518902914508022, \"0056\": 0.9889651373291065, \"Date\": \"2021-09-07T00:00:00\"}, {\"0050\": 1.0426241679774446, \"0056\": 0.978228464992159, \"Date\": \"2021-09-08T00:00:00\"}, {\"0050\": 1.0400297212720198, \"0056\": 0.9824038122854872, \"Date\": \"2021-09-09T00:00:00\"}, {\"0050\": 1.0522609590121081, \"0056\": 0.9907546206418248, \"Date\": \"2021-09-10T00:00:00\"}, {\"0050\": 1.048554509622765, \"0056\": 0.9964211471442445, \"Date\": \"2021-09-13T00:00:00\"}, {\"0050\": 1.0496665123066833, \"0056\": 0.9949299679351531, \"Date\": \"2021-09-14T00:00:00\"}, {\"0050\": 1.0433655031000568, \"0056\": 0.9940352831636344, \"Date\": \"2021-09-15T00:00:00\"}, {\"0050\": 1.0385471641386543, \"0056\": 0.9925439901848621, \"Date\": \"2021-09-16T00:00:00\"}, {\"0050\": 1.0415122784053852, \"0056\": 0.9967193374781903, \"Date\": \"2021-09-17T00:00:00\"}, {\"0050\": 1.0170496898133496, \"0056\": 0.9812109371800227, \"Date\": \"2021-09-22T00:00:00\"}, {\"0050\": 1.0229800314586701, \"0056\": 0.9865792733484966, \"Date\": \"2021-09-23T00:00:00\"}, {\"0050\": 1.0352112691987585, \"0056\": 0.9931404846224349, \"Date\": \"2021-09-24T00:00:00\"}, {\"0050\": 1.0378058290160421, \"0056\": 0.9931404846224349, \"Date\": \"2021-09-27T00:00:00\"}, {\"0050\": 1.0303929302373562, \"0056\": 0.9865792733484966, \"Date\": \"2021-09-28T00:00:00\"}, {\"0050\": 1.008154233901298, \"0056\": 0.9752461065739763, \"Date\": \"2021-09-29T00:00:00\"}, {\"0050\": 1.0159378002412902, \"0056\": 0.9773337802206403, \"Date\": \"2021-09-30T00:00:00\"}, {\"0050\": 0.9929577687826201, \"0056\": 0.9621234564867377, \"Date\": \"2021-10-01T00:00:00\"}, {\"0050\": 0.9870274271372995, \"0056\": 0.9495974146067528, \"Date\": \"2021-10-04T00:00:00\"}, {\"0050\": 0.985544870003934, \"0056\": 0.9531762674625084, \"Date\": \"2021-10-05T00:00:00\"}, {\"0050\": 0.9859155375652401, \"0056\": 0.9507903465970579, \"Date\": \"2021-10-06T00:00:00\"}, {\"0050\": 1.0033358949398958, \"0056\": 0.9713689496145939, \"Date\": \"2021-10-07T00:00:00\"}, {\"0050\": 0.9948109934772915, \"0056\": 0.9719654440521666, \"Date\": \"2021-10-08T00:00:00\"}, {\"0050\": 0.9848036479931808, \"0056\": 0.9615270758188459, \"Date\": \"2021-10-12T00:00:00\"}, {\"0050\": 0.9814677530532849, \"0056\": 0.9594392884025007, \"Date\": \"2021-10-13T00:00:00\"}, {\"0050\": 0.9840623128705686, \"0056\": 0.9597375925061277, \"Date\": \"2021-10-14T00:00:00\"}, {\"0050\": 1.0100074585959697, \"0056\": 0.9636147494655101, \"Date\": \"2021-10-15T00:00:00\"}, {\"0050\": 1.0070423443292387, \"0056\": 0.9651059286746014, \"Date\": \"2021-10-18T00:00:00\"}, {\"0050\": 1.015196465118678, \"0056\": 0.966298917549747, \"Date\": \"2021-10-19T00:00:00\"}, {\"0050\": 1.0126020184132534, \"0056\": 0.9654041190085473, \"Date\": \"2021-10-20T00:00:00\"}, {\"0050\": 1.0088955690239103, \"0056\": 0.966298917549747, \"Date\": \"2021-10-21T00:00:00\"}, {\"0050\": 1.0118606832906412, \"0056\": 0.9197733753462012, \"Date\": \"2021-10-22T00:00:00\"}, {\"0050\": 1.011119348168029, \"0056\": 0.9203698697837739, \"Date\": \"2021-10-25T00:00:00\"}, {\"0050\": 1.0196442496306333, \"0056\": 0.9260363962861935, \"Date\": \"2021-10-26T00:00:00\"}, {\"0050\": 1.0196442496306333, \"0056\": 0.9290188115892168, \"Date\": \"2021-10-27T00:00:00\"}, {\"0050\": 1.0166790222520434, \"0056\": 0.9361765741855683, \"Date\": \"2021-10-28T00:00:00\"}, {\"0050\": 1.0066716767679327, \"0056\": 0.9379660574982867, \"Date\": \"2021-10-29T00:00:00\"}, {\"0050\": 1.0118606832906412, \"0056\": 0.9412466631352557, \"Date\": \"2021-11-01T00:00:00\"}, {\"0050\": 1.0100074585959697, \"0056\": 0.9403519783637372, \"Date\": \"2021-11-02T00:00:00\"}, {\"0050\": 1.0126020184132534, \"0056\": 0.9475097409600887, \"Date\": \"2021-11-03T00:00:00\"}, {\"0050\": 1.0092661234733575, \"0056\": 0.9501939090443255, \"Date\": \"2021-11-04T00:00:00\"}, {\"0050\": 1.0237213665812823, \"0056\": 0.9528780771285624, \"Date\": \"2021-11-05T00:00:00\"}, {\"0050\": 1.0318754873707217, \"0056\": 0.9660006134461201, \"Date\": \"2021-11-08T00:00:00\"}, {\"0050\": 1.0429948355387506, \"0056\": 0.9648076245709746, \"Date\": \"2021-11-09T00:00:00\"}, {\"0050\": 1.0415122784053852, \"0056\": 0.9645094342370286, \"Date\": \"2021-11-10T00:00:00\"}, {\"0050\": 1.0322461549320276, \"0056\": 0.958842907734609, \"Date\": \"2021-11-11T00:00:00\"}, {\"0050\": 1.0355819367600647, \"0056\": 0.9603340869437004, \"Date\": \"2021-11-12T00:00:00\"}, {\"0050\": 1.0448480602334222, \"0056\": 0.9671936023212656, \"Date\": \"2021-11-15T00:00:00\"}, {\"0050\": 1.0467012849280937, \"0056\": 0.9719654440521666, \"Date\": \"2021-11-16T00:00:00\"}, {\"0050\": 1.0500370667561305, \"0056\": 0.9755442969079221, \"Date\": \"2021-11-17T00:00:00\"}, {\"0050\": 1.0559674084014512, \"0056\": 0.9835968011606327, \"Date\": \"2021-11-18T00:00:00\"}, {\"0050\": 1.0585619682187348, \"0056\": 0.9821056219515414, \"Date\": \"2021-11-19T00:00:00\"}, {\"0050\": 1.0559674084014512, \"0056\": 0.9821056219515414, \"Date\": \"2021-11-22T00:00:00\"}, {\"0050\": 1.0459600629173404, \"0056\": 0.9731584329273121, \"Date\": \"2021-11-23T00:00:00\"}, {\"0050\": 1.0415122784053852, \"0056\": 0.9725619384897394, \"Date\": \"2021-11-24T00:00:00\"}, {\"0050\": 1.0411416108440792, \"0056\": 0.9737549273648849, \"Date\": \"2021-11-25T00:00:00\"}, {\"0050\": 1.0240919210307295, \"0056\": 0.9648076245709746, \"Date\": \"2021-11-26T00:00:00\"}, {\"0050\": 1.0240919210307295, \"0056\": 0.9609305813812732, \"Date\": \"2021-11-29T00:00:00\"}, {\"0050\": 1.0229800314586701, \"0056\": 0.9633164453618831, \"Date\": \"2021-11-30T00:00:00\"}, {\"0050\": 1.0400297212720198, \"0056\": 0.9692812759679297, \"Date\": \"2021-12-01T00:00:00\"}, {\"0050\": 1.0511490694400487, \"0056\": 0.968386591196411, \"Date\": \"2021-12-02T00:00:00\"}, {\"0050\": 1.0507784018787427, \"0056\": 0.9737549273648849, \"Date\": \"2021-12-03T00:00:00\"}, {\"0050\": 1.0478132876120119, \"0056\": 0.9800179483048772, \"Date\": \"2021-12-06T00:00:00\"}, {\"0050\": 1.0511490694400487, \"0056\": 0.9850879803697241, \"Date\": \"2021-12-07T00:00:00\"}, {\"0050\": 1.0552261863906978, \"0056\": 0.9895616317666793, \"Date\": \"2021-12-08T00:00:00\"}, {\"0050\": 1.0526316265734141, \"0056\": 0.9937369790600076, \"Date\": \"2021-12-09T00:00:00\"}, {\"0050\": 1.0522609590121081, \"0056\": 0.9931404846224349, \"Date\": \"2021-12-10T00:00:00\"}, {\"0050\": 1.0489251771840713, \"0056\": 0.9940352831636344, \"Date\": \"2021-12-13T00:00:00\"}, {\"0050\": 1.0385471641386543, \"0056\": 0.9827021163891142, \"Date\": \"2021-12-14T00:00:00\"}, {\"0050\": 1.0400297212720198, \"0056\": 0.9853862844733511, \"Date\": \"2021-12-15T00:00:00\"}, {\"0050\": 1.0530022941347204, \"0056\": 0.99761413601939, \"Date\": \"2021-12-16T00:00:00\"}, {\"0050\": 1.0518902914508022, \"0056\": 0.9970176415818173, \"Date\": \"2021-12-17T00:00:00\"}, {\"0050\": 1.0426241679774446, \"0056\": 0.9964211471442445, \"Date\": \"2021-12-20T00:00:00\"}, {\"0050\": 1.051519737001355, \"0056\": 0.9949299679351531, \"Date\": \"2021-12-21T00:00:00\"}, {\"0050\": 1.051519737001355, \"0056\": 0.9931404846224349, \"Date\": \"2021-12-22T00:00:00\"}, {\"0050\": 1.0574499655348166, \"0056\": 0.9943334734975804, \"Date\": \"2021-12-23T00:00:00\"}, {\"0050\": 1.0604151929134062, \"0056\": 0.9928422942884889, \"Date\": \"2021-12-24T00:00:00\"}, {\"0050\": 1.0685693137028456, \"0056\": 0.9955264623727259, \"Date\": \"2021-12-27T00:00:00\"}, {\"0050\": 1.07709421516545, \"0056\": 1.0008947985411996, \"Date\": \"2021-12-28T00:00:00\"}, {\"0050\": 1.0819125541268522, \"0056\": 1.002385977750291, \"Date\": \"2021-12-29T00:00:00\"}, {\"0050\": 1.0785767722988153, \"0056\": 1.0014912929787725, \"Date\": \"2021-12-30T00:00:00\"}, {\"0050\": 1.0852483359548892, \"0056\": 0.9967193374781903, \"Date\": \"2022-01-03T00:00:00\"}, {\"0050\": 1.1089697025361716, \"0056\": 0.9964211471442445, \"Date\": \"2022-01-04T00:00:00\"}, {\"0050\": 1.106745810280194, \"0056\": 0.99761413601939, \"Date\": \"2022-01-05T00:00:00\"}, {\"0050\": 1.0963676841229182, \"0056\": 0.9964211471442445, \"Date\": \"2022-01-06T00:00:00\"}, {\"0050\": 1.0867310062001134, \"0056\": 0.9892633276630525, \"Date\": \"2022-01-07T00:00:00\"}, {\"0050\": 1.0937732374174933, \"0056\": 0.9922457998509162, \"Date\": \"2022-01-10T00:00:00\"}, {\"0050\": 1.0993329115015078, \"0056\": 0.990158126204252, \"Date\": \"2022-01-11T00:00:00\"}, {\"0050\": 1.1085990349748653, \"0056\": 0.9871756540163883, \"Date\": \"2022-01-12T00:00:00\"}, {\"0050\": 1.1141587090588798, \"0056\": 0.990158126204252, \"Date\": \"2022-01-13T00:00:00\"}, {\"0050\": 1.1141587090588798, \"0056\": 0.9886669469951607, \"Date\": \"2022-01-14T00:00:00\"}, {\"0050\": 1.1267606143602744, \"0056\": 0.9907546206418248, \"Date\": \"2022-01-17T00:00:00\"}, {\"0050\": 1.1141587090588798, \"0056\": 0.99761413601939, \"Date\": \"2022-01-18T00:00:00\"}, {\"0050\": 1.1008154686348732, \"0056\": 0.990456316538198, \"Date\": \"2022-01-19T00:00:00\"}, {\"0050\": 1.1052632531468285, \"0056\": 0.9949299679351531, \"Date\": \"2022-01-20T00:00:00\"}, {\"0050\": 1.0574499655348166, \"0056\": 0.9794214538673045, \"Date\": \"2022-01-21T00:00:00\"}, {\"0050\": 1.0674574241307864, \"0056\": 0.975842601011549, \"Date\": \"2022-01-24T00:00:00\"}, {\"0050\": 1.0500370667561305, \"0056\": 0.9645094342370286, \"Date\": \"2022-01-25T00:00:00\"}, {\"0050\": 1.0492958447453773, \"0056\": 0.966298917549747, \"Date\": \"2022-01-26T00:00:00\"}, {\"0050\": 1.0548555188293918, \"0056\": 0.9841932955982056, \"Date\": \"2022-02-07T00:00:00\"}, {\"0050\": 1.059303190229488, \"0056\": 0.9931404846224349, \"Date\": \"2022-02-08T00:00:00\"}, {\"0050\": 1.063009639618831, \"0056\": 0.9991053152284813, \"Date\": \"2022-02-09T00:00:00\"}, {\"0050\": 1.0752409904707783, \"0056\": 0.9988071248945355, \"Date\": \"2022-02-10T00:00:00\"}, {\"0050\": 1.0744996553481663, \"0056\": 0.9970176415818173, \"Date\": \"2022-02-11T00:00:00\"}, {\"0050\": 1.0578206330961226, \"0056\": 0.988070452557588, \"Date\": \"2022-02-14T00:00:00\"}, {\"0050\": 1.0530022941347204, \"0056\": 0.9871756540163883, \"Date\": \"2022-02-15T00:00:00\"}, {\"0050\": 1.0704225383975172, \"0056\": 0.9922457998509162, \"Date\": \"2022-02-16T00:00:00\"}, {\"0050\": 1.0711638735201292, \"0056\": 0.9943334734975804, \"Date\": \"2022-02-17T00:00:00\"}, {\"0050\": 1.0681987592533984, \"0056\": 0.9991053152284813, \"Date\": \"2022-02-18T00:00:00\"}, {\"0050\": 1.0659748669974207, \"0056\": 1.0080525042527106, \"Date\": \"2022-02-21T00:00:00\"}, {\"0050\": 1.051519737001355, \"0056\": 0.9988071248945355, \"Date\": \"2022-02-22T00:00:00\"}, {\"0050\": 1.0544848512680858, \"0056\": 1.0065613250436194, \"Date\": \"2022-02-23T00:00:00\"}, {\"0050\": 1.0289103731039908, \"0056\": 0.9898598221006252, \"Date\": \"2022-02-24T00:00:00\"}, {\"0050\": 1.0266864808480132, \"0056\": 0.9940352831636344, \"Date\": \"2022-02-25T00:00:00\"}, {\"0050\": 1.0411416108440792, \"0056\": 1.0104384820030017, \"Date\": \"2022-03-01T00:00:00\"}, {\"0050\": 1.0352112691987585, \"0056\": 1.0131226500872386, \"Date\": \"2022-03-02T00:00:00\"}, {\"0050\": 1.0374351614547361, \"0056\": 1.0205786599023765, \"Date\": \"2022-03-03T00:00:00\"}, {\"0050\": 1.0263158132867072, \"0056\": 1.0152103237339027, \"Date\": \"2022-03-04T00:00:00\"}, {\"0050\": 0.9933284363439261, \"0056\": 0.99761413601939, \"Date\": \"2022-03-07T00:00:00\"}, {\"0050\": 0.9722016295799274, \"0056\": 0.9841932955982056, \"Date\": \"2022-03-08T00:00:00\"}, {\"0050\": 0.9822090881758971, \"0056\": 0.9949299679351531, \"Date\": \"2022-03-09T00:00:00\"}, {\"0050\": 1.0107487937185817, \"0056\": 1.0107366723369475, \"Date\": \"2022-03-10T00:00:00\"}, {\"0050\": 0.9962935506106569, \"0056\": 1.0110349764405744, \"Date\": \"2022-03-11T00:00:00\"}, {\"0050\": 0.9962935506106569, \"0056\": 1.0178944918181396, \"Date\": \"2022-03-14T00:00:00\"}, {\"0050\": 0.9759080789692705, \"0056\": 1.007456009815138, \"Date\": \"2022-03-15T00:00:00\"}, {\"0050\": 0.9799851959199195, \"0056\": 1.0053683361684738, \"Date\": \"2022-03-16T00:00:00\"}, {\"0050\": 1.0100074585959697, \"0056\": 1.0086489986902833, \"Date\": \"2022-03-18T00:00:00\"}]}}, {\"mode\": \"vega-lite\"});\n",
              "</script>"
            ],
            "text/plain": [
              "alt.Chart(...)"
            ]
          },
          "metadata": {},
          "execution_count": 24
        }
      ]
    },
    {
      "cell_type": "code",
      "source": [
        "price1 & price2"
      ],
      "metadata": {
        "id": "0lPHnJUKyY4R",
        "outputId": "2c3c73ec-4bf2-4592-d803-a0eac1f5eb8e",
        "colab": {
          "base_uri": "https://localhost:8080/",
          "height": 929
        }
      },
      "execution_count": 25,
      "outputs": [
        {
          "output_type": "execute_result",
          "data": {
            "text/html": [
              "\n",
              "<div id=\"altair-viz-fc8b820e9a0f454d98d02af6c7988bf4\"></div>\n",
              "<script type=\"text/javascript\">\n",
              "  var VEGA_DEBUG = (typeof VEGA_DEBUG == \"undefined\") ? {} : VEGA_DEBUG;\n",
              "  (function(spec, embedOpt){\n",
              "    let outputDiv = document.currentScript.previousElementSibling;\n",
              "    if (outputDiv.id !== \"altair-viz-fc8b820e9a0f454d98d02af6c7988bf4\") {\n",
              "      outputDiv = document.getElementById(\"altair-viz-fc8b820e9a0f454d98d02af6c7988bf4\");\n",
              "    }\n",
              "    const paths = {\n",
              "      \"vega\": \"https://cdn.jsdelivr.net/npm//vega@5?noext\",\n",
              "      \"vega-lib\": \"https://cdn.jsdelivr.net/npm//vega-lib?noext\",\n",
              "      \"vega-lite\": \"https://cdn.jsdelivr.net/npm//vega-lite@4.17.0?noext\",\n",
              "      \"vega-embed\": \"https://cdn.jsdelivr.net/npm//vega-embed@6?noext\",\n",
              "    };\n",
              "\n",
              "    function maybeLoadScript(lib, version) {\n",
              "      var key = `${lib.replace(\"-\", \"\")}_version`;\n",
              "      return (VEGA_DEBUG[key] == version) ?\n",
              "        Promise.resolve(paths[lib]) :\n",
              "        new Promise(function(resolve, reject) {\n",
              "          var s = document.createElement('script');\n",
              "          document.getElementsByTagName(\"head\")[0].appendChild(s);\n",
              "          s.async = true;\n",
              "          s.onload = () => {\n",
              "            VEGA_DEBUG[key] = version;\n",
              "            return resolve(paths[lib]);\n",
              "          };\n",
              "          s.onerror = () => reject(`Error loading script: ${paths[lib]}`);\n",
              "          s.src = paths[lib];\n",
              "        });\n",
              "    }\n",
              "\n",
              "    function showError(err) {\n",
              "      outputDiv.innerHTML = `<div class=\"error\" style=\"color:red;\">${err}</div>`;\n",
              "      throw err;\n",
              "    }\n",
              "\n",
              "    function displayChart(vegaEmbed) {\n",
              "      vegaEmbed(outputDiv, spec, embedOpt)\n",
              "        .catch(err => showError(`Javascript Error: ${err.message}<br>This usually means there's a typo in your chart specification. See the javascript console for the full traceback.`));\n",
              "    }\n",
              "\n",
              "    if(typeof define === \"function\" && define.amd) {\n",
              "      requirejs.config({paths});\n",
              "      require([\"vega-embed\"], displayChart, err => showError(`Error loading script: ${err.message}`));\n",
              "    } else {\n",
              "      maybeLoadScript(\"vega\", \"5\")\n",
              "        .then(() => maybeLoadScript(\"vega-lite\", \"4.17.0\"))\n",
              "        .then(() => maybeLoadScript(\"vega-embed\", \"6\"))\n",
              "        .catch(showError)\n",
              "        .then(() => displayChart(vegaEmbed));\n",
              "    }\n",
              "  })({\"config\": {\"view\": {\"continuousWidth\": 400, \"continuousHeight\": 300}}, \"vconcat\": [{\"mark\": \"line\", \"encoding\": {\"x\": {\"field\": \"Date\", \"type\": \"temporal\"}, \"y\": {\"field\": \"0050\", \"type\": \"quantitative\"}}, \"height\": 400, \"width\": 1000}, {\"mark\": \"line\", \"encoding\": {\"x\": {\"field\": \"Date\", \"type\": \"temporal\"}, \"y\": {\"field\": \"0056\", \"type\": \"quantitative\"}}, \"height\": 400, \"width\": 1000}], \"data\": {\"name\": \"data-de07eefee8710c9d6c290089af8ffa85\"}, \"$schema\": \"https://vega.github.io/schema/vega-lite/v4.17.0.json\", \"datasets\": {\"data-de07eefee8710c9d6c290089af8ffa85\": [{\"0050\": 1.0, \"0056\": 1.0, \"Date\": \"2021-03-18T00:00:00\"}, {\"0050\": 0.9844329804318747, \"0056\": 1.0020876736466642, \"Date\": \"2021-03-19T00:00:00\"}, {\"0050\": 0.9888806518319709, \"0056\": 1.0020876736466642, \"Date\": \"2021-03-22T00:00:00\"}, {\"0050\": 0.9903633220771952, \"0056\": 1.0038771569593825, \"Date\": \"2021-03-23T00:00:00\"}, {\"0050\": 0.974796189397211, \"0056\": 1.0035789666254364, \"Date\": \"2021-03-24T00:00:00\"}, {\"0050\": 0.978131971225248, \"0056\": 1.0038771569593825, \"Date\": \"2021-03-25T00:00:00\"}, {\"0050\": 0.9959229961612097, \"0056\": 1.0080525042527106, \"Date\": \"2021-03-26T00:00:00\"}, {\"0050\": 1.004077116950649, \"0056\": 1.024157512758132, \"Date\": \"2021-03-29T00:00:00\"}, {\"0050\": 1.0074128987786861, \"0056\": 1.0319117129072157, \"Date\": \"2021-03-30T00:00:00\"}, {\"0050\": 0.9988881104279406, \"0056\": 1.0328065114484155, \"Date\": \"2021-03-31T00:00:00\"}, {\"0050\": 1.0063010092066267, \"0056\": 1.0322100170108428, \"Date\": \"2021-04-01T00:00:00\"}, {\"0050\": 1.0214974743253047, \"0056\": 1.0351923754290255, \"Date\": \"2021-04-07T00:00:00\"}, {\"0050\": 1.0248332561533418, \"0056\": 1.036385364304171, \"Date\": \"2021-04-08T00:00:00\"}, {\"0050\": 1.0226093638973641, \"0056\": 1.0348941850950797, \"Date\": \"2021-04-09T00:00:00\"}, {\"0050\": 1.0166790222520434, \"0056\": 1.0345958809914526, \"Date\": \"2021-04-12T00:00:00\"}, {\"0050\": 1.0166790222520434, \"0056\": 1.0280346697175144, \"Date\": \"2021-04-13T00:00:00\"}, {\"0050\": 1.0222386963360581, \"0056\": 1.024455703092078, \"Date\": \"2021-04-14T00:00:00\"}, {\"0050\": 1.0307635977986622, \"0056\": 1.028929354489033, \"Date\": \"2021-04-15T00:00:00\"}, {\"0050\": 1.0322461549320276, \"0056\": 1.0420518908065906, \"Date\": \"2021-04-16T00:00:00\"}, {\"0050\": 1.0340993796266993, \"0056\": 1.0498062047253554, \"Date\": \"2021-04-19T00:00:00\"}, {\"0050\": 1.0322461549320276, \"0056\": 1.0536833616847379, \"Date\": \"2021-04-20T00:00:00\"}, {\"0050\": 1.0229800314586701, \"0056\": 1.0596480785211033, \"Date\": \"2021-04-21T00:00:00\"}, {\"0050\": 1.0222386963360581, \"0056\": 1.055771035331402, \"Date\": \"2021-04-22T00:00:00\"}, {\"0050\": 1.0315048198094157, \"0056\": 1.0527885631435383, \"Date\": \"2021-04-23T00:00:00\"}, {\"0050\": 1.0467012849280937, \"0056\": 1.0733672230459148, \"Date\": \"2021-04-26T00:00:00\"}, {\"0050\": 1.0470719524893997, \"0056\": 1.0730689189422877, \"Date\": \"2021-04-27T00:00:00\"}, {\"0050\": 1.040770943282773, \"0056\": 1.0730689189422877, \"Date\": \"2021-04-28T00:00:00\"}, {\"0050\": 1.0422536135279974, \"0056\": 1.077244266235616, \"Date\": \"2021-04-29T00:00:00\"}, {\"0050\": 1.0248332561533418, \"0056\": 1.0709812452956238, \"Date\": \"2021-05-03T00:00:00\"}, {\"0050\": 1.0159378002412902, \"0056\": 1.0527885631435383, \"Date\": \"2021-05-04T00:00:00\"}, {\"0050\": 1.0063010092066267, \"0056\": 1.0542797423526296, \"Date\": \"2021-05-05T00:00:00\"}, {\"0050\": 1.015196465118678, \"0056\": 1.0527885631435383, \"Date\": \"2021-05-06T00:00:00\"}, {\"0050\": 1.033358044504087, \"0056\": 1.065314718793204, \"Date\": \"2021-05-07T00:00:00\"}, {\"0050\": 1.0263158132867072, \"0056\": 1.070086560524105, \"Date\": \"2021-05-10T00:00:00\"}, {\"0050\": 0.9877687622599116, \"0056\": 1.0348941850950797, \"Date\": \"2021-05-11T00:00:00\"}, {\"0050\": 0.9592290567172269, \"0056\": 0.9991053152284813, \"Date\": \"2021-05-12T00:00:00\"}, {\"0050\": 0.945144594282467, \"0056\": 0.9961229568102986, \"Date\": \"2021-05-13T00:00:00\"}, {\"0050\": 0.95589327488919, \"0056\": 1.0035789666254364, \"Date\": \"2021-05-14T00:00:00\"}, {\"0050\": 0.937731695503781, \"0056\": 0.9767372857830676, \"Date\": \"2021-05-17T00:00:00\"}, {\"0050\": 0.9807265310425316, \"0056\": 1.0143155251927032, \"Date\": \"2021-05-18T00:00:00\"}, {\"0050\": 0.9740548542745989, \"0056\": 1.01699969327694, \"Date\": \"2021-05-19T00:00:00\"}, {\"0050\": 0.967383290618525, \"0056\": 1.009841987565429, \"Date\": \"2021-05-20T00:00:00\"}, {\"0050\": 0.9810971986038377, \"0056\": 1.0140173348587571, \"Date\": \"2021-05-21T00:00:00\"}, {\"0050\": 0.9796145283586135, \"0056\": 1.0155085140678486, \"Date\": \"2021-05-24T00:00:00\"}, {\"0050\": 0.9962935506106569, \"0056\": 1.024157512758132, \"Date\": \"2021-05-25T00:00:00\"}, {\"0050\": 0.9970348857332691, \"0056\": 1.0235610183205592, \"Date\": \"2021-05-26T00:00:00\"}, {\"0050\": 0.9899926545158891, \"0056\": 1.0223680294454138, \"Date\": \"2021-05-27T00:00:00\"}, {\"0050\": 1.0066716767679327, \"0056\": 1.0304205336981245, \"Date\": \"2021-05-28T00:00:00\"}, {\"0050\": 1.0163084678025962, \"0056\": 1.036385364304171, \"Date\": \"2021-05-31T00:00:00\"}, {\"0050\": 1.0207561392026927, \"0056\": 1.0456308574320272, \"Date\": \"2021-06-01T00:00:00\"}, {\"0050\": 1.0207561392026927, \"0056\": 1.0426483852441635, \"Date\": \"2021-06-02T00:00:00\"}, {\"0050\": 1.0200149171919393, \"0056\": 1.0423501949102174, \"Date\": \"2021-06-03T00:00:00\"}, {\"0050\": 1.015196465118678, \"0056\": 1.0369818587417436, \"Date\": \"2021-06-04T00:00:00\"}, {\"0050\": 1.0177910249359616, \"0056\": 1.0354906795326524, \"Date\": \"2021-06-07T00:00:00\"}, {\"0050\": 1.0118606832906412, \"0056\": 1.0334030058859882, \"Date\": \"2021-06-08T00:00:00\"}, {\"0050\": 1.004447784511955, \"0056\": 1.0274381752799417, \"Date\": \"2021-06-09T00:00:00\"}, {\"0050\": 1.0200149171919393, \"0056\": 1.0319117129072157, \"Date\": \"2021-06-10T00:00:00\"}, {\"0050\": 1.0237213665812823, \"0056\": 1.0304205336981245, \"Date\": \"2021-06-11T00:00:00\"}, {\"0050\": 1.0292810406652968, \"0056\": 1.0334030058859882, \"Date\": \"2021-06-15T00:00:00\"}, {\"0050\": 1.0281690379813786, \"0056\": 1.0372800490756897, \"Date\": \"2021-06-16T00:00:00\"}, {\"0050\": 1.0252039237146477, \"0056\": 1.0408590157011262, \"Date\": \"2021-06-17T00:00:00\"}, {\"0050\": 1.0229800314586701, \"0056\": 1.041157206035072, \"Date\": \"2021-06-18T00:00:00\"}, {\"0050\": 0.9985174428666346, \"0056\": 1.0304205336981245, \"Date\": \"2021-06-21T00:00:00\"}, {\"0050\": 0.9996294455505528, \"0056\": 1.0268416808423688, \"Date\": \"2021-06-22T00:00:00\"}, {\"0050\": 1.0159378002412902, \"0056\": 1.0274381752799417, \"Date\": \"2021-06-23T00:00:00\"}, {\"0050\": 1.0133432404240066, \"0056\": 1.033701196219934, \"Date\": \"2021-06-24T00:00:00\"}, {\"0050\": 1.015196465118678, \"0056\": 1.036087173970225, \"Date\": \"2021-06-25T00:00:00\"}, {\"0050\": 1.0170496898133496, \"0056\": 1.0468237325374916, \"Date\": \"2021-06-28T00:00:00\"}, {\"0050\": 1.0200149171919393, \"0056\": 1.0378765435132624, \"Date\": \"2021-06-29T00:00:00\"}, {\"0050\": 1.03002226267605, \"0056\": 1.0438413741193089, \"Date\": \"2021-06-30T00:00:00\"}, {\"0050\": 1.0252039237146477, \"0056\": 1.0438413741193089, \"Date\": \"2021-07-01T00:00:00\"}, {\"0050\": 1.0252039237146477, \"0056\": 1.0498062047253554, \"Date\": \"2021-07-02T00:00:00\"}, {\"0050\": 1.0348407147493113, \"0056\": 1.0644199202520044, \"Date\": \"2021-07-05T00:00:00\"}, {\"0050\": 1.0359526043213707, \"0056\": 1.0709812452956238, \"Date\": \"2021-07-06T00:00:00\"}, {\"0050\": 1.0303929302373562, \"0056\": 1.0620340562713944, \"Date\": \"2021-07-07T00:00:00\"}, {\"0050\": 1.0292810406652968, \"0056\": 1.067700582773814, \"Date\": \"2021-07-08T00:00:00\"}, {\"0050\": 1.0211268067639987, \"0056\": 1.0569639104368664, \"Date\": \"2021-07-09T00:00:00\"}, {\"0050\": 1.0303929302373562, \"0056\": 1.0518938783720195, \"Date\": \"2021-07-12T00:00:00\"}, {\"0050\": 1.0389177185881016, \"0056\": 1.0393677227223537, \"Date\": \"2021-07-13T00:00:00\"}, {\"0050\": 1.0415122784053852, \"0056\": 1.0283328600514603, \"Date\": \"2021-07-14T00:00:00\"}, {\"0050\": 1.0511490694400487, \"0056\": 1.0432448796817362, \"Date\": \"2021-07-15T00:00:00\"}, {\"0050\": 1.0370644938934301, \"0056\": 1.0474202269750643, \"Date\": \"2021-07-16T00:00:00\"}, {\"0050\": 1.0252039237146477, \"0056\": 1.0480167214126372, \"Date\": \"2021-07-19T00:00:00\"}, {\"0050\": 1.0170496898133496, \"0056\": 1.0307188378017513, \"Date\": \"2021-07-20T00:00:00\"}, {\"0050\": 1.0133432404240066, \"0056\": 1.0178944918181396, \"Date\": \"2021-07-21T00:00:00\"}, {\"0050\": 1.0203854716413865, \"0056\": 1.0202803557987496, \"Date\": \"2021-07-22T00:00:00\"}, {\"0050\": 1.0203854716413865, \"0056\": 1.0280346697175144, \"Date\": \"2021-07-23T00:00:00\"}, {\"0050\": 1.0114900157293352, \"0056\": 1.028929354489033, \"Date\": \"2021-07-26T00:00:00\"}, {\"0050\": 1.011119348168029, \"0056\": 1.0161050085054213, \"Date\": \"2021-07-27T00:00:00\"}, {\"0050\": 0.9951816610385976, \"0056\": 1.0107366723369475, \"Date\": \"2021-07-28T00:00:00\"}, {\"0050\": 1.0118606832906412, \"0056\": 1.01699969327694, \"Date\": \"2021-07-29T00:00:00\"}, {\"0050\": 1.008524901462604, \"0056\": 1.0110349764405744, \"Date\": \"2021-07-30T00:00:00\"}, {\"0050\": 1.0222386963360581, \"0056\": 1.0140173348587571, \"Date\": \"2021-08-02T00:00:00\"}, {\"0050\": 1.0263158132867072, \"0056\": 1.0184909862557123, \"Date\": \"2021-08-03T00:00:00\"}, {\"0050\": 1.0322461549320276, \"0056\": 1.024455703092078, \"Date\": \"2021-08-04T00:00:00\"}, {\"0050\": 1.0303929302373562, \"0056\": 1.0199821654648038, \"Date\": \"2021-08-05T00:00:00\"}, {\"0050\": 1.0289103731039908, \"0056\": 1.021473344673895, \"Date\": \"2021-08-06T00:00:00\"}, {\"0050\": 1.025945145725401, \"0056\": 1.01699969327694, \"Date\": \"2021-08-09T00:00:00\"}, {\"0050\": 1.0203854716413865, \"0056\": 1.0077543139187648, \"Date\": \"2021-08-10T00:00:00\"}, {\"0050\": 1.0170496898133496, \"0056\": 0.9988071248945355, \"Date\": \"2021-08-11T00:00:00\"}, {\"0050\": 1.015196465118678, \"0056\": 0.9994035055624273, \"Date\": \"2021-08-12T00:00:00\"}, {\"0050\": 1.0055596740840145, \"0056\": 0.9922457998509162, \"Date\": \"2021-08-13T00:00:00\"}, {\"0050\": 1.0033358949398958, \"0056\": 0.9800179483048772, \"Date\": \"2021-08-16T00:00:00\"}, {\"0050\": 0.9959229961612097, \"0056\": 0.9701759607394483, \"Date\": \"2021-08-17T00:00:00\"}, {\"0050\": 1.0, \"0056\": 0.9862809692448696, \"Date\": \"2021-08-18T00:00:00\"}, {\"0050\": 0.9770200816531887, \"0056\": 0.9639129397994559, \"Date\": \"2021-08-19T00:00:00\"}, {\"0050\": 0.9692365153131965, \"0056\": 0.9621234564867377, \"Date\": \"2021-08-20T00:00:00\"}, {\"0050\": 0.9959229961612097, \"0056\": 0.98061444274245, \"Date\": \"2021-08-23T00:00:00\"}, {\"0050\": 0.9988881104279406, \"0056\": 0.978228464992159, \"Date\": \"2021-08-24T00:00:00\"}, {\"0050\": 1.008524901462604, \"0056\": 0.9841932955982056, \"Date\": \"2021-08-25T00:00:00\"}, {\"0050\": 1.0155671326799842, \"0056\": 0.9838951052642597, \"Date\": \"2021-08-26T00:00:00\"}, {\"0050\": 1.0240919210307295, \"0056\": 0.9874739581200151, \"Date\": \"2021-08-27T00:00:00\"}, {\"0050\": 1.0340993796266993, \"0056\": 0.9928422942884889, \"Date\": \"2021-08-30T00:00:00\"}, {\"0050\": 1.0404003888333258, \"0056\": 0.9955264623727259, \"Date\": \"2021-08-31T00:00:00\"}, {\"0050\": 1.0452187277947282, \"0056\": 0.9958246527066718, \"Date\": \"2021-09-01T00:00:00\"}, {\"0050\": 1.0370644938934301, \"0056\": 0.9889651373291065, \"Date\": \"2021-09-02T00:00:00\"}, {\"0050\": 1.0518902914508022, \"0056\": 0.9913511150793975, \"Date\": \"2021-09-03T00:00:00\"}, {\"0050\": 1.0567087435240634, \"0056\": 0.9862809692448696, \"Date\": \"2021-09-06T00:00:00\"}, {\"0050\": 1.0518902914508022, \"0056\": 0.9889651373291065, \"Date\": \"2021-09-07T00:00:00\"}, {\"0050\": 1.0426241679774446, \"0056\": 0.978228464992159, \"Date\": \"2021-09-08T00:00:00\"}, {\"0050\": 1.0400297212720198, \"0056\": 0.9824038122854872, \"Date\": \"2021-09-09T00:00:00\"}, {\"0050\": 1.0522609590121081, \"0056\": 0.9907546206418248, \"Date\": \"2021-09-10T00:00:00\"}, {\"0050\": 1.048554509622765, \"0056\": 0.9964211471442445, \"Date\": \"2021-09-13T00:00:00\"}, {\"0050\": 1.0496665123066833, \"0056\": 0.9949299679351531, \"Date\": \"2021-09-14T00:00:00\"}, {\"0050\": 1.0433655031000568, \"0056\": 0.9940352831636344, \"Date\": \"2021-09-15T00:00:00\"}, {\"0050\": 1.0385471641386543, \"0056\": 0.9925439901848621, \"Date\": \"2021-09-16T00:00:00\"}, {\"0050\": 1.0415122784053852, \"0056\": 0.9967193374781903, \"Date\": \"2021-09-17T00:00:00\"}, {\"0050\": 1.0170496898133496, \"0056\": 0.9812109371800227, \"Date\": \"2021-09-22T00:00:00\"}, {\"0050\": 1.0229800314586701, \"0056\": 0.9865792733484966, \"Date\": \"2021-09-23T00:00:00\"}, {\"0050\": 1.0352112691987585, \"0056\": 0.9931404846224349, \"Date\": \"2021-09-24T00:00:00\"}, {\"0050\": 1.0378058290160421, \"0056\": 0.9931404846224349, \"Date\": \"2021-09-27T00:00:00\"}, {\"0050\": 1.0303929302373562, \"0056\": 0.9865792733484966, \"Date\": \"2021-09-28T00:00:00\"}, {\"0050\": 1.008154233901298, \"0056\": 0.9752461065739763, \"Date\": \"2021-09-29T00:00:00\"}, {\"0050\": 1.0159378002412902, \"0056\": 0.9773337802206403, \"Date\": \"2021-09-30T00:00:00\"}, {\"0050\": 0.9929577687826201, \"0056\": 0.9621234564867377, \"Date\": \"2021-10-01T00:00:00\"}, {\"0050\": 0.9870274271372995, \"0056\": 0.9495974146067528, \"Date\": \"2021-10-04T00:00:00\"}, {\"0050\": 0.985544870003934, \"0056\": 0.9531762674625084, \"Date\": \"2021-10-05T00:00:00\"}, {\"0050\": 0.9859155375652401, \"0056\": 0.9507903465970579, \"Date\": \"2021-10-06T00:00:00\"}, {\"0050\": 1.0033358949398958, \"0056\": 0.9713689496145939, \"Date\": \"2021-10-07T00:00:00\"}, {\"0050\": 0.9948109934772915, \"0056\": 0.9719654440521666, \"Date\": \"2021-10-08T00:00:00\"}, {\"0050\": 0.9848036479931808, \"0056\": 0.9615270758188459, \"Date\": \"2021-10-12T00:00:00\"}, {\"0050\": 0.9814677530532849, \"0056\": 0.9594392884025007, \"Date\": \"2021-10-13T00:00:00\"}, {\"0050\": 0.9840623128705686, \"0056\": 0.9597375925061277, \"Date\": \"2021-10-14T00:00:00\"}, {\"0050\": 1.0100074585959697, \"0056\": 0.9636147494655101, \"Date\": \"2021-10-15T00:00:00\"}, {\"0050\": 1.0070423443292387, \"0056\": 0.9651059286746014, \"Date\": \"2021-10-18T00:00:00\"}, {\"0050\": 1.015196465118678, \"0056\": 0.966298917549747, \"Date\": \"2021-10-19T00:00:00\"}, {\"0050\": 1.0126020184132534, \"0056\": 0.9654041190085473, \"Date\": \"2021-10-20T00:00:00\"}, {\"0050\": 1.0088955690239103, \"0056\": 0.966298917549747, \"Date\": \"2021-10-21T00:00:00\"}, {\"0050\": 1.0118606832906412, \"0056\": 0.9197733753462012, \"Date\": \"2021-10-22T00:00:00\"}, {\"0050\": 1.011119348168029, \"0056\": 0.9203698697837739, \"Date\": \"2021-10-25T00:00:00\"}, {\"0050\": 1.0196442496306333, \"0056\": 0.9260363962861935, \"Date\": \"2021-10-26T00:00:00\"}, {\"0050\": 1.0196442496306333, \"0056\": 0.9290188115892168, \"Date\": \"2021-10-27T00:00:00\"}, {\"0050\": 1.0166790222520434, \"0056\": 0.9361765741855683, \"Date\": \"2021-10-28T00:00:00\"}, {\"0050\": 1.0066716767679327, \"0056\": 0.9379660574982867, \"Date\": \"2021-10-29T00:00:00\"}, {\"0050\": 1.0118606832906412, \"0056\": 0.9412466631352557, \"Date\": \"2021-11-01T00:00:00\"}, {\"0050\": 1.0100074585959697, \"0056\": 0.9403519783637372, \"Date\": \"2021-11-02T00:00:00\"}, {\"0050\": 1.0126020184132534, \"0056\": 0.9475097409600887, \"Date\": \"2021-11-03T00:00:00\"}, {\"0050\": 1.0092661234733575, \"0056\": 0.9501939090443255, \"Date\": \"2021-11-04T00:00:00\"}, {\"0050\": 1.0237213665812823, \"0056\": 0.9528780771285624, \"Date\": \"2021-11-05T00:00:00\"}, {\"0050\": 1.0318754873707217, \"0056\": 0.9660006134461201, \"Date\": \"2021-11-08T00:00:00\"}, {\"0050\": 1.0429948355387506, \"0056\": 0.9648076245709746, \"Date\": \"2021-11-09T00:00:00\"}, {\"0050\": 1.0415122784053852, \"0056\": 0.9645094342370286, \"Date\": \"2021-11-10T00:00:00\"}, {\"0050\": 1.0322461549320276, \"0056\": 0.958842907734609, \"Date\": \"2021-11-11T00:00:00\"}, {\"0050\": 1.0355819367600647, \"0056\": 0.9603340869437004, \"Date\": \"2021-11-12T00:00:00\"}, {\"0050\": 1.0448480602334222, \"0056\": 0.9671936023212656, \"Date\": \"2021-11-15T00:00:00\"}, {\"0050\": 1.0467012849280937, \"0056\": 0.9719654440521666, \"Date\": \"2021-11-16T00:00:00\"}, {\"0050\": 1.0500370667561305, \"0056\": 0.9755442969079221, \"Date\": \"2021-11-17T00:00:00\"}, {\"0050\": 1.0559674084014512, \"0056\": 0.9835968011606327, \"Date\": \"2021-11-18T00:00:00\"}, {\"0050\": 1.0585619682187348, \"0056\": 0.9821056219515414, \"Date\": \"2021-11-19T00:00:00\"}, {\"0050\": 1.0559674084014512, \"0056\": 0.9821056219515414, \"Date\": \"2021-11-22T00:00:00\"}, {\"0050\": 1.0459600629173404, \"0056\": 0.9731584329273121, \"Date\": \"2021-11-23T00:00:00\"}, {\"0050\": 1.0415122784053852, \"0056\": 0.9725619384897394, \"Date\": \"2021-11-24T00:00:00\"}, {\"0050\": 1.0411416108440792, \"0056\": 0.9737549273648849, \"Date\": \"2021-11-25T00:00:00\"}, {\"0050\": 1.0240919210307295, \"0056\": 0.9648076245709746, \"Date\": \"2021-11-26T00:00:00\"}, {\"0050\": 1.0240919210307295, \"0056\": 0.9609305813812732, \"Date\": \"2021-11-29T00:00:00\"}, {\"0050\": 1.0229800314586701, \"0056\": 0.9633164453618831, \"Date\": \"2021-11-30T00:00:00\"}, {\"0050\": 1.0400297212720198, \"0056\": 0.9692812759679297, \"Date\": \"2021-12-01T00:00:00\"}, {\"0050\": 1.0511490694400487, \"0056\": 0.968386591196411, \"Date\": \"2021-12-02T00:00:00\"}, {\"0050\": 1.0507784018787427, \"0056\": 0.9737549273648849, \"Date\": \"2021-12-03T00:00:00\"}, {\"0050\": 1.0478132876120119, \"0056\": 0.9800179483048772, \"Date\": \"2021-12-06T00:00:00\"}, {\"0050\": 1.0511490694400487, \"0056\": 0.9850879803697241, \"Date\": \"2021-12-07T00:00:00\"}, {\"0050\": 1.0552261863906978, \"0056\": 0.9895616317666793, \"Date\": \"2021-12-08T00:00:00\"}, {\"0050\": 1.0526316265734141, \"0056\": 0.9937369790600076, \"Date\": \"2021-12-09T00:00:00\"}, {\"0050\": 1.0522609590121081, \"0056\": 0.9931404846224349, \"Date\": \"2021-12-10T00:00:00\"}, {\"0050\": 1.0489251771840713, \"0056\": 0.9940352831636344, \"Date\": \"2021-12-13T00:00:00\"}, {\"0050\": 1.0385471641386543, \"0056\": 0.9827021163891142, \"Date\": \"2021-12-14T00:00:00\"}, {\"0050\": 1.0400297212720198, \"0056\": 0.9853862844733511, \"Date\": \"2021-12-15T00:00:00\"}, {\"0050\": 1.0530022941347204, \"0056\": 0.99761413601939, \"Date\": \"2021-12-16T00:00:00\"}, {\"0050\": 1.0518902914508022, \"0056\": 0.9970176415818173, \"Date\": \"2021-12-17T00:00:00\"}, {\"0050\": 1.0426241679774446, \"0056\": 0.9964211471442445, \"Date\": \"2021-12-20T00:00:00\"}, {\"0050\": 1.051519737001355, \"0056\": 0.9949299679351531, \"Date\": \"2021-12-21T00:00:00\"}, {\"0050\": 1.051519737001355, \"0056\": 0.9931404846224349, \"Date\": \"2021-12-22T00:00:00\"}, {\"0050\": 1.0574499655348166, \"0056\": 0.9943334734975804, \"Date\": \"2021-12-23T00:00:00\"}, {\"0050\": 1.0604151929134062, \"0056\": 0.9928422942884889, \"Date\": \"2021-12-24T00:00:00\"}, {\"0050\": 1.0685693137028456, \"0056\": 0.9955264623727259, \"Date\": \"2021-12-27T00:00:00\"}, {\"0050\": 1.07709421516545, \"0056\": 1.0008947985411996, \"Date\": \"2021-12-28T00:00:00\"}, {\"0050\": 1.0819125541268522, \"0056\": 1.002385977750291, \"Date\": \"2021-12-29T00:00:00\"}, {\"0050\": 1.0785767722988153, \"0056\": 1.0014912929787725, \"Date\": \"2021-12-30T00:00:00\"}, {\"0050\": 1.0852483359548892, \"0056\": 0.9967193374781903, \"Date\": \"2022-01-03T00:00:00\"}, {\"0050\": 1.1089697025361716, \"0056\": 0.9964211471442445, \"Date\": \"2022-01-04T00:00:00\"}, {\"0050\": 1.106745810280194, \"0056\": 0.99761413601939, \"Date\": \"2022-01-05T00:00:00\"}, {\"0050\": 1.0963676841229182, \"0056\": 0.9964211471442445, \"Date\": \"2022-01-06T00:00:00\"}, {\"0050\": 1.0867310062001134, \"0056\": 0.9892633276630525, \"Date\": \"2022-01-07T00:00:00\"}, {\"0050\": 1.0937732374174933, \"0056\": 0.9922457998509162, \"Date\": \"2022-01-10T00:00:00\"}, {\"0050\": 1.0993329115015078, \"0056\": 0.990158126204252, \"Date\": \"2022-01-11T00:00:00\"}, {\"0050\": 1.1085990349748653, \"0056\": 0.9871756540163883, \"Date\": \"2022-01-12T00:00:00\"}, {\"0050\": 1.1141587090588798, \"0056\": 0.990158126204252, \"Date\": \"2022-01-13T00:00:00\"}, {\"0050\": 1.1141587090588798, \"0056\": 0.9886669469951607, \"Date\": \"2022-01-14T00:00:00\"}, {\"0050\": 1.1267606143602744, \"0056\": 0.9907546206418248, \"Date\": \"2022-01-17T00:00:00\"}, {\"0050\": 1.1141587090588798, \"0056\": 0.99761413601939, \"Date\": \"2022-01-18T00:00:00\"}, {\"0050\": 1.1008154686348732, \"0056\": 0.990456316538198, \"Date\": \"2022-01-19T00:00:00\"}, {\"0050\": 1.1052632531468285, \"0056\": 0.9949299679351531, \"Date\": \"2022-01-20T00:00:00\"}, {\"0050\": 1.0574499655348166, \"0056\": 0.9794214538673045, \"Date\": \"2022-01-21T00:00:00\"}, {\"0050\": 1.0674574241307864, \"0056\": 0.975842601011549, \"Date\": \"2022-01-24T00:00:00\"}, {\"0050\": 1.0500370667561305, \"0056\": 0.9645094342370286, \"Date\": \"2022-01-25T00:00:00\"}, {\"0050\": 1.0492958447453773, \"0056\": 0.966298917549747, \"Date\": \"2022-01-26T00:00:00\"}, {\"0050\": 1.0548555188293918, \"0056\": 0.9841932955982056, \"Date\": \"2022-02-07T00:00:00\"}, {\"0050\": 1.059303190229488, \"0056\": 0.9931404846224349, \"Date\": \"2022-02-08T00:00:00\"}, {\"0050\": 1.063009639618831, \"0056\": 0.9991053152284813, \"Date\": \"2022-02-09T00:00:00\"}, {\"0050\": 1.0752409904707783, \"0056\": 0.9988071248945355, \"Date\": \"2022-02-10T00:00:00\"}, {\"0050\": 1.0744996553481663, \"0056\": 0.9970176415818173, \"Date\": \"2022-02-11T00:00:00\"}, {\"0050\": 1.0578206330961226, \"0056\": 0.988070452557588, \"Date\": \"2022-02-14T00:00:00\"}, {\"0050\": 1.0530022941347204, \"0056\": 0.9871756540163883, \"Date\": \"2022-02-15T00:00:00\"}, {\"0050\": 1.0704225383975172, \"0056\": 0.9922457998509162, \"Date\": \"2022-02-16T00:00:00\"}, {\"0050\": 1.0711638735201292, \"0056\": 0.9943334734975804, \"Date\": \"2022-02-17T00:00:00\"}, {\"0050\": 1.0681987592533984, \"0056\": 0.9991053152284813, \"Date\": \"2022-02-18T00:00:00\"}, {\"0050\": 1.0659748669974207, \"0056\": 1.0080525042527106, \"Date\": \"2022-02-21T00:00:00\"}, {\"0050\": 1.051519737001355, \"0056\": 0.9988071248945355, \"Date\": \"2022-02-22T00:00:00\"}, {\"0050\": 1.0544848512680858, \"0056\": 1.0065613250436194, \"Date\": \"2022-02-23T00:00:00\"}, {\"0050\": 1.0289103731039908, \"0056\": 0.9898598221006252, \"Date\": \"2022-02-24T00:00:00\"}, {\"0050\": 1.0266864808480132, \"0056\": 0.9940352831636344, \"Date\": \"2022-02-25T00:00:00\"}, {\"0050\": 1.0411416108440792, \"0056\": 1.0104384820030017, \"Date\": \"2022-03-01T00:00:00\"}, {\"0050\": 1.0352112691987585, \"0056\": 1.0131226500872386, \"Date\": \"2022-03-02T00:00:00\"}, {\"0050\": 1.0374351614547361, \"0056\": 1.0205786599023765, \"Date\": \"2022-03-03T00:00:00\"}, {\"0050\": 1.0263158132867072, \"0056\": 1.0152103237339027, \"Date\": \"2022-03-04T00:00:00\"}, {\"0050\": 0.9933284363439261, \"0056\": 0.99761413601939, \"Date\": \"2022-03-07T00:00:00\"}, {\"0050\": 0.9722016295799274, \"0056\": 0.9841932955982056, \"Date\": \"2022-03-08T00:00:00\"}, {\"0050\": 0.9822090881758971, \"0056\": 0.9949299679351531, \"Date\": \"2022-03-09T00:00:00\"}, {\"0050\": 1.0107487937185817, \"0056\": 1.0107366723369475, \"Date\": \"2022-03-10T00:00:00\"}, {\"0050\": 0.9962935506106569, \"0056\": 1.0110349764405744, \"Date\": \"2022-03-11T00:00:00\"}, {\"0050\": 0.9962935506106569, \"0056\": 1.0178944918181396, \"Date\": \"2022-03-14T00:00:00\"}, {\"0050\": 0.9759080789692705, \"0056\": 1.007456009815138, \"Date\": \"2022-03-15T00:00:00\"}, {\"0050\": 0.9799851959199195, \"0056\": 1.0053683361684738, \"Date\": \"2022-03-16T00:00:00\"}, {\"0050\": 1.0100074585959697, \"0056\": 1.0086489986902833, \"Date\": \"2022-03-18T00:00:00\"}]}}, {\"mode\": \"vega-lite\"});\n",
              "</script>"
            ],
            "text/plain": [
              "alt.VConcatChart(...)"
            ]
          },
          "metadata": {},
          "execution_count": 25
        }
      ]
    },
    {
      "cell_type": "code",
      "source": [
        ""
      ],
      "metadata": {
        "id": "HDOY5MBnygO2"
      },
      "execution_count": null,
      "outputs": []
    }
  ]
}