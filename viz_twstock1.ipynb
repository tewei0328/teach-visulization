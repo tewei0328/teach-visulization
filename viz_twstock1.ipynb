{
  "nbformat": 4,
  "nbformat_minor": 0,
  "metadata": {
    "colab": {
      "name": "viz_twstock1.ipynb",
      "provenance": [],
      "authorship_tag": "ABX9TyNo+Pwb76YFNvQsOXYIlKqN",
      "include_colab_link": true
    },
    "kernelspec": {
      "name": "python3",
      "display_name": "Python 3"
    },
    "language_info": {
      "name": "python"
    }
  },
  "cells": [
    {
      "cell_type": "markdown",
      "metadata": {
        "id": "view-in-github",
        "colab_type": "text"
      },
      "source": [
        "<a href=\"https://colab.research.google.com/github/tewei0328/visulization/blob/main/viz_twstock1.ipynb\" target=\"_parent\"><img src=\"https://colab.research.google.com/assets/colab-badge.svg\" alt=\"Open In Colab\"/></a>"
      ]
    },
    {
      "cell_type": "markdown",
      "source": [
        "#『Python twstock 股票程式教學（一）』6行程式碼 輕鬆獲取股票及時資料\n",
        "https://www.youtube.com/watch?v=BKkcOFCxjAU"
      ],
      "metadata": {
        "id": "O4niK0XZM54b"
      }
    },
    {
      "cell_type": "code",
      "source": [
        "!pip install twstock"
      ],
      "metadata": {
        "colab": {
          "base_uri": "https://localhost:8080/"
        },
        "id": "trxGDp4GMwgj",
        "outputId": "407882f6-3c28-4b1a-8002-51645ae74cee"
      },
      "execution_count": 2,
      "outputs": [
        {
          "output_type": "stream",
          "name": "stdout",
          "text": [
            "Collecting twstock\n",
            "  Downloading twstock-1.3.1-py3-none-any.whl (1.9 MB)\n",
            "\u001b[?25l\r\u001b[K     |▏                               | 10 kB 16.7 MB/s eta 0:00:01\r\u001b[K     |▍                               | 20 kB 22.1 MB/s eta 0:00:01\r\u001b[K     |▌                               | 30 kB 26.5 MB/s eta 0:00:01\r\u001b[K     |▊                               | 40 kB 28.5 MB/s eta 0:00:01\r\u001b[K     |▉                               | 51 kB 30.5 MB/s eta 0:00:01\r\u001b[K     |█                               | 61 kB 33.5 MB/s eta 0:00:01\r\u001b[K     |█▏                              | 71 kB 34.6 MB/s eta 0:00:01\r\u001b[K     |█▍                              | 81 kB 29.8 MB/s eta 0:00:01\r\u001b[K     |█▌                              | 92 kB 30.7 MB/s eta 0:00:01\r\u001b[K     |█▊                              | 102 kB 30.4 MB/s eta 0:00:01\r\u001b[K     |█▉                              | 112 kB 30.4 MB/s eta 0:00:01\r\u001b[K     |██                              | 122 kB 30.4 MB/s eta 0:00:01\r\u001b[K     |██▏                             | 133 kB 30.4 MB/s eta 0:00:01\r\u001b[K     |██▍                             | 143 kB 30.4 MB/s eta 0:00:01\r\u001b[K     |██▌                             | 153 kB 30.4 MB/s eta 0:00:01\r\u001b[K     |██▊                             | 163 kB 30.4 MB/s eta 0:00:01\r\u001b[K     |██▉                             | 174 kB 30.4 MB/s eta 0:00:01\r\u001b[K     |███                             | 184 kB 30.4 MB/s eta 0:00:01\r\u001b[K     |███▏                            | 194 kB 30.4 MB/s eta 0:00:01\r\u001b[K     |███▍                            | 204 kB 30.4 MB/s eta 0:00:01\r\u001b[K     |███▌                            | 215 kB 30.4 MB/s eta 0:00:01\r\u001b[K     |███▊                            | 225 kB 30.4 MB/s eta 0:00:01\r\u001b[K     |███▉                            | 235 kB 30.4 MB/s eta 0:00:01\r\u001b[K     |████                            | 245 kB 30.4 MB/s eta 0:00:01\r\u001b[K     |████▎                           | 256 kB 30.4 MB/s eta 0:00:01\r\u001b[K     |████▍                           | 266 kB 30.4 MB/s eta 0:00:01\r\u001b[K     |████▋                           | 276 kB 30.4 MB/s eta 0:00:01\r\u001b[K     |████▊                           | 286 kB 30.4 MB/s eta 0:00:01\r\u001b[K     |█████                           | 296 kB 30.4 MB/s eta 0:00:01\r\u001b[K     |█████                           | 307 kB 30.4 MB/s eta 0:00:01\r\u001b[K     |█████▎                          | 317 kB 30.4 MB/s eta 0:00:01\r\u001b[K     |█████▍                          | 327 kB 30.4 MB/s eta 0:00:01\r\u001b[K     |█████▋                          | 337 kB 30.4 MB/s eta 0:00:01\r\u001b[K     |█████▊                          | 348 kB 30.4 MB/s eta 0:00:01\r\u001b[K     |██████                          | 358 kB 30.4 MB/s eta 0:00:01\r\u001b[K     |██████                          | 368 kB 30.4 MB/s eta 0:00:01\r\u001b[K     |██████▎                         | 378 kB 30.4 MB/s eta 0:00:01\r\u001b[K     |██████▍                         | 389 kB 30.4 MB/s eta 0:00:01\r\u001b[K     |██████▋                         | 399 kB 30.4 MB/s eta 0:00:01\r\u001b[K     |██████▊                         | 409 kB 30.4 MB/s eta 0:00:01\r\u001b[K     |███████                         | 419 kB 30.4 MB/s eta 0:00:01\r\u001b[K     |███████                         | 430 kB 30.4 MB/s eta 0:00:01\r\u001b[K     |███████▎                        | 440 kB 30.4 MB/s eta 0:00:01\r\u001b[K     |███████▍                        | 450 kB 30.4 MB/s eta 0:00:01\r\u001b[K     |███████▋                        | 460 kB 30.4 MB/s eta 0:00:01\r\u001b[K     |███████▊                        | 471 kB 30.4 MB/s eta 0:00:01\r\u001b[K     |████████                        | 481 kB 30.4 MB/s eta 0:00:01\r\u001b[K     |████████▏                       | 491 kB 30.4 MB/s eta 0:00:01\r\u001b[K     |████████▎                       | 501 kB 30.4 MB/s eta 0:00:01\r\u001b[K     |████████▌                       | 512 kB 30.4 MB/s eta 0:00:01\r\u001b[K     |████████▋                       | 522 kB 30.4 MB/s eta 0:00:01\r\u001b[K     |████████▉                       | 532 kB 30.4 MB/s eta 0:00:01\r\u001b[K     |█████████                       | 542 kB 30.4 MB/s eta 0:00:01\r\u001b[K     |█████████▏                      | 552 kB 30.4 MB/s eta 0:00:01\r\u001b[K     |█████████▎                      | 563 kB 30.4 MB/s eta 0:00:01\r\u001b[K     |█████████▌                      | 573 kB 30.4 MB/s eta 0:00:01\r\u001b[K     |█████████▋                      | 583 kB 30.4 MB/s eta 0:00:01\r\u001b[K     |█████████▉                      | 593 kB 30.4 MB/s eta 0:00:01\r\u001b[K     |██████████                      | 604 kB 30.4 MB/s eta 0:00:01\r\u001b[K     |██████████▏                     | 614 kB 30.4 MB/s eta 0:00:01\r\u001b[K     |██████████▎                     | 624 kB 30.4 MB/s eta 0:00:01\r\u001b[K     |██████████▌                     | 634 kB 30.4 MB/s eta 0:00:01\r\u001b[K     |██████████▋                     | 645 kB 30.4 MB/s eta 0:00:01\r\u001b[K     |██████████▉                     | 655 kB 30.4 MB/s eta 0:00:01\r\u001b[K     |███████████                     | 665 kB 30.4 MB/s eta 0:00:01\r\u001b[K     |███████████▏                    | 675 kB 30.4 MB/s eta 0:00:01\r\u001b[K     |███████████▎                    | 686 kB 30.4 MB/s eta 0:00:01\r\u001b[K     |███████████▌                    | 696 kB 30.4 MB/s eta 0:00:01\r\u001b[K     |███████████▋                    | 706 kB 30.4 MB/s eta 0:00:01\r\u001b[K     |███████████▉                    | 716 kB 30.4 MB/s eta 0:00:01\r\u001b[K     |████████████                    | 727 kB 30.4 MB/s eta 0:00:01\r\u001b[K     |████████████▏                   | 737 kB 30.4 MB/s eta 0:00:01\r\u001b[K     |████████████▍                   | 747 kB 30.4 MB/s eta 0:00:01\r\u001b[K     |████████████▌                   | 757 kB 30.4 MB/s eta 0:00:01\r\u001b[K     |████████████▊                   | 768 kB 30.4 MB/s eta 0:00:01\r\u001b[K     |████████████▉                   | 778 kB 30.4 MB/s eta 0:00:01\r\u001b[K     |█████████████                   | 788 kB 30.4 MB/s eta 0:00:01\r\u001b[K     |█████████████▏                  | 798 kB 30.4 MB/s eta 0:00:01\r\u001b[K     |█████████████▍                  | 808 kB 30.4 MB/s eta 0:00:01\r\u001b[K     |█████████████▌                  | 819 kB 30.4 MB/s eta 0:00:01\r\u001b[K     |█████████████▊                  | 829 kB 30.4 MB/s eta 0:00:01\r\u001b[K     |█████████████▉                  | 839 kB 30.4 MB/s eta 0:00:01\r\u001b[K     |██████████████                  | 849 kB 30.4 MB/s eta 0:00:01\r\u001b[K     |██████████████▏                 | 860 kB 30.4 MB/s eta 0:00:01\r\u001b[K     |██████████████▍                 | 870 kB 30.4 MB/s eta 0:00:01\r\u001b[K     |██████████████▌                 | 880 kB 30.4 MB/s eta 0:00:01\r\u001b[K     |██████████████▊                 | 890 kB 30.4 MB/s eta 0:00:01\r\u001b[K     |██████████████▉                 | 901 kB 30.4 MB/s eta 0:00:01\r\u001b[K     |███████████████                 | 911 kB 30.4 MB/s eta 0:00:01\r\u001b[K     |███████████████▏                | 921 kB 30.4 MB/s eta 0:00:01\r\u001b[K     |███████████████▍                | 931 kB 30.4 MB/s eta 0:00:01\r\u001b[K     |███████████████▌                | 942 kB 30.4 MB/s eta 0:00:01\r\u001b[K     |███████████████▊                | 952 kB 30.4 MB/s eta 0:00:01\r\u001b[K     |████████████████                | 962 kB 30.4 MB/s eta 0:00:01\r\u001b[K     |████████████████                | 972 kB 30.4 MB/s eta 0:00:01\r\u001b[K     |████████████████▎               | 983 kB 30.4 MB/s eta 0:00:01\r\u001b[K     |████████████████▍               | 993 kB 30.4 MB/s eta 0:00:01\r\u001b[K     |████████████████▋               | 1.0 MB 30.4 MB/s eta 0:00:01\r\u001b[K     |████████████████▊               | 1.0 MB 30.4 MB/s eta 0:00:01\r\u001b[K     |█████████████████               | 1.0 MB 30.4 MB/s eta 0:00:01\r\u001b[K     |█████████████████               | 1.0 MB 30.4 MB/s eta 0:00:01\r\u001b[K     |█████████████████▎              | 1.0 MB 30.4 MB/s eta 0:00:01\r\u001b[K     |█████████████████▍              | 1.1 MB 30.4 MB/s eta 0:00:01\r\u001b[K     |█████████████████▋              | 1.1 MB 30.4 MB/s eta 0:00:01\r\u001b[K     |█████████████████▊              | 1.1 MB 30.4 MB/s eta 0:00:01\r\u001b[K     |██████████████████              | 1.1 MB 30.4 MB/s eta 0:00:01\r\u001b[K     |██████████████████              | 1.1 MB 30.4 MB/s eta 0:00:01\r\u001b[K     |██████████████████▎             | 1.1 MB 30.4 MB/s eta 0:00:01\r\u001b[K     |██████████████████▍             | 1.1 MB 30.4 MB/s eta 0:00:01\r\u001b[K     |██████████████████▋             | 1.1 MB 30.4 MB/s eta 0:00:01\r\u001b[K     |██████████████████▊             | 1.1 MB 30.4 MB/s eta 0:00:01\r\u001b[K     |███████████████████             | 1.1 MB 30.4 MB/s eta 0:00:01\r\u001b[K     |███████████████████             | 1.2 MB 30.4 MB/s eta 0:00:01\r\u001b[K     |███████████████████▎            | 1.2 MB 30.4 MB/s eta 0:00:01\r\u001b[K     |███████████████████▍            | 1.2 MB 30.4 MB/s eta 0:00:01\r\u001b[K     |███████████████████▋            | 1.2 MB 30.4 MB/s eta 0:00:01\r\u001b[K     |███████████████████▊            | 1.2 MB 30.4 MB/s eta 0:00:01\r\u001b[K     |████████████████████            | 1.2 MB 30.4 MB/s eta 0:00:01\r\u001b[K     |████████████████████▏           | 1.2 MB 30.4 MB/s eta 0:00:01\r\u001b[K     |████████████████████▎           | 1.2 MB 30.4 MB/s eta 0:00:01\r\u001b[K     |████████████████████▌           | 1.2 MB 30.4 MB/s eta 0:00:01\r\u001b[K     |████████████████████▋           | 1.2 MB 30.4 MB/s eta 0:00:01\r\u001b[K     |████████████████████▉           | 1.3 MB 30.4 MB/s eta 0:00:01\r\u001b[K     |█████████████████████           | 1.3 MB 30.4 MB/s eta 0:00:01\r\u001b[K     |█████████████████████▏          | 1.3 MB 30.4 MB/s eta 0:00:01\r\u001b[K     |█████████████████████▎          | 1.3 MB 30.4 MB/s eta 0:00:01\r\u001b[K     |█████████████████████▌          | 1.3 MB 30.4 MB/s eta 0:00:01\r\u001b[K     |█████████████████████▋          | 1.3 MB 30.4 MB/s eta 0:00:01\r\u001b[K     |█████████████████████▉          | 1.3 MB 30.4 MB/s eta 0:00:01\r\u001b[K     |██████████████████████          | 1.3 MB 30.4 MB/s eta 0:00:01\r\u001b[K     |██████████████████████▏         | 1.3 MB 30.4 MB/s eta 0:00:01\r\u001b[K     |██████████████████████▎         | 1.4 MB 30.4 MB/s eta 0:00:01\r\u001b[K     |██████████████████████▌         | 1.4 MB 30.4 MB/s eta 0:00:01\r\u001b[K     |██████████████████████▋         | 1.4 MB 30.4 MB/s eta 0:00:01\r\u001b[K     |██████████████████████▉         | 1.4 MB 30.4 MB/s eta 0:00:01\r\u001b[K     |███████████████████████         | 1.4 MB 30.4 MB/s eta 0:00:01\r\u001b[K     |███████████████████████▏        | 1.4 MB 30.4 MB/s eta 0:00:01\r\u001b[K     |███████████████████████▎        | 1.4 MB 30.4 MB/s eta 0:00:01\r\u001b[K     |███████████████████████▌        | 1.4 MB 30.4 MB/s eta 0:00:01\r\u001b[K     |███████████████████████▋        | 1.4 MB 30.4 MB/s eta 0:00:01\r\u001b[K     |███████████████████████▉        | 1.4 MB 30.4 MB/s eta 0:00:01\r\u001b[K     |████████████████████████        | 1.5 MB 30.4 MB/s eta 0:00:01\r\u001b[K     |████████████████████████▏       | 1.5 MB 30.4 MB/s eta 0:00:01\r\u001b[K     |████████████████████████▍       | 1.5 MB 30.4 MB/s eta 0:00:01\r\u001b[K     |████████████████████████▌       | 1.5 MB 30.4 MB/s eta 0:00:01\r\u001b[K     |████████████████████████▊       | 1.5 MB 30.4 MB/s eta 0:00:01\r\u001b[K     |████████████████████████▉       | 1.5 MB 30.4 MB/s eta 0:00:01\r\u001b[K     |█████████████████████████       | 1.5 MB 30.4 MB/s eta 0:00:01\r\u001b[K     |█████████████████████████▏      | 1.5 MB 30.4 MB/s eta 0:00:01\r\u001b[K     |█████████████████████████▍      | 1.5 MB 30.4 MB/s eta 0:00:01\r\u001b[K     |█████████████████████████▌      | 1.5 MB 30.4 MB/s eta 0:00:01\r\u001b[K     |█████████████████████████▊      | 1.6 MB 30.4 MB/s eta 0:00:01\r\u001b[K     |█████████████████████████▉      | 1.6 MB 30.4 MB/s eta 0:00:01\r\u001b[K     |██████████████████████████      | 1.6 MB 30.4 MB/s eta 0:00:01\r\u001b[K     |██████████████████████████▏     | 1.6 MB 30.4 MB/s eta 0:00:01\r\u001b[K     |██████████████████████████▍     | 1.6 MB 30.4 MB/s eta 0:00:01\r\u001b[K     |██████████████████████████▌     | 1.6 MB 30.4 MB/s eta 0:00:01\r\u001b[K     |██████████████████████████▊     | 1.6 MB 30.4 MB/s eta 0:00:01\r\u001b[K     |██████████████████████████▉     | 1.6 MB 30.4 MB/s eta 0:00:01\r\u001b[K     |███████████████████████████     | 1.6 MB 30.4 MB/s eta 0:00:01\r\u001b[K     |███████████████████████████▏    | 1.6 MB 30.4 MB/s eta 0:00:01\r\u001b[K     |███████████████████████████▍    | 1.7 MB 30.4 MB/s eta 0:00:01\r\u001b[K     |███████████████████████████▌    | 1.7 MB 30.4 MB/s eta 0:00:01\r\u001b[K     |███████████████████████████▊    | 1.7 MB 30.4 MB/s eta 0:00:01\r\u001b[K     |████████████████████████████    | 1.7 MB 30.4 MB/s eta 0:00:01\r\u001b[K     |████████████████████████████    | 1.7 MB 30.4 MB/s eta 0:00:01\r\u001b[K     |████████████████████████████▎   | 1.7 MB 30.4 MB/s eta 0:00:01\r\u001b[K     |████████████████████████████▍   | 1.7 MB 30.4 MB/s eta 0:00:01\r\u001b[K     |████████████████████████████▋   | 1.7 MB 30.4 MB/s eta 0:00:01\r\u001b[K     |████████████████████████████▊   | 1.7 MB 30.4 MB/s eta 0:00:01\r\u001b[K     |█████████████████████████████   | 1.8 MB 30.4 MB/s eta 0:00:01\r\u001b[K     |█████████████████████████████   | 1.8 MB 30.4 MB/s eta 0:00:01\r\u001b[K     |█████████████████████████████▎  | 1.8 MB 30.4 MB/s eta 0:00:01\r\u001b[K     |█████████████████████████████▍  | 1.8 MB 30.4 MB/s eta 0:00:01\r\u001b[K     |█████████████████████████████▋  | 1.8 MB 30.4 MB/s eta 0:00:01\r\u001b[K     |█████████████████████████████▊  | 1.8 MB 30.4 MB/s eta 0:00:01\r\u001b[K     |██████████████████████████████  | 1.8 MB 30.4 MB/s eta 0:00:01\r\u001b[K     |██████████████████████████████  | 1.8 MB 30.4 MB/s eta 0:00:01\r\u001b[K     |██████████████████████████████▎ | 1.8 MB 30.4 MB/s eta 0:00:01\r\u001b[K     |██████████████████████████████▍ | 1.8 MB 30.4 MB/s eta 0:00:01\r\u001b[K     |██████████████████████████████▋ | 1.9 MB 30.4 MB/s eta 0:00:01\r\u001b[K     |██████████████████████████████▊ | 1.9 MB 30.4 MB/s eta 0:00:01\r\u001b[K     |███████████████████████████████ | 1.9 MB 30.4 MB/s eta 0:00:01\r\u001b[K     |███████████████████████████████ | 1.9 MB 30.4 MB/s eta 0:00:01\r\u001b[K     |███████████████████████████████▎| 1.9 MB 30.4 MB/s eta 0:00:01\r\u001b[K     |███████████████████████████████▍| 1.9 MB 30.4 MB/s eta 0:00:01\r\u001b[K     |███████████████████████████████▋| 1.9 MB 30.4 MB/s eta 0:00:01\r\u001b[K     |███████████████████████████████▉| 1.9 MB 30.4 MB/s eta 0:00:01\r\u001b[K     |████████████████████████████████| 1.9 MB 30.4 MB/s eta 0:00:01\r\u001b[K     |████████████████████████████████| 1.9 MB 30.4 MB/s \n",
            "\u001b[?25hRequirement already satisfied: requests in /usr/local/lib/python3.7/dist-packages (from twstock) (2.23.0)\n",
            "Requirement already satisfied: urllib3!=1.25.0,!=1.25.1,<1.26,>=1.21.1 in /usr/local/lib/python3.7/dist-packages (from requests->twstock) (1.24.3)\n",
            "Requirement already satisfied: certifi>=2017.4.17 in /usr/local/lib/python3.7/dist-packages (from requests->twstock) (2021.10.8)\n",
            "Requirement already satisfied: idna<3,>=2.5 in /usr/local/lib/python3.7/dist-packages (from requests->twstock) (2.10)\n",
            "Requirement already satisfied: chardet<4,>=3.0.2 in /usr/local/lib/python3.7/dist-packages (from requests->twstock) (3.0.4)\n",
            "Installing collected packages: twstock\n",
            "Successfully installed twstock-1.3.1\n"
          ]
        }
      ]
    },
    {
      "cell_type": "code",
      "execution_count": 4,
      "metadata": {
        "id": "gqJVLx7ZMa5w"
      },
      "outputs": [],
      "source": [
        "import twstock as t\n",
        "import pandas as p"
      ]
    },
    {
      "cell_type": "code",
      "source": [
        "stock=t.realtime.get('1215')"
      ],
      "metadata": {
        "id": "TNWL-LK7M5GC"
      },
      "execution_count": 6,
      "outputs": []
    },
    {
      "cell_type": "code",
      "source": [
        "print(stock['success'])"
      ],
      "metadata": {
        "colab": {
          "base_uri": "https://localhost:8080/"
        },
        "id": "Zb-bkBEVNXsL",
        "outputId": "b6f94551-6931-4916-b975-f5b5e1e61202"
      },
      "execution_count": 7,
      "outputs": [
        {
          "output_type": "stream",
          "name": "stdout",
          "text": [
            "True\n"
          ]
        }
      ]
    },
    {
      "cell_type": "code",
      "source": [
        "result=p.DataFrame(stock).T.iloc[1:3]"
      ],
      "metadata": {
        "id": "CuQ-W5kfNkOI"
      },
      "execution_count": 13,
      "outputs": []
    },
    {
      "cell_type": "code",
      "source": [
        "result.head()"
      ],
      "metadata": {
        "colab": {
          "base_uri": "https://localhost:8080/",
          "height": 191
        },
        "id": "7jsbRCwOOYSf",
        "outputId": "ddbddbdd-d7d9-4c74-c7c7-3436207b7b1e"
      },
      "execution_count": 14,
      "outputs": [
        {
          "output_type": "execute_result",
          "data": {
            "text/plain": [
              "          code  channel name      fullname                 time  \\\n",
              "info      1215  1215.tw   卜蜂  台灣卜蜂企業股份有限公司  2022-03-17 04:49:12   \n",
              "realtime   NaN      NaN  NaN           NaN                  NaN   \n",
              "\n",
              "         latest_trade_price trade_volume accumulate_trade_volume  \\\n",
              "info                    NaN          NaN                     NaN   \n",
              "realtime                  -            -                     558   \n",
              "\n",
              "                                         best_bid_price      best_bid_volume  \\\n",
              "info                                                NaN                  NaN   \n",
              "realtime  [81.3000, 81.2000, 81.1000, 81.0000, 80.9000]  [24, 21, 12, 31, 9]   \n",
              "\n",
              "                                         best_ask_price     best_ask_volume  \\\n",
              "info                                                NaN                 NaN   \n",
              "realtime  [81.5000, 81.7000, 81.8000, 81.9000, 82.0000]  [32, 3, 5, 18, 38]   \n",
              "\n",
              "             open     high      low  \n",
              "info          NaN      NaN      NaN  \n",
              "realtime  81.5000  81.9000  81.0000  "
            ],
            "text/html": [
              "\n",
              "  <div id=\"df-7a804388-239e-4961-a674-998f745679e4\">\n",
              "    <div class=\"colab-df-container\">\n",
              "      <div>\n",
              "<style scoped>\n",
              "    .dataframe tbody tr th:only-of-type {\n",
              "        vertical-align: middle;\n",
              "    }\n",
              "\n",
              "    .dataframe tbody tr th {\n",
              "        vertical-align: top;\n",
              "    }\n",
              "\n",
              "    .dataframe thead th {\n",
              "        text-align: right;\n",
              "    }\n",
              "</style>\n",
              "<table border=\"1\" class=\"dataframe\">\n",
              "  <thead>\n",
              "    <tr style=\"text-align: right;\">\n",
              "      <th></th>\n",
              "      <th>code</th>\n",
              "      <th>channel</th>\n",
              "      <th>name</th>\n",
              "      <th>fullname</th>\n",
              "      <th>time</th>\n",
              "      <th>latest_trade_price</th>\n",
              "      <th>trade_volume</th>\n",
              "      <th>accumulate_trade_volume</th>\n",
              "      <th>best_bid_price</th>\n",
              "      <th>best_bid_volume</th>\n",
              "      <th>best_ask_price</th>\n",
              "      <th>best_ask_volume</th>\n",
              "      <th>open</th>\n",
              "      <th>high</th>\n",
              "      <th>low</th>\n",
              "    </tr>\n",
              "  </thead>\n",
              "  <tbody>\n",
              "    <tr>\n",
              "      <th>info</th>\n",
              "      <td>1215</td>\n",
              "      <td>1215.tw</td>\n",
              "      <td>卜蜂</td>\n",
              "      <td>台灣卜蜂企業股份有限公司</td>\n",
              "      <td>2022-03-17 04:49:12</td>\n",
              "      <td>NaN</td>\n",
              "      <td>NaN</td>\n",
              "      <td>NaN</td>\n",
              "      <td>NaN</td>\n",
              "      <td>NaN</td>\n",
              "      <td>NaN</td>\n",
              "      <td>NaN</td>\n",
              "      <td>NaN</td>\n",
              "      <td>NaN</td>\n",
              "      <td>NaN</td>\n",
              "    </tr>\n",
              "    <tr>\n",
              "      <th>realtime</th>\n",
              "      <td>NaN</td>\n",
              "      <td>NaN</td>\n",
              "      <td>NaN</td>\n",
              "      <td>NaN</td>\n",
              "      <td>NaN</td>\n",
              "      <td>-</td>\n",
              "      <td>-</td>\n",
              "      <td>558</td>\n",
              "      <td>[81.3000, 81.2000, 81.1000, 81.0000, 80.9000]</td>\n",
              "      <td>[24, 21, 12, 31, 9]</td>\n",
              "      <td>[81.5000, 81.7000, 81.8000, 81.9000, 82.0000]</td>\n",
              "      <td>[32, 3, 5, 18, 38]</td>\n",
              "      <td>81.5000</td>\n",
              "      <td>81.9000</td>\n",
              "      <td>81.0000</td>\n",
              "    </tr>\n",
              "  </tbody>\n",
              "</table>\n",
              "</div>\n",
              "      <button class=\"colab-df-convert\" onclick=\"convertToInteractive('df-7a804388-239e-4961-a674-998f745679e4')\"\n",
              "              title=\"Convert this dataframe to an interactive table.\"\n",
              "              style=\"display:none;\">\n",
              "        \n",
              "  <svg xmlns=\"http://www.w3.org/2000/svg\" height=\"24px\"viewBox=\"0 0 24 24\"\n",
              "       width=\"24px\">\n",
              "    <path d=\"M0 0h24v24H0V0z\" fill=\"none\"/>\n",
              "    <path d=\"M18.56 5.44l.94 2.06.94-2.06 2.06-.94-2.06-.94-.94-2.06-.94 2.06-2.06.94zm-11 1L8.5 8.5l.94-2.06 2.06-.94-2.06-.94L8.5 2.5l-.94 2.06-2.06.94zm10 10l.94 2.06.94-2.06 2.06-.94-2.06-.94-.94-2.06-.94 2.06-2.06.94z\"/><path d=\"M17.41 7.96l-1.37-1.37c-.4-.4-.92-.59-1.43-.59-.52 0-1.04.2-1.43.59L10.3 9.45l-7.72 7.72c-.78.78-.78 2.05 0 2.83L4 21.41c.39.39.9.59 1.41.59.51 0 1.02-.2 1.41-.59l7.78-7.78 2.81-2.81c.8-.78.8-2.07 0-2.86zM5.41 20L4 18.59l7.72-7.72 1.47 1.35L5.41 20z\"/>\n",
              "  </svg>\n",
              "      </button>\n",
              "      \n",
              "  <style>\n",
              "    .colab-df-container {\n",
              "      display:flex;\n",
              "      flex-wrap:wrap;\n",
              "      gap: 12px;\n",
              "    }\n",
              "\n",
              "    .colab-df-convert {\n",
              "      background-color: #E8F0FE;\n",
              "      border: none;\n",
              "      border-radius: 50%;\n",
              "      cursor: pointer;\n",
              "      display: none;\n",
              "      fill: #1967D2;\n",
              "      height: 32px;\n",
              "      padding: 0 0 0 0;\n",
              "      width: 32px;\n",
              "    }\n",
              "\n",
              "    .colab-df-convert:hover {\n",
              "      background-color: #E2EBFA;\n",
              "      box-shadow: 0px 1px 2px rgba(60, 64, 67, 0.3), 0px 1px 3px 1px rgba(60, 64, 67, 0.15);\n",
              "      fill: #174EA6;\n",
              "    }\n",
              "\n",
              "    [theme=dark] .colab-df-convert {\n",
              "      background-color: #3B4455;\n",
              "      fill: #D2E3FC;\n",
              "    }\n",
              "\n",
              "    [theme=dark] .colab-df-convert:hover {\n",
              "      background-color: #434B5C;\n",
              "      box-shadow: 0px 1px 3px 1px rgba(0, 0, 0, 0.15);\n",
              "      filter: drop-shadow(0px 1px 2px rgba(0, 0, 0, 0.3));\n",
              "      fill: #FFFFFF;\n",
              "    }\n",
              "  </style>\n",
              "\n",
              "      <script>\n",
              "        const buttonEl =\n",
              "          document.querySelector('#df-7a804388-239e-4961-a674-998f745679e4 button.colab-df-convert');\n",
              "        buttonEl.style.display =\n",
              "          google.colab.kernel.accessAllowed ? 'block' : 'none';\n",
              "\n",
              "        async function convertToInteractive(key) {\n",
              "          const element = document.querySelector('#df-7a804388-239e-4961-a674-998f745679e4');\n",
              "          const dataTable =\n",
              "            await google.colab.kernel.invokeFunction('convertToInteractive',\n",
              "                                                     [key], {});\n",
              "          if (!dataTable) return;\n",
              "\n",
              "          const docLinkHtml = 'Like what you see? Visit the ' +\n",
              "            '<a target=\"_blank\" href=https://colab.research.google.com/notebooks/data_table.ipynb>data table notebook</a>'\n",
              "            + ' to learn more about interactive tables.';\n",
              "          element.innerHTML = '';\n",
              "          dataTable['output_type'] = 'display_data';\n",
              "          await google.colab.output.renderOutput(dataTable, element);\n",
              "          const docLink = document.createElement('div');\n",
              "          docLink.innerHTML = docLinkHtml;\n",
              "          element.appendChild(docLink);\n",
              "        }\n",
              "      </script>\n",
              "    </div>\n",
              "  </div>\n",
              "  "
            ]
          },
          "metadata": {},
          "execution_count": 14
        }
      ]
    },
    {
      "cell_type": "code",
      "source": [
        ""
      ],
      "metadata": {
        "id": "3X6kDh69OcwN"
      },
      "execution_count": null,
      "outputs": []
    }
  ]
}