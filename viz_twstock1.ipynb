{
  "nbformat": 4,
  "nbformat_minor": 0,
  "metadata": {
    "colab": {
      "name": "viz_twstock1.ipynb",
      "provenance": [],
      "authorship_tag": "ABX9TyM3whuUFBmHuGgerLlZTsrb",
      "include_colab_link": true
    },
    "kernelspec": {
      "name": "python3",
      "display_name": "Python 3"
    },
    "language_info": {
      "name": "python"
    }
  },
  "cells": [
    {
      "cell_type": "markdown",
      "metadata": {
        "id": "view-in-github",
        "colab_type": "text"
      },
      "source": [
        "<a href=\"https://colab.research.google.com/github/tewei0328/visulization/blob/main/viz_twstock1.ipynb\" target=\"_parent\"><img src=\"https://colab.research.google.com/assets/colab-badge.svg\" alt=\"Open In Colab\"/></a>"
      ]
    },
    {
      "cell_type": "markdown",
      "source": [
        "#『Python twstock 股票程式教學（一）』6行程式碼 輕鬆獲取股票及時資料\n",
        "https://www.youtube.com/watch?v=BKkcOFCxjAU"
      ],
      "metadata": {
        "id": "O4niK0XZM54b"
      }
    },
    {
      "cell_type": "code",
      "source": [
        "!pip install twstock"
      ],
      "metadata": {
        "colab": {
          "base_uri": "https://localhost:8080/"
        },
        "id": "trxGDp4GMwgj",
        "outputId": "407882f6-3c28-4b1a-8002-51645ae74cee"
      },
      "execution_count": 2,
      "outputs": [
        {
          "output_type": "stream",
          "name": "stdout",
          "text": [
            "Collecting twstock\n",
            "  Downloading twstock-1.3.1-py3-none-any.whl (1.9 MB)\n",
            "\u001b[?25l\r\u001b[K     |▏                               | 10 kB 16.7 MB/s eta 0:00:01\r\u001b[K     |▍                               | 20 kB 22.1 MB/s eta 0:00:01\r\u001b[K     |▌                               | 30 kB 26.5 MB/s eta 0:00:01\r\u001b[K     |▊                               | 40 kB 28.5 MB/s eta 0:00:01\r\u001b[K     |▉                               | 51 kB 30.5 MB/s eta 0:00:01\r\u001b[K     |█                               | 61 kB 33.5 MB/s eta 0:00:01\r\u001b[K     |█▏                              | 71 kB 34.6 MB/s eta 0:00:01\r\u001b[K     |█▍                              | 81 kB 29.8 MB/s eta 0:00:01\r\u001b[K     |█▌                              | 92 kB 30.7 MB/s eta 0:00:01\r\u001b[K     |█▊                              | 102 kB 30.4 MB/s eta 0:00:01\r\u001b[K     |█▉                              | 112 kB 30.4 MB/s eta 0:00:01\r\u001b[K     |██                              | 122 kB 30.4 MB/s eta 0:00:01\r\u001b[K     |██▏                             | 133 kB 30.4 MB/s eta 0:00:01\r\u001b[K     |██▍                             | 143 kB 30.4 MB/s eta 0:00:01\r\u001b[K     |██▌                             | 153 kB 30.4 MB/s eta 0:00:01\r\u001b[K     |██▊                             | 163 kB 30.4 MB/s eta 0:00:01\r\u001b[K     |██▉                             | 174 kB 30.4 MB/s eta 0:00:01\r\u001b[K     |███                             | 184 kB 30.4 MB/s eta 0:00:01\r\u001b[K     |███▏                            | 194 kB 30.4 MB/s eta 0:00:01\r\u001b[K     |███▍                            | 204 kB 30.4 MB/s eta 0:00:01\r\u001b[K     |███▌                            | 215 kB 30.4 MB/s eta 0:00:01\r\u001b[K     |███▊                            | 225 kB 30.4 MB/s eta 0:00:01\r\u001b[K     |███▉                            | 235 kB 30.4 MB/s eta 0:00:01\r\u001b[K     |████                            | 245 kB 30.4 MB/s eta 0:00:01\r\u001b[K     |████▎                           | 256 kB 30.4 MB/s eta 0:00:01\r\u001b[K     |████▍                           | 266 kB 30.4 MB/s eta 0:00:01\r\u001b[K     |████▋                           | 276 kB 30.4 MB/s eta 0:00:01\r\u001b[K     |████▊                           | 286 kB 30.4 MB/s eta 0:00:01\r\u001b[K     |█████                           | 296 kB 30.4 MB/s eta 0:00:01\r\u001b[K     |█████                           | 307 kB 30.4 MB/s eta 0:00:01\r\u001b[K     |█████▎                          | 317 kB 30.4 MB/s eta 0:00:01\r\u001b[K     |█████▍                          | 327 kB 30.4 MB/s eta 0:00:01\r\u001b[K     |█████▋                          | 337 kB 30.4 MB/s eta 0:00:01\r\u001b[K     |█████▊                          | 348 kB 30.4 MB/s eta 0:00:01\r\u001b[K     |██████                          | 358 kB 30.4 MB/s eta 0:00:01\r\u001b[K     |██████                          | 368 kB 30.4 MB/s eta 0:00:01\r\u001b[K     |██████▎                         | 378 kB 30.4 MB/s eta 0:00:01\r\u001b[K     |██████▍                         | 389 kB 30.4 MB/s eta 0:00:01\r\u001b[K     |██████▋                         | 399 kB 30.4 MB/s eta 0:00:01\r\u001b[K     |██████▊                         | 409 kB 30.4 MB/s eta 0:00:01\r\u001b[K     |███████                         | 419 kB 30.4 MB/s eta 0:00:01\r\u001b[K     |███████                         | 430 kB 30.4 MB/s eta 0:00:01\r\u001b[K     |███████▎                        | 440 kB 30.4 MB/s eta 0:00:01\r\u001b[K     |███████▍                        | 450 kB 30.4 MB/s eta 0:00:01\r\u001b[K     |███████▋                        | 460 kB 30.4 MB/s eta 0:00:01\r\u001b[K     |███████▊                        | 471 kB 30.4 MB/s eta 0:00:01\r\u001b[K     |████████                        | 481 kB 30.4 MB/s eta 0:00:01\r\u001b[K     |████████▏                       | 491 kB 30.4 MB/s eta 0:00:01\r\u001b[K     |████████▎                       | 501 kB 30.4 MB/s eta 0:00:01\r\u001b[K     |████████▌                       | 512 kB 30.4 MB/s eta 0:00:01\r\u001b[K     |████████▋                       | 522 kB 30.4 MB/s eta 0:00:01\r\u001b[K     |████████▉                       | 532 kB 30.4 MB/s eta 0:00:01\r\u001b[K     |█████████                       | 542 kB 30.4 MB/s eta 0:00:01\r\u001b[K     |█████████▏                      | 552 kB 30.4 MB/s eta 0:00:01\r\u001b[K     |█████████▎                      | 563 kB 30.4 MB/s eta 0:00:01\r\u001b[K     |█████████▌                      | 573 kB 30.4 MB/s eta 0:00:01\r\u001b[K     |█████████▋                      | 583 kB 30.4 MB/s eta 0:00:01\r\u001b[K     |█████████▉                      | 593 kB 30.4 MB/s eta 0:00:01\r\u001b[K     |██████████                      | 604 kB 30.4 MB/s eta 0:00:01\r\u001b[K     |██████████▏                     | 614 kB 30.4 MB/s eta 0:00:01\r\u001b[K     |██████████▎                     | 624 kB 30.4 MB/s eta 0:00:01\r\u001b[K     |██████████▌                     | 634 kB 30.4 MB/s eta 0:00:01\r\u001b[K     |██████████▋                     | 645 kB 30.4 MB/s eta 0:00:01\r\u001b[K     |██████████▉                     | 655 kB 30.4 MB/s eta 0:00:01\r\u001b[K     |███████████                     | 665 kB 30.4 MB/s eta 0:00:01\r\u001b[K     |███████████▏                    | 675 kB 30.4 MB/s eta 0:00:01\r\u001b[K     |███████████▎                    | 686 kB 30.4 MB/s eta 0:00:01\r\u001b[K     |███████████▌                    | 696 kB 30.4 MB/s eta 0:00:01\r\u001b[K     |███████████▋                    | 706 kB 30.4 MB/s eta 0:00:01\r\u001b[K     |███████████▉                    | 716 kB 30.4 MB/s eta 0:00:01\r\u001b[K     |████████████                    | 727 kB 30.4 MB/s eta 0:00:01\r\u001b[K     |████████████▏                   | 737 kB 30.4 MB/s eta 0:00:01\r\u001b[K     |████████████▍                   | 747 kB 30.4 MB/s eta 0:00:01\r\u001b[K     |████████████▌                   | 757 kB 30.4 MB/s eta 0:00:01\r\u001b[K     |████████████▊                   | 768 kB 30.4 MB/s eta 0:00:01\r\u001b[K     |████████████▉                   | 778 kB 30.4 MB/s eta 0:00:01\r\u001b[K     |█████████████                   | 788 kB 30.4 MB/s eta 0:00:01\r\u001b[K     |█████████████▏                  | 798 kB 30.4 MB/s eta 0:00:01\r\u001b[K     |█████████████▍                  | 808 kB 30.4 MB/s eta 0:00:01\r\u001b[K     |█████████████▌                  | 819 kB 30.4 MB/s eta 0:00:01\r\u001b[K     |█████████████▊                  | 829 kB 30.4 MB/s eta 0:00:01\r\u001b[K     |█████████████▉                  | 839 kB 30.4 MB/s eta 0:00:01\r\u001b[K     |██████████████                  | 849 kB 30.4 MB/s eta 0:00:01\r\u001b[K     |██████████████▏                 | 860 kB 30.4 MB/s eta 0:00:01\r\u001b[K     |██████████████▍                 | 870 kB 30.4 MB/s eta 0:00:01\r\u001b[K     |██████████████▌                 | 880 kB 30.4 MB/s eta 0:00:01\r\u001b[K     |██████████████▊                 | 890 kB 30.4 MB/s eta 0:00:01\r\u001b[K     |██████████████▉                 | 901 kB 30.4 MB/s eta 0:00:01\r\u001b[K     |███████████████                 | 911 kB 30.4 MB/s eta 0:00:01\r\u001b[K     |███████████████▏                | 921 kB 30.4 MB/s eta 0:00:01\r\u001b[K     |███████████████▍                | 931 kB 30.4 MB/s eta 0:00:01\r\u001b[K     |███████████████▌                | 942 kB 30.4 MB/s eta 0:00:01\r\u001b[K     |███████████████▊                | 952 kB 30.4 MB/s eta 0:00:01\r\u001b[K     |████████████████                | 962 kB 30.4 MB/s eta 0:00:01\r\u001b[K     |████████████████                | 972 kB 30.4 MB/s eta 0:00:01\r\u001b[K     |████████████████▎               | 983 kB 30.4 MB/s eta 0:00:01\r\u001b[K     |████████████████▍               | 993 kB 30.4 MB/s eta 0:00:01\r\u001b[K     |████████████████▋               | 1.0 MB 30.4 MB/s eta 0:00:01\r\u001b[K     |████████████████▊               | 1.0 MB 30.4 MB/s eta 0:00:01\r\u001b[K     |█████████████████               | 1.0 MB 30.4 MB/s eta 0:00:01\r\u001b[K     |█████████████████               | 1.0 MB 30.4 MB/s eta 0:00:01\r\u001b[K     |█████████████████▎              | 1.0 MB 30.4 MB/s eta 0:00:01\r\u001b[K     |█████████████████▍              | 1.1 MB 30.4 MB/s eta 0:00:01\r\u001b[K     |█████████████████▋              | 1.1 MB 30.4 MB/s eta 0:00:01\r\u001b[K     |█████████████████▊              | 1.1 MB 30.4 MB/s eta 0:00:01\r\u001b[K     |██████████████████              | 1.1 MB 30.4 MB/s eta 0:00:01\r\u001b[K     |██████████████████              | 1.1 MB 30.4 MB/s eta 0:00:01\r\u001b[K     |██████████████████▎             | 1.1 MB 30.4 MB/s eta 0:00:01\r\u001b[K     |██████████████████▍             | 1.1 MB 30.4 MB/s eta 0:00:01\r\u001b[K     |██████████████████▋             | 1.1 MB 30.4 MB/s eta 0:00:01\r\u001b[K     |██████████████████▊             | 1.1 MB 30.4 MB/s eta 0:00:01\r\u001b[K     |███████████████████             | 1.1 MB 30.4 MB/s eta 0:00:01\r\u001b[K     |███████████████████             | 1.2 MB 30.4 MB/s eta 0:00:01\r\u001b[K     |███████████████████▎            | 1.2 MB 30.4 MB/s eta 0:00:01\r\u001b[K     |███████████████████▍            | 1.2 MB 30.4 MB/s eta 0:00:01\r\u001b[K     |███████████████████▋            | 1.2 MB 30.4 MB/s eta 0:00:01\r\u001b[K     |███████████████████▊            | 1.2 MB 30.4 MB/s eta 0:00:01\r\u001b[K     |████████████████████            | 1.2 MB 30.4 MB/s eta 0:00:01\r\u001b[K     |████████████████████▏           | 1.2 MB 30.4 MB/s eta 0:00:01\r\u001b[K     |████████████████████▎           | 1.2 MB 30.4 MB/s eta 0:00:01\r\u001b[K     |████████████████████▌           | 1.2 MB 30.4 MB/s eta 0:00:01\r\u001b[K     |████████████████████▋           | 1.2 MB 30.4 MB/s eta 0:00:01\r\u001b[K     |████████████████████▉           | 1.3 MB 30.4 MB/s eta 0:00:01\r\u001b[K     |█████████████████████           | 1.3 MB 30.4 MB/s eta 0:00:01\r\u001b[K     |█████████████████████▏          | 1.3 MB 30.4 MB/s eta 0:00:01\r\u001b[K     |█████████████████████▎          | 1.3 MB 30.4 MB/s eta 0:00:01\r\u001b[K     |█████████████████████▌          | 1.3 MB 30.4 MB/s eta 0:00:01\r\u001b[K     |█████████████████████▋          | 1.3 MB 30.4 MB/s eta 0:00:01\r\u001b[K     |█████████████████████▉          | 1.3 MB 30.4 MB/s eta 0:00:01\r\u001b[K     |██████████████████████          | 1.3 MB 30.4 MB/s eta 0:00:01\r\u001b[K     |██████████████████████▏         | 1.3 MB 30.4 MB/s eta 0:00:01\r\u001b[K     |██████████████████████▎         | 1.4 MB 30.4 MB/s eta 0:00:01\r\u001b[K     |██████████████████████▌         | 1.4 MB 30.4 MB/s eta 0:00:01\r\u001b[K     |██████████████████████▋         | 1.4 MB 30.4 MB/s eta 0:00:01\r\u001b[K     |██████████████████████▉         | 1.4 MB 30.4 MB/s eta 0:00:01\r\u001b[K     |███████████████████████         | 1.4 MB 30.4 MB/s eta 0:00:01\r\u001b[K     |███████████████████████▏        | 1.4 MB 30.4 MB/s eta 0:00:01\r\u001b[K     |███████████████████████▎        | 1.4 MB 30.4 MB/s eta 0:00:01\r\u001b[K     |███████████████████████▌        | 1.4 MB 30.4 MB/s eta 0:00:01\r\u001b[K     |███████████████████████▋        | 1.4 MB 30.4 MB/s eta 0:00:01\r\u001b[K     |███████████████████████▉        | 1.4 MB 30.4 MB/s eta 0:00:01\r\u001b[K     |████████████████████████        | 1.5 MB 30.4 MB/s eta 0:00:01\r\u001b[K     |████████████████████████▏       | 1.5 MB 30.4 MB/s eta 0:00:01\r\u001b[K     |████████████████████████▍       | 1.5 MB 30.4 MB/s eta 0:00:01\r\u001b[K     |████████████████████████▌       | 1.5 MB 30.4 MB/s eta 0:00:01\r\u001b[K     |████████████████████████▊       | 1.5 MB 30.4 MB/s eta 0:00:01\r\u001b[K     |████████████████████████▉       | 1.5 MB 30.4 MB/s eta 0:00:01\r\u001b[K     |█████████████████████████       | 1.5 MB 30.4 MB/s eta 0:00:01\r\u001b[K     |█████████████████████████▏      | 1.5 MB 30.4 MB/s eta 0:00:01\r\u001b[K     |█████████████████████████▍      | 1.5 MB 30.4 MB/s eta 0:00:01\r\u001b[K     |█████████████████████████▌      | 1.5 MB 30.4 MB/s eta 0:00:01\r\u001b[K     |█████████████████████████▊      | 1.6 MB 30.4 MB/s eta 0:00:01\r\u001b[K     |█████████████████████████▉      | 1.6 MB 30.4 MB/s eta 0:00:01\r\u001b[K     |██████████████████████████      | 1.6 MB 30.4 MB/s eta 0:00:01\r\u001b[K     |██████████████████████████▏     | 1.6 MB 30.4 MB/s eta 0:00:01\r\u001b[K     |██████████████████████████▍     | 1.6 MB 30.4 MB/s eta 0:00:01\r\u001b[K     |██████████████████████████▌     | 1.6 MB 30.4 MB/s eta 0:00:01\r\u001b[K     |██████████████████████████▊     | 1.6 MB 30.4 MB/s eta 0:00:01\r\u001b[K     |██████████████████████████▉     | 1.6 MB 30.4 MB/s eta 0:00:01\r\u001b[K     |███████████████████████████     | 1.6 MB 30.4 MB/s eta 0:00:01\r\u001b[K     |███████████████████████████▏    | 1.6 MB 30.4 MB/s eta 0:00:01\r\u001b[K     |███████████████████████████▍    | 1.7 MB 30.4 MB/s eta 0:00:01\r\u001b[K     |███████████████████████████▌    | 1.7 MB 30.4 MB/s eta 0:00:01\r\u001b[K     |███████████████████████████▊    | 1.7 MB 30.4 MB/s eta 0:00:01\r\u001b[K     |████████████████████████████    | 1.7 MB 30.4 MB/s eta 0:00:01\r\u001b[K     |████████████████████████████    | 1.7 MB 30.4 MB/s eta 0:00:01\r\u001b[K     |████████████████████████████▎   | 1.7 MB 30.4 MB/s eta 0:00:01\r\u001b[K     |████████████████████████████▍   | 1.7 MB 30.4 MB/s eta 0:00:01\r\u001b[K     |████████████████████████████▋   | 1.7 MB 30.4 MB/s eta 0:00:01\r\u001b[K     |████████████████████████████▊   | 1.7 MB 30.4 MB/s eta 0:00:01\r\u001b[K     |█████████████████████████████   | 1.8 MB 30.4 MB/s eta 0:00:01\r\u001b[K     |█████████████████████████████   | 1.8 MB 30.4 MB/s eta 0:00:01\r\u001b[K     |█████████████████████████████▎  | 1.8 MB 30.4 MB/s eta 0:00:01\r\u001b[K     |█████████████████████████████▍  | 1.8 MB 30.4 MB/s eta 0:00:01\r\u001b[K     |█████████████████████████████▋  | 1.8 MB 30.4 MB/s eta 0:00:01\r\u001b[K     |█████████████████████████████▊  | 1.8 MB 30.4 MB/s eta 0:00:01\r\u001b[K     |██████████████████████████████  | 1.8 MB 30.4 MB/s eta 0:00:01\r\u001b[K     |██████████████████████████████  | 1.8 MB 30.4 MB/s eta 0:00:01\r\u001b[K     |██████████████████████████████▎ | 1.8 MB 30.4 MB/s eta 0:00:01\r\u001b[K     |██████████████████████████████▍ | 1.8 MB 30.4 MB/s eta 0:00:01\r\u001b[K     |██████████████████████████████▋ | 1.9 MB 30.4 MB/s eta 0:00:01\r\u001b[K     |██████████████████████████████▊ | 1.9 MB 30.4 MB/s eta 0:00:01\r\u001b[K     |███████████████████████████████ | 1.9 MB 30.4 MB/s eta 0:00:01\r\u001b[K     |███████████████████████████████ | 1.9 MB 30.4 MB/s eta 0:00:01\r\u001b[K     |███████████████████████████████▎| 1.9 MB 30.4 MB/s eta 0:00:01\r\u001b[K     |███████████████████████████████▍| 1.9 MB 30.4 MB/s eta 0:00:01\r\u001b[K     |███████████████████████████████▋| 1.9 MB 30.4 MB/s eta 0:00:01\r\u001b[K     |███████████████████████████████▉| 1.9 MB 30.4 MB/s eta 0:00:01\r\u001b[K     |████████████████████████████████| 1.9 MB 30.4 MB/s eta 0:00:01\r\u001b[K     |████████████████████████████████| 1.9 MB 30.4 MB/s \n",
            "\u001b[?25hRequirement already satisfied: requests in /usr/local/lib/python3.7/dist-packages (from twstock) (2.23.0)\n",
            "Requirement already satisfied: urllib3!=1.25.0,!=1.25.1,<1.26,>=1.21.1 in /usr/local/lib/python3.7/dist-packages (from requests->twstock) (1.24.3)\n",
            "Requirement already satisfied: certifi>=2017.4.17 in /usr/local/lib/python3.7/dist-packages (from requests->twstock) (2021.10.8)\n",
            "Requirement already satisfied: idna<3,>=2.5 in /usr/local/lib/python3.7/dist-packages (from requests->twstock) (2.10)\n",
            "Requirement already satisfied: chardet<4,>=3.0.2 in /usr/local/lib/python3.7/dist-packages (from requests->twstock) (3.0.4)\n",
            "Installing collected packages: twstock\n",
            "Successfully installed twstock-1.3.1\n"
          ]
        }
      ]
    },
    {
      "cell_type": "code",
      "execution_count": 4,
      "metadata": {
        "id": "gqJVLx7ZMa5w"
      },
      "outputs": [],
      "source": [
        "import twstock as t\n",
        "import pandas as p"
      ]
    },
    {
      "cell_type": "code",
      "source": [
        "stock=t.realtime.get('1215')"
      ],
      "metadata": {
        "id": "TNWL-LK7M5GC"
      },
      "execution_count": 6,
      "outputs": []
    },
    {
      "cell_type": "code",
      "source": [
        "print(stock['success'])"
      ],
      "metadata": {
        "colab": {
          "base_uri": "https://localhost:8080/"
        },
        "id": "Zb-bkBEVNXsL",
        "outputId": "b6f94551-6931-4916-b975-f5b5e1e61202"
      },
      "execution_count": 7,
      "outputs": [
        {
          "output_type": "stream",
          "name": "stdout",
          "text": [
            "True\n"
          ]
        }
      ]
    },
    {
      "cell_type": "code",
      "source": [
        ""
      ],
      "metadata": {
        "id": "CuQ-W5kfNkOI"
      },
      "execution_count": null,
      "outputs": []
    }
  ]
}